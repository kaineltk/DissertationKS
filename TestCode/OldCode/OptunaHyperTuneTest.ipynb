{
 "cells": [
  {
   "attachments": {},
   "cell_type": "markdown",
   "metadata": {},
   "source": [
    "### Setup"
   ]
  },
  {
   "attachments": {},
   "cell_type": "markdown",
   "metadata": {},
   "source": [
    "conda create --prefix=D:/L6_SWD/Dissertation/Project/CondaEnvs/diss_test python=3.8\n",
    "\n",
    "conda activate diss_test\n",
    "\n",
    "conda install ipykernel"
   ]
  },
  {
   "attachments": {},
   "cell_type": "markdown",
   "metadata": {},
   "source": [
    "#### Pip installs"
   ]
  },
  {
   "attachments": {},
   "cell_type": "markdown",
   "metadata": {},
   "source": [
    "pip install gymnasium[atari]\n",
    "pip install gymnasium[accept-rom-license]\n",
    "\n",
    "\n",
    "pip install stable-baselines3\n",
    "pip install ale-py==0.7.4\n",
    "pip install opencv-python\n",
    "\n",
    "pip install tensorflow\n",
    "pip install optuna\n",
    "\n",
    "\n",
    "pip install rl_zoo3\n",
    "pip install plotly\n",
    "pip install --upgrade nbformat\n",
    "pip install scikit-learn"
   ]
  },
  {
   "attachments": {},
   "cell_type": "markdown",
   "metadata": {},
   "source": [
    "### Import"
   ]
  },
  {
   "cell_type": "code",
   "execution_count": 1,
   "metadata": {},
   "outputs": [
    {
     "name": "stderr",
     "output_type": "stream",
     "text": [
      "c:\\Users\\kaine\\Anaconda3\\envs\\diss_test\\lib\\site-packages\\tqdm\\auto.py:21: TqdmWarning: IProgress not found. Please update jupyter and ipywidgets. See https://ipywidgets.readthedocs.io/en/stable/user_install.html\n",
      "  from .autonotebook import tqdm as notebook_tqdm\n"
     ]
    }
   ],
   "source": [
    "import optuna\n",
    "from stable_baselines3 import A2C\n",
    "import torch\n",
    "import torch.nn as nn\n",
    "import gym\n",
    "from stable_baselines3.common.env_util import make_atari_env\n",
    "from stable_baselines3.common.callbacks import EvalCallback\n",
    "from stable_baselines3.common.monitor import Monitor\n",
    "from optuna.pruners import NopPruner\n",
    "from optuna.samplers import TPESampler\n",
    "from rl_zoo3 import linear_schedule\n",
    "from optuna.visualization import plot_optimization_history, plot_param_importances, plot_parallel_coordinate\n",
    "import sklearn\n",
    "from stable_baselines3.common.vec_env import VecFrameStack\n",
    "from stable_baselines3.common.vec_env import VecTransposeImage\n",
    "from stable_baselines3.common.vec_env import DummyVecEnv\n",
    "from stable_baselines3.common.evaluation import evaluate_policy\n"
   ]
  },
  {
   "attachments": {},
   "cell_type": "markdown",
   "metadata": {},
   "source": [
    "### Data"
   ]
  },
  {
   "cell_type": "code",
   "execution_count": 2,
   "metadata": {},
   "outputs": [],
   "source": [
    "N_TRIALS = 10 \n",
    "N_STARTUP_TRIALS = 5\n",
    "N_EVALUATIONS = 1\n",
    "N_TIMESTEPS = 500000\n",
    "EVAL_FREQ = int(N_TIMESTEPS / N_EVALUATIONS)\n",
    "N_EVAL_EPISODES = 10\n",
    "N_JOBS = 2 # Number of jobs to run in parallel\n",
    "\n",
    "ENV_AMT = 1\n",
    "\n",
    "ENV_ID = \"ALE/Amidar-v5\"\n",
    "DEFAULT_HYPERPARAMS = {\n",
    "    \"policy\": \"CnnPolicy\"\n",
    "}"
   ]
  },
  {
   "attachments": {},
   "cell_type": "markdown",
   "metadata": {},
   "source": [
    "### Sample Params"
   ]
  },
  {
   "cell_type": "code",
   "execution_count": 3,
   "metadata": {},
   "outputs": [],
   "source": [
    "#SOURCE: https://github.com/DLR-RM/rl-baselines3-zoo/blob/master/rl_zoo3/hyperparams_opt.py\n",
    "def Sample_A2C_Params(trial): \n",
    "    gamma = trial.suggest_categorical(\"gamma\", [0.95, 0.98, 0.99, 0.995, 0.999, 0.9999, 0.99999])\n",
    "    normalize_advantage = trial.suggest_categorical(\"normalize_advantage\", [False, True])\n",
    "    max_grad_norm = trial.suggest_categorical(\"max_grad_norm\", [0.3, 0.5, 0.6, 0.7, 0.8, 0.9, 1, 2, 5])\n",
    "    use_rms_prop = trial.suggest_categorical(\"use_rms_prop\", [False, True])\n",
    "    gae_lambda = trial.suggest_categorical(\"gae_lambda\", [0.8, 0.9, 0.92, 0.95, 0.98, 0.99, 1.0])\n",
    "    n_steps = trial.suggest_categorical(\"n_steps\", [64 ,128, 256, 512, 1024])\n",
    "    lr_schedule = trial.suggest_categorical(\"lr_schedule\", [\"linear\", \"constant\"])\n",
    "    learning_rate = trial.suggest_float(\"learning_rate\", 1e-5, 1, log=True)\n",
    "    ent_coef = trial.suggest_float(\"ent_coef\", 0.00000001, 0.1, log=True)\n",
    "    vf_coef = trial.suggest_float(\"vf_coef\", 0, 1)\n",
    "    ortho_init = trial.suggest_categorical(\"ortho_init\", [False, True])\n",
    "    net_arch = trial.suggest_categorical(\"net_arch\", [\"small\", \"medium\"])\n",
    "    activation_fn = trial.suggest_categorical(\"activation_fn\", [\"tanh\", \"relu\"])\n",
    "\n",
    "    if lr_schedule == \"linear\":\n",
    "        learning_rate = linear_schedule(learning_rate)\n",
    "\n",
    "    net_arch = {\n",
    "        \"small\": dict(pi=[64, 64], vf=[64, 64]),\n",
    "        \"medium\": dict(pi=[256, 256], vf=[256, 256]),\n",
    "    }[net_arch]\n",
    "\n",
    "    activation_fn = {\"tanh\": nn.Tanh, \"relu\": nn.ReLU, \"elu\": nn.ELU, \"leaky_relu\": nn.LeakyReLU}[activation_fn]\n",
    "\n",
    "    return {\n",
    "        \"n_steps\": n_steps,\n",
    "        \"gamma\": gamma,\n",
    "        \"gae_lambda\": gae_lambda,\n",
    "        \"learning_rate\": learning_rate,\n",
    "        \"ent_coef\": ent_coef,\n",
    "        \"normalize_advantage\": normalize_advantage,\n",
    "        \"max_grad_norm\": max_grad_norm,\n",
    "        \"use_rms_prop\": use_rms_prop,\n",
    "        \"vf_coef\": vf_coef,\n",
    "        \"policy_kwargs\": dict(\n",
    "            net_arch=net_arch,\n",
    "            activation_fn=activation_fn,\n",
    "            ortho_init=ortho_init,\n",
    "        ),\n",
    "    }"
   ]
  },
  {
   "attachments": {},
   "cell_type": "markdown",
   "metadata": {},
   "source": [
    "### Trial"
   ]
  },
  {
   "cell_type": "code",
   "execution_count": 4,
   "metadata": {},
   "outputs": [],
   "source": [
    "class TrialEvalCallback(EvalCallback):\n",
    "    \"\"\"Callback used for evaluating and reporting a trial.\"\"\"\n",
    "\n",
    "    def __init__(\n",
    "        self,\n",
    "        eval_env: gym.Env,\n",
    "        trial: optuna.Trial,\n",
    "        n_eval_episodes: int = 5,\n",
    "        eval_freq: int = 10000,\n",
    "        deterministic: bool = True,\n",
    "        verbose: int = 0,\n",
    "    ):\n",
    "        \n",
    "        super().__init__(\n",
    "            eval_env=eval_env,\n",
    "            n_eval_episodes=n_eval_episodes,\n",
    "            eval_freq=eval_freq,\n",
    "            deterministic=deterministic,\n",
    "            verbose=verbose\n",
    "        )\n",
    "        \n",
    "        self.eval_env = VecTransposeImage(self.eval_env)\n",
    "        \n",
    "        self.trial = trial\n",
    "        self.eval_idx = 0\n",
    "        self.is_pruned = False\n",
    "\n",
    "    def _on_step(self) -> bool:        \n",
    "        if self.eval_freq > 0 and self.n_calls % self.eval_freq == 0:\n",
    "            super()._on_step()\n",
    "            self.eval_idx += 1\n",
    "            self.trial.report(self.last_mean_reward, self.eval_idx)\n",
    "            # Prune trial if need.\n",
    "            if self.trial.should_prune():\n",
    "                self.is_pruned = True\n",
    "                return False\n",
    "        return True"
   ]
  },
  {
   "attachments": {},
   "cell_type": "markdown",
   "metadata": {},
   "source": [
    "### Objective"
   ]
  },
  {
   "cell_type": "code",
   "execution_count": 5,
   "metadata": {},
   "outputs": [],
   "source": [
    "#Source: https://github.com/optuna/optuna-examples/blob/main/rl/sb3_simple.py\n",
    "def Objective(trial):\n",
    "    #Create Envs\n",
    "    envAmt = 8\n",
    "    envSeed = 47\n",
    "\n",
    "    # Create train Env.   \n",
    "    env_kwargs = {\n",
    "        \"clip_reward \": True,           \n",
    "    }\n",
    "    \n",
    "\n",
    "    train_env = make_atari_env(ENV_ID,n_envs=envAmt, seed=envSeed,wrapper_kwargs=env_kwargs)\n",
    "    train_env = VecFrameStack(train_env, n_stack=envAmt)\n",
    " \n",
    "    # Create Eval Env.\n",
    "    eval_env = make_atari_env(ENV_ID,n_envs=envAmt, seed=envSeed,wrapper_kwargs=env_kwargs)\n",
    "    eval_env = VecFrameStack(eval_env, n_stack=envAmt)\n",
    "\n",
    "\n",
    "    # Create the RL model.\n",
    "    kwargs = DEFAULT_HYPERPARAMS.copy()\n",
    "    kwargs.update(Sample_A2C_Params(trial))\n",
    "\n",
    "    model = A2C(env= train_env,**kwargs)\n",
    "\n",
    "  \n",
    "    \n",
    "    # Create the callback that will periodically evaluate and report the performance.\n",
    "    eval_callback = TrialEvalCallback(\n",
    "        eval_env, trial, n_eval_episodes=N_EVAL_EPISODES, eval_freq=EVAL_FREQ, deterministic=True\n",
    "    )\n",
    "\n",
    "    nan_encountered = False\n",
    "    try:\n",
    "        model.learn(N_TIMESTEPS, callback=eval_callback)\n",
    "    except AssertionError as e:\n",
    "        # Sometimes, random hyperparams can generate NaN.\n",
    "        print(e)\n",
    "        nan_encountered = True          \n",
    "\n",
    "    #Check closing conditions\n",
    "    if nan_encountered:       \n",
    "        model.env.close()\n",
    "        eval_env.close()      \n",
    "        return float(\"nan\")\n",
    "\n",
    "    if eval_callback.is_pruned:\n",
    "        model.env.close()\n",
    "        eval_env.close()  \n",
    "        raise optuna.exceptions.TrialPruned()\n",
    "    \n",
    "    #mean_reward, std_reward  = evaluate_policy(model, eval_env, n_eval_episodes=100, render=False)\n",
    "    #model.env.close()\n",
    "    #eval_env.close()      \n",
    "\n",
    "    mean_reward = eval_callback.last_mean_reward\n",
    "    model.env.close()\n",
    "    eval_env.close()  \n",
    "\n",
    "    return mean_reward"
   ]
  },
  {
   "attachments": {},
   "cell_type": "markdown",
   "metadata": {},
   "source": [
    "### Start Study"
   ]
  },
  {
   "cell_type": "code",
   "execution_count": 6,
   "metadata": {},
   "outputs": [
    {
     "name": "stderr",
     "output_type": "stream",
     "text": [
      "\u001b[32m[I 2023-05-29 06:35:50,670]\u001b[0m A new study created in memory with name: no-name-71a94015-7e69-4732-98a3-bb03b45eaea2\u001b[0m\n"
     ]
    },
    {
     "name": "stdout",
     "output_type": "stream",
     "text": [
      "Starting Optimize\n"
     ]
    },
    {
     "name": "stderr",
     "output_type": "stream",
     "text": [
      "\u001b[32m[I 2023-05-29 07:28:02,305]\u001b[0m Trial 0 finished with value: 20.0 and parameters: {'gamma': 0.95, 'normalize_advantage': False, 'max_grad_norm': 0.7, 'use_rms_prop': False, 'gae_lambda': 1.0, 'n_steps': 1024, 'lr_schedule': 'linear', 'learning_rate': 0.03022184829704538, 'ent_coef': 8.892231349916246e-05, 'vf_coef': 0.02308667368409789, 'ortho_init': False, 'net_arch': 'small', 'activation_fn': 'relu'}. Best is trial 0 with value: 20.0.\u001b[0m\n",
      "\u001b[32m[I 2023-05-29 07:30:18,241]\u001b[0m Trial 1 finished with value: 0.0 and parameters: {'gamma': 0.99, 'normalize_advantage': False, 'max_grad_norm': 5, 'use_rms_prop': False, 'gae_lambda': 0.99, 'n_steps': 1024, 'lr_schedule': 'linear', 'learning_rate': 0.00022027695743248512, 'ent_coef': 4.561855831069508e-08, 'vf_coef': 0.9987937970712781, 'ortho_init': True, 'net_arch': 'medium', 'activation_fn': 'relu'}. Best is trial 0 with value: 20.0.\u001b[0m\n",
      "\u001b[32m[I 2023-05-29 07:37:04,745]\u001b[0m Trial 2 finished with value: 0.0 and parameters: {'gamma': 0.995, 'normalize_advantage': False, 'max_grad_norm': 0.6, 'use_rms_prop': False, 'gae_lambda': 0.95, 'n_steps': 512, 'lr_schedule': 'linear', 'learning_rate': 0.04970700319627481, 'ent_coef': 5.068912410489215e-08, 'vf_coef': 0.2927055423211854, 'ortho_init': True, 'net_arch': 'medium', 'activation_fn': 'relu'}. Best is trial 0 with value: 20.0.\u001b[0m\n",
      "\u001b[32m[I 2023-05-29 07:37:54,955]\u001b[0m Trial 3 finished with value: 0.0 and parameters: {'gamma': 0.95, 'normalize_advantage': True, 'max_grad_norm': 2, 'use_rms_prop': True, 'gae_lambda': 0.95, 'n_steps': 64, 'lr_schedule': 'linear', 'learning_rate': 0.1281324589774427, 'ent_coef': 0.0003901586324555949, 'vf_coef': 0.5968889471224004, 'ortho_init': True, 'net_arch': 'small', 'activation_fn': 'tanh'}. Best is trial 0 with value: 20.0.\u001b[0m\n",
      "\u001b[32m[I 2023-05-29 08:23:58,765]\u001b[0m Trial 5 finished with value: 0.0 and parameters: {'gamma': 0.999, 'normalize_advantage': True, 'max_grad_norm': 0.7, 'use_rms_prop': False, 'gae_lambda': 0.92, 'n_steps': 512, 'lr_schedule': 'constant', 'learning_rate': 0.0009516094744356163, 'ent_coef': 2.0447929699211535e-06, 'vf_coef': 0.35803207516231894, 'ortho_init': True, 'net_arch': 'small', 'activation_fn': 'relu'}. Best is trial 0 with value: 20.0.\u001b[0m\n",
      "\u001b[32m[I 2023-05-29 08:25:14,545]\u001b[0m Trial 4 finished with value: 0.0 and parameters: {'gamma': 0.95, 'normalize_advantage': True, 'max_grad_norm': 0.9, 'use_rms_prop': True, 'gae_lambda': 0.95, 'n_steps': 64, 'lr_schedule': 'linear', 'learning_rate': 0.002445844710581002, 'ent_coef': 0.04108632172301614, 'vf_coef': 0.42929472315691086, 'ortho_init': False, 'net_arch': 'medium', 'activation_fn': 'relu'}. Best is trial 0 with value: 20.0.\u001b[0m\n",
      "\u001b[32m[I 2023-05-29 08:32:53,086]\u001b[0m Trial 6 finished with value: 0.0 and parameters: {'gamma': 0.999, 'normalize_advantage': True, 'max_grad_norm': 0.7, 'use_rms_prop': True, 'gae_lambda': 0.98, 'n_steps': 64, 'lr_schedule': 'constant', 'learning_rate': 2.232123135185e-05, 'ent_coef': 3.205714744099016e-07, 'vf_coef': 0.8949370567517855, 'ortho_init': False, 'net_arch': 'small', 'activation_fn': 'tanh'}. Best is trial 0 with value: 20.0.\u001b[0m\n",
      "\u001b[32m[I 2023-05-29 08:33:46,646]\u001b[0m Trial 7 finished with value: 0.0 and parameters: {'gamma': 0.9999, 'normalize_advantage': False, 'max_grad_norm': 0.9, 'use_rms_prop': True, 'gae_lambda': 0.95, 'n_steps': 64, 'lr_schedule': 'linear', 'learning_rate': 0.0004616101954621414, 'ent_coef': 8.107955060596196e-05, 'vf_coef': 0.5184451386893771, 'ortho_init': True, 'net_arch': 'small', 'activation_fn': 'relu'}. Best is trial 0 with value: 20.0.\u001b[0m\n",
      "\u001b[32m[I 2023-05-29 09:19:43,557]\u001b[0m Trial 9 finished with value: 6.0 and parameters: {'gamma': 0.98, 'normalize_advantage': False, 'max_grad_norm': 0.7, 'use_rms_prop': False, 'gae_lambda': 1.0, 'n_steps': 1024, 'lr_schedule': 'constant', 'learning_rate': 4.93784060869595e-05, 'ent_coef': 7.416861535254016e-05, 'vf_coef': 0.0684313513515517, 'ortho_init': False, 'net_arch': 'small', 'activation_fn': 'tanh'}. Best is trial 0 with value: 20.0.\u001b[0m\n",
      "\u001b[32m[I 2023-05-29 09:25:34,663]\u001b[0m Trial 8 finished with value: 0.0 and parameters: {'gamma': 0.99999, 'normalize_advantage': False, 'max_grad_norm': 0.7, 'use_rms_prop': True, 'gae_lambda': 1.0, 'n_steps': 1024, 'lr_schedule': 'constant', 'learning_rate': 0.870414805433626, 'ent_coef': 0.021396754488588417, 'vf_coef': 0.025492226213012878, 'ortho_init': False, 'net_arch': 'small', 'activation_fn': 'tanh'}. Best is trial 0 with value: 20.0.\u001b[0m\n",
      "\u001b[32m[I 2023-05-29 09:27:35,159]\u001b[0m Trial 11 finished with value: 20.0 and parameters: {'gamma': 0.98, 'normalize_advantage': False, 'max_grad_norm': 0.5, 'use_rms_prop': False, 'gae_lambda': 1.0, 'n_steps': 1024, 'lr_schedule': 'constant', 'learning_rate': 0.5561454810091004, 'ent_coef': 7.878524227597973e-06, 'vf_coef': 0.007395809980194623, 'ortho_init': False, 'net_arch': 'small', 'activation_fn': 'tanh'}. Best is trial 0 with value: 20.0.\u001b[0m\n",
      "\u001b[32m[I 2023-05-29 09:28:10,360]\u001b[0m Trial 10 finished with value: 0.0 and parameters: {'gamma': 0.9999, 'normalize_advantage': False, 'max_grad_norm': 0.5, 'use_rms_prop': False, 'gae_lambda': 1.0, 'n_steps': 128, 'lr_schedule': 'linear', 'learning_rate': 0.8326986297812048, 'ent_coef': 6.272533390365785e-05, 'vf_coef': 0.030493569099183104, 'ortho_init': False, 'net_arch': 'small', 'activation_fn': 'relu'}. Best is trial 0 with value: 20.0.\u001b[0m\n",
      "\u001b[32m[I 2023-05-29 10:14:31,764]\u001b[0m Trial 12 finished with value: 0.0 and parameters: {'gamma': 0.99999, 'normalize_advantage': False, 'max_grad_norm': 0.5, 'use_rms_prop': False, 'gae_lambda': 0.8, 'n_steps': 128, 'lr_schedule': 'linear', 'learning_rate': 0.017498983494381788, 'ent_coef': 4.8819919725490376e-06, 'vf_coef': 0.02781604371631574, 'ortho_init': False, 'net_arch': 'small', 'activation_fn': 'relu'}. Best is trial 0 with value: 20.0.\u001b[0m\n",
      "\u001b[32m[I 2023-05-29 10:20:51,266]\u001b[0m Trial 13 finished with value: 0.0 and parameters: {'gamma': 0.95, 'normalize_advantage': False, 'max_grad_norm': 0.3, 'use_rms_prop': False, 'gae_lambda': 0.8, 'n_steps': 128, 'lr_schedule': 'linear', 'learning_rate': 0.007648421085412631, 'ent_coef': 2.5216122490979903e-06, 'vf_coef': 0.15771976664157733, 'ortho_init': False, 'net_arch': 'medium', 'activation_fn': 'relu'}. Best is trial 0 with value: 20.0.\u001b[0m\n",
      "\u001b[32m[I 2023-05-29 10:21:52,109]\u001b[0m Trial 14 finished with value: 0.0 and parameters: {'gamma': 0.98, 'normalize_advantage': False, 'max_grad_norm': 0.5, 'use_rms_prop': False, 'gae_lambda': 1.0, 'n_steps': 256, 'lr_schedule': 'constant', 'learning_rate': 0.019400570300377038, 'ent_coef': 6.993808763038852e-06, 'vf_coef': 0.0173516980125015, 'ortho_init': False, 'net_arch': 'small', 'activation_fn': 'tanh'}. Best is trial 0 with value: 20.0.\u001b[0m\n",
      "\u001b[32m[I 2023-05-29 10:22:21,225]\u001b[0m Trial 15 finished with value: 0.0 and parameters: {'gamma': 0.98, 'normalize_advantage': False, 'max_grad_norm': 1, 'use_rms_prop': False, 'gae_lambda': 0.9, 'n_steps': 256, 'lr_schedule': 'constant', 'learning_rate': 0.018568436086381028, 'ent_coef': 4.825838716142259e-06, 'vf_coef': 0.2062749935230263, 'ortho_init': False, 'net_arch': 'small', 'activation_fn': 'tanh'}. Best is trial 0 with value: 20.0.\u001b[0m\n",
      "\u001b[32m[I 2023-05-29 11:08:55,029]\u001b[0m Trial 16 finished with value: 0.0 and parameters: {'gamma': 0.98, 'normalize_advantage': False, 'max_grad_norm': 0.3, 'use_rms_prop': False, 'gae_lambda': 0.9, 'n_steps': 256, 'lr_schedule': 'constant', 'learning_rate': 0.011446331758693779, 'ent_coef': 0.0008049289869330729, 'vf_coef': 0.1997797677570552, 'ortho_init': False, 'net_arch': 'small', 'activation_fn': 'tanh'}. Best is trial 0 with value: 20.0.\u001b[0m\n",
      "\u001b[32m[I 2023-05-29 11:15:14,629]\u001b[0m Trial 17 finished with value: 20.0 and parameters: {'gamma': 0.98, 'normalize_advantage': False, 'max_grad_norm': 0.8, 'use_rms_prop': False, 'gae_lambda': 0.9, 'n_steps': 256, 'lr_schedule': 'constant', 'learning_rate': 0.14356799379535307, 'ent_coef': 0.0011982695364697543, 'vf_coef': 0.2084453024351859, 'ortho_init': False, 'net_arch': 'small', 'activation_fn': 'tanh'}. Best is trial 0 with value: 20.0.\u001b[0m\n",
      "\u001b[32m[I 2023-05-29 11:16:43,140]\u001b[0m Trial 19 finished with value: 20.0 and parameters: {'gamma': 0.99, 'normalize_advantage': False, 'max_grad_norm': 0.8, 'use_rms_prop': False, 'gae_lambda': 1.0, 'n_steps': 1024, 'lr_schedule': 'constant', 'learning_rate': 0.2175990825012315, 'ent_coef': 0.0005774487761981041, 'vf_coef': 0.17262329111244423, 'ortho_init': False, 'net_arch': 'small', 'activation_fn': 'tanh'}. Best is trial 0 with value: 20.0.\u001b[0m\n",
      "\u001b[32m[I 2023-05-29 11:26:46,515]\u001b[0m Trial 18 finished with value: 0.0 and parameters: {'gamma': 0.98, 'normalize_advantage': False, 'max_grad_norm': 0.8, 'use_rms_prop': False, 'gae_lambda': 0.9, 'n_steps': 1024, 'lr_schedule': 'constant', 'learning_rate': 0.16009786997904624, 'ent_coef': 0.0007633872997814185, 'vf_coef': 0.19930526958686157, 'ortho_init': False, 'net_arch': 'small', 'activation_fn': 'tanh'}. Best is trial 0 with value: 20.0.\u001b[0m\n",
      "\u001b[32m[I 2023-05-29 12:45:47,349]\u001b[0m Trial 21 finished with value: 0.0 and parameters: {'gamma': 0.995, 'normalize_advantage': True, 'max_grad_norm': 1, 'use_rms_prop': False, 'gae_lambda': 1.0, 'n_steps': 1024, 'lr_schedule': 'constant', 'learning_rate': 0.19749340467129167, 'ent_coef': 4.5872208374199653e-07, 'vf_coef': 0.13314274212979016, 'ortho_init': False, 'net_arch': 'medium', 'activation_fn': 'relu'}. Best is trial 0 with value: 20.0.\u001b[0m\n",
      "\u001b[32m[I 2023-05-29 12:49:22,260]\u001b[0m Trial 20 finished with value: 0.0 and parameters: {'gamma': 0.99, 'normalize_advantage': False, 'max_grad_norm': 0.8, 'use_rms_prop': False, 'gae_lambda': 1.0, 'n_steps': 1024, 'lr_schedule': 'constant', 'learning_rate': 0.1356810991484285, 'ent_coef': 0.0011510391164518735, 'vf_coef': 0.16154163095229457, 'ortho_init': False, 'net_arch': 'small', 'activation_fn': 'tanh'}. Best is trial 0 with value: 20.0.\u001b[0m\n",
      "\u001b[32m[I 2023-05-29 12:49:34,239]\u001b[0m Trial 22 finished with value: 0.0 and parameters: {'gamma': 0.995, 'normalize_advantage': True, 'max_grad_norm': 5, 'use_rms_prop': False, 'gae_lambda': 0.92, 'n_steps': 1024, 'lr_schedule': 'linear', 'learning_rate': 0.06898443943845595, 'ent_coef': 2.1360197123866054e-05, 'vf_coef': 0.3026473348575353, 'ortho_init': False, 'net_arch': 'medium', 'activation_fn': 'relu'}. Best is trial 0 with value: 20.0.\u001b[0m\n",
      "\u001b[32m[I 2023-05-29 12:57:27,842]\u001b[0m Trial 23 finished with value: 0.0 and parameters: {'gamma': 0.995, 'normalize_advantage': True, 'max_grad_norm': 5, 'use_rms_prop': False, 'gae_lambda': 0.92, 'n_steps': 1024, 'lr_schedule': 'linear', 'learning_rate': 0.04296331320766291, 'ent_coef': 1.7740808653199425e-05, 'vf_coef': 0.12153733759480323, 'ortho_init': False, 'net_arch': 'medium', 'activation_fn': 'relu'}. Best is trial 0 with value: 20.0.\u001b[0m\n",
      "\u001b[32m[I 2023-05-29 14:19:26,775]\u001b[0m Trial 24 finished with value: 0.0 and parameters: {'gamma': 0.95, 'normalize_advantage': False, 'max_grad_norm': 0.8, 'use_rms_prop': False, 'gae_lambda': 0.92, 'n_steps': 256, 'lr_schedule': 'constant', 'learning_rate': 0.049478784775902264, 'ent_coef': 0.0032798589946978485, 'vf_coef': 0.10428041154220793, 'ortho_init': False, 'net_arch': 'small', 'activation_fn': 'tanh'}. Best is trial 0 with value: 20.0.\u001b[0m\n",
      "\u001b[32m[I 2023-05-29 14:21:16,055]\u001b[0m Trial 25 finished with value: 0.0 and parameters: {'gamma': 0.95, 'normalize_advantage': False, 'max_grad_norm': 2, 'use_rms_prop': False, 'gae_lambda': 0.92, 'n_steps': 256, 'lr_schedule': 'constant', 'learning_rate': 0.03814182545942061, 'ent_coef': 0.007601220953310874, 'vf_coef': 0.09459492381725476, 'ortho_init': False, 'net_arch': 'small', 'activation_fn': 'tanh'}. Best is trial 0 with value: 20.0.\u001b[0m\n",
      "\u001b[32m[I 2023-05-29 14:28:36,082]\u001b[0m Trial 27 finished with value: 0.0 and parameters: {'gamma': 0.95, 'normalize_advantage': False, 'max_grad_norm': 2, 'use_rms_prop': False, 'gae_lambda': 0.98, 'n_steps': 256, 'lr_schedule': 'constant', 'learning_rate': 0.4226463119062662, 'ent_coef': 0.005632062648000546, 'vf_coef': 0.0005757797507521534, 'ortho_init': False, 'net_arch': 'small', 'activation_fn': 'tanh'}. Best is trial 0 with value: 20.0.\u001b[0m\n",
      "\u001b[32m[I 2023-05-29 14:29:01,694]\u001b[0m Trial 26 finished with value: 0.0 and parameters: {'gamma': 0.95, 'normalize_advantage': False, 'max_grad_norm': 0.6, 'use_rms_prop': False, 'gae_lambda': 0.98, 'n_steps': 256, 'lr_schedule': 'constant', 'learning_rate': 0.44056439548188775, 'ent_coef': 0.005027264149124962, 'vf_coef': 0.09538078576029035, 'ortho_init': False, 'net_arch': 'small', 'activation_fn': 'tanh'}. Best is trial 0 with value: 20.0.\u001b[0m\n",
      "\u001b[32m[I 2023-05-29 15:17:54,599]\u001b[0m Trial 28 finished with value: 0.0 and parameters: {'gamma': 0.98, 'normalize_advantage': False, 'max_grad_norm': 0.6, 'use_rms_prop': False, 'gae_lambda': 0.98, 'n_steps': 256, 'lr_schedule': 'constant', 'learning_rate': 0.4151650905494346, 'ent_coef': 0.0002444058742518942, 'vf_coef': 0.08472666043416802, 'ortho_init': False, 'net_arch': 'small', 'activation_fn': 'tanh'}. Best is trial 0 with value: 20.0.\u001b[0m\n",
      "\u001b[32m[I 2023-05-29 15:28:24,546]\u001b[0m Trial 29 finished with value: 0.0 and parameters: {'gamma': 0.98, 'normalize_advantage': False, 'max_grad_norm': 0.6, 'use_rms_prop': True, 'gae_lambda': 0.98, 'n_steps': 512, 'lr_schedule': 'constant', 'learning_rate': 0.341804485656097, 'ent_coef': 0.00010666857248788978, 'vf_coef': 0.01632085469277872, 'ortho_init': True, 'net_arch': 'small', 'activation_fn': 'tanh'}. Best is trial 0 with value: 20.0.\u001b[0m\n",
      "\u001b[32m[I 2023-05-29 15:28:27,724]\u001b[0m Trial 31 finished with value: 0.0 and parameters: {'gamma': 0.98, 'normalize_advantage': False, 'max_grad_norm': 0.5, 'use_rms_prop': True, 'gae_lambda': 0.9, 'n_steps': 512, 'lr_schedule': 'linear', 'learning_rate': 0.005227381628199971, 'ent_coef': 0.00012733193733947742, 'vf_coef': 0.2402118005325163, 'ortho_init': True, 'net_arch': 'small', 'activation_fn': 'tanh'}. Best is trial 0 with value: 20.0.\u001b[0m\n",
      "\u001b[32m[I 2023-05-29 15:36:05,318]\u001b[0m Trial 30 finished with value: 0.0 and parameters: {'gamma': 0.98, 'normalize_advantage': False, 'max_grad_norm': 0.6, 'use_rms_prop': True, 'gae_lambda': 0.99, 'n_steps': 512, 'lr_schedule': 'constant', 'learning_rate': 0.6594151102933865, 'ent_coef': 0.00019287178820779336, 'vf_coef': 0.2498335012479983, 'ortho_init': True, 'net_arch': 'small', 'activation_fn': 'tanh'}. Best is trial 0 with value: 20.0.\u001b[0m\n",
      "\u001b[32m[I 2023-05-29 16:18:40,602]\u001b[0m Trial 32 finished with value: 0.0 and parameters: {'gamma': 0.98, 'normalize_advantage': False, 'max_grad_norm': 0.5, 'use_rms_prop': True, 'gae_lambda': 0.99, 'n_steps': 512, 'lr_schedule': 'linear', 'learning_rate': 0.004189486895573083, 'ent_coef': 0.00016354344235871714, 'vf_coef': 0.24653360535333588, 'ortho_init': True, 'net_arch': 'small', 'activation_fn': 'relu'}. Best is trial 0 with value: 20.0.\u001b[0m\n",
      "\u001b[33m[W 2023-05-29 16:27:06,235]\u001b[0m Trial 35 failed with parameters: {'gamma': 0.99, 'normalize_advantage': False, 'max_grad_norm': 0.8, 'use_rms_prop': False, 'gae_lambda': 1.0, 'n_steps': 1024, 'lr_schedule': 'constant', 'learning_rate': 0.09720022084829731, 'ent_coef': 2.332346863439502e-05, 'vf_coef': 0.15611467606364637, 'ortho_init': False, 'net_arch': 'small', 'activation_fn': 'tanh'} because of the following error: RuntimeError('[enforce fail at C:\\\\actions-runner\\\\_work\\\\pytorch\\\\pytorch\\\\builder\\\\windows\\\\pytorch\\\\c10\\\\core\\\\impl\\\\alloc_cpu.cpp:72] data. DefaultCPUAllocator: not enough memory: you tried to allocate 1849688064 bytes.').\u001b[0m\n",
      "Traceback (most recent call last):\n",
      "  File \"c:\\Users\\kaine\\Anaconda3\\envs\\diss_test\\lib\\site-packages\\optuna\\study\\_optimize.py\", line 200, in _run_trial\n",
      "    value_or_values = func(trial)\n",
      "  File \"C:\\Users\\kaine\\AppData\\Local\\Temp\\ipykernel_10396\\2652077063.py\", line 31, in Objective\n",
      "    model.learn(N_TIMESTEPS, callback=eval_callback)\n",
      "  File \"c:\\Users\\kaine\\Anaconda3\\envs\\diss_test\\lib\\site-packages\\stable_baselines3\\a2c\\a2c.py\", line 194, in learn\n",
      "    return super().learn(\n",
      "  File \"c:\\Users\\kaine\\Anaconda3\\envs\\diss_test\\lib\\site-packages\\stable_baselines3\\common\\on_policy_algorithm.py\", line 271, in learn\n",
      "    self.train()\n",
      "  File \"c:\\Users\\kaine\\Anaconda3\\envs\\diss_test\\lib\\site-packages\\stable_baselines3\\a2c\\a2c.py\", line 168, in train\n",
      "    loss.backward()\n",
      "  File \"c:\\Users\\kaine\\Anaconda3\\envs\\diss_test\\lib\\site-packages\\torch\\_tensor.py\", line 487, in backward\n",
      "    torch.autograd.backward(\n",
      "  File \"c:\\Users\\kaine\\Anaconda3\\envs\\diss_test\\lib\\site-packages\\torch\\autograd\\__init__.py\", line 200, in backward\n",
      "    Variable._execution_engine.run_backward(  # Calls into the C++ engine to run the backward pass\n",
      "RuntimeError: [enforce fail at C:\\actions-runner\\_work\\pytorch\\pytorch\\builder\\windows\\pytorch\\c10\\core\\impl\\alloc_cpu.cpp:72] data. DefaultCPUAllocator: not enough memory: you tried to allocate 1849688064 bytes.\n",
      "\u001b[33m[W 2023-05-29 16:27:06,281]\u001b[0m Trial 35 failed with value None.\u001b[0m\n",
      "\u001b[32m[I 2023-05-29 16:28:33,322]\u001b[0m Trial 33 finished with value: 0.0 and parameters: {'gamma': 0.98, 'normalize_advantage': False, 'max_grad_norm': 0.5, 'use_rms_prop': False, 'gae_lambda': 0.99, 'n_steps': 1024, 'lr_schedule': 'linear', 'learning_rate': 0.005328176302642017, 'ent_coef': 0.00016784740099421894, 'vf_coef': 0.2794439103367245, 'ortho_init': True, 'net_arch': 'small', 'activation_fn': 'relu'}. Best is trial 0 with value: 20.0.\u001b[0m\n",
      "\u001b[32m[I 2023-05-29 16:32:27,404]\u001b[0m Trial 34 finished with value: 0.0 and parameters: {'gamma': 0.99, 'normalize_advantage': False, 'max_grad_norm': 0.8, 'use_rms_prop': False, 'gae_lambda': 0.99, 'n_steps': 1024, 'lr_schedule': 'constant', 'learning_rate': 0.09931763081413406, 'ent_coef': 0.00033444535712313814, 'vf_coef': 0.25683558818184943, 'ortho_init': False, 'net_arch': 'small', 'activation_fn': 'tanh'}. Best is trial 0 with value: 20.0.\u001b[0m\n",
      "\u001b[32m[I 2023-05-29 16:47:36,394]\u001b[0m Trial 36 finished with value: 0.0 and parameters: {'gamma': 0.99, 'normalize_advantage': False, 'max_grad_norm': 0.8, 'use_rms_prop': False, 'gae_lambda': 1.0, 'n_steps': 1024, 'lr_schedule': 'constant', 'learning_rate': 0.09921335654002393, 'ent_coef': 0.0004353923549516063, 'vf_coef': 0.15957366890816443, 'ortho_init': False, 'net_arch': 'small', 'activation_fn': 'tanh'}. Best is trial 0 with value: 20.0.\u001b[0m\n"
     ]
    },
    {
     "ename": "RuntimeError",
     "evalue": "[enforce fail at C:\\actions-runner\\_work\\pytorch\\pytorch\\builder\\windows\\pytorch\\c10\\core\\impl\\alloc_cpu.cpp:72] data. DefaultCPUAllocator: not enough memory: you tried to allocate 1849688064 bytes.",
     "output_type": "error",
     "traceback": [
      "\u001b[1;31m---------------------------------------------------------------------------\u001b[0m",
      "\u001b[1;31mRuntimeError\u001b[0m                              Traceback (most recent call last)",
      "Cell \u001b[1;32mIn[6], line 10\u001b[0m\n\u001b[0;32m      8\u001b[0m \u001b[39mtry\u001b[39;00m:\n\u001b[0;32m      9\u001b[0m     \u001b[39mprint\u001b[39m(\u001b[39m\"\u001b[39m\u001b[39mStarting Optimize\u001b[39m\u001b[39m\"\u001b[39m)\n\u001b[1;32m---> 10\u001b[0m     study\u001b[39m.\u001b[39;49moptimize(Objective, n_trials\u001b[39m=\u001b[39;49mN_TRIALS, n_jobs\u001b[39m=\u001b[39;49mN_JOBS)\n\u001b[0;32m     11\u001b[0m \u001b[39mexcept\u001b[39;00m \u001b[39mKeyboardInterrupt\u001b[39;00m:\n\u001b[0;32m     12\u001b[0m     \u001b[39mpass\u001b[39;00m\n",
      "File \u001b[1;32mc:\\Users\\kaine\\Anaconda3\\envs\\diss_test\\lib\\site-packages\\optuna\\study\\study.py:425\u001b[0m, in \u001b[0;36mStudy.optimize\u001b[1;34m(self, func, n_trials, timeout, n_jobs, catch, callbacks, gc_after_trial, show_progress_bar)\u001b[0m\n\u001b[0;32m    321\u001b[0m \u001b[39mdef\u001b[39;00m \u001b[39moptimize\u001b[39m(\n\u001b[0;32m    322\u001b[0m     \u001b[39mself\u001b[39m,\n\u001b[0;32m    323\u001b[0m     func: ObjectiveFuncType,\n\u001b[1;32m   (...)\u001b[0m\n\u001b[0;32m    330\u001b[0m     show_progress_bar: \u001b[39mbool\u001b[39m \u001b[39m=\u001b[39m \u001b[39mFalse\u001b[39;00m,\n\u001b[0;32m    331\u001b[0m ) \u001b[39m-\u001b[39m\u001b[39m>\u001b[39m \u001b[39mNone\u001b[39;00m:\n\u001b[0;32m    332\u001b[0m \u001b[39m    \u001b[39m\u001b[39m\"\"\"Optimize an objective function.\u001b[39;00m\n\u001b[0;32m    333\u001b[0m \n\u001b[0;32m    334\u001b[0m \u001b[39m    Optimization is done by choosing a suitable set of hyperparameter values from a given\u001b[39;00m\n\u001b[1;32m   (...)\u001b[0m\n\u001b[0;32m    422\u001b[0m \u001b[39m            If nested invocation of this method occurs.\u001b[39;00m\n\u001b[0;32m    423\u001b[0m \u001b[39m    \"\"\"\u001b[39;00m\n\u001b[1;32m--> 425\u001b[0m     _optimize(\n\u001b[0;32m    426\u001b[0m         study\u001b[39m=\u001b[39;49m\u001b[39mself\u001b[39;49m,\n\u001b[0;32m    427\u001b[0m         func\u001b[39m=\u001b[39;49mfunc,\n\u001b[0;32m    428\u001b[0m         n_trials\u001b[39m=\u001b[39;49mn_trials,\n\u001b[0;32m    429\u001b[0m         timeout\u001b[39m=\u001b[39;49mtimeout,\n\u001b[0;32m    430\u001b[0m         n_jobs\u001b[39m=\u001b[39;49mn_jobs,\n\u001b[0;32m    431\u001b[0m         catch\u001b[39m=\u001b[39;49m\u001b[39mtuple\u001b[39;49m(catch) \u001b[39mif\u001b[39;49;00m \u001b[39misinstance\u001b[39;49m(catch, Iterable) \u001b[39melse\u001b[39;49;00m (catch,),\n\u001b[0;32m    432\u001b[0m         callbacks\u001b[39m=\u001b[39;49mcallbacks,\n\u001b[0;32m    433\u001b[0m         gc_after_trial\u001b[39m=\u001b[39;49mgc_after_trial,\n\u001b[0;32m    434\u001b[0m         show_progress_bar\u001b[39m=\u001b[39;49mshow_progress_bar,\n\u001b[0;32m    435\u001b[0m     )\n",
      "File \u001b[1;32mc:\\Users\\kaine\\Anaconda3\\envs\\diss_test\\lib\\site-packages\\optuna\\study\\_optimize.py:103\u001b[0m, in \u001b[0;36m_optimize\u001b[1;34m(study, func, n_trials, timeout, n_jobs, catch, callbacks, gc_after_trial, show_progress_bar)\u001b[0m\n\u001b[0;32m    101\u001b[0m                     \u001b[39m# Raise if exception occurred in executing the completed futures.\u001b[39;00m\n\u001b[0;32m    102\u001b[0m                     \u001b[39mfor\u001b[39;00m f \u001b[39min\u001b[39;00m completed:\n\u001b[1;32m--> 103\u001b[0m                         f\u001b[39m.\u001b[39;49mresult()\n\u001b[0;32m    105\u001b[0m                 futures\u001b[39m.\u001b[39madd(\n\u001b[0;32m    106\u001b[0m                     executor\u001b[39m.\u001b[39msubmit(\n\u001b[0;32m    107\u001b[0m                         _optimize_sequential,\n\u001b[1;32m   (...)\u001b[0m\n\u001b[0;32m    118\u001b[0m                     )\n\u001b[0;32m    119\u001b[0m                 )\n\u001b[0;32m    120\u001b[0m \u001b[39mfinally\u001b[39;00m:\n",
      "File \u001b[1;32mc:\\Users\\kaine\\Anaconda3\\envs\\diss_test\\lib\\concurrent\\futures\\_base.py:437\u001b[0m, in \u001b[0;36mFuture.result\u001b[1;34m(self, timeout)\u001b[0m\n\u001b[0;32m    435\u001b[0m     \u001b[39mraise\u001b[39;00m CancelledError()\n\u001b[0;32m    436\u001b[0m \u001b[39melif\u001b[39;00m \u001b[39mself\u001b[39m\u001b[39m.\u001b[39m_state \u001b[39m==\u001b[39m FINISHED:\n\u001b[1;32m--> 437\u001b[0m     \u001b[39mreturn\u001b[39;00m \u001b[39mself\u001b[39;49m\u001b[39m.\u001b[39;49m__get_result()\n\u001b[0;32m    439\u001b[0m \u001b[39mself\u001b[39m\u001b[39m.\u001b[39m_condition\u001b[39m.\u001b[39mwait(timeout)\n\u001b[0;32m    441\u001b[0m \u001b[39mif\u001b[39;00m \u001b[39mself\u001b[39m\u001b[39m.\u001b[39m_state \u001b[39min\u001b[39;00m [CANCELLED, CANCELLED_AND_NOTIFIED]:\n",
      "File \u001b[1;32mc:\\Users\\kaine\\Anaconda3\\envs\\diss_test\\lib\\concurrent\\futures\\_base.py:389\u001b[0m, in \u001b[0;36mFuture.__get_result\u001b[1;34m(self)\u001b[0m\n\u001b[0;32m    387\u001b[0m \u001b[39mif\u001b[39;00m \u001b[39mself\u001b[39m\u001b[39m.\u001b[39m_exception:\n\u001b[0;32m    388\u001b[0m     \u001b[39mtry\u001b[39;00m:\n\u001b[1;32m--> 389\u001b[0m         \u001b[39mraise\u001b[39;00m \u001b[39mself\u001b[39m\u001b[39m.\u001b[39m_exception\n\u001b[0;32m    390\u001b[0m     \u001b[39mfinally\u001b[39;00m:\n\u001b[0;32m    391\u001b[0m         \u001b[39m# Break a reference cycle with the exception in self._exception\u001b[39;00m\n\u001b[0;32m    392\u001b[0m         \u001b[39mself\u001b[39m \u001b[39m=\u001b[39m \u001b[39mNone\u001b[39;00m\n",
      "File \u001b[1;32mc:\\Users\\kaine\\Anaconda3\\envs\\diss_test\\lib\\concurrent\\futures\\thread.py:57\u001b[0m, in \u001b[0;36m_WorkItem.run\u001b[1;34m(self)\u001b[0m\n\u001b[0;32m     54\u001b[0m     \u001b[39mreturn\u001b[39;00m\n\u001b[0;32m     56\u001b[0m \u001b[39mtry\u001b[39;00m:\n\u001b[1;32m---> 57\u001b[0m     result \u001b[39m=\u001b[39m \u001b[39mself\u001b[39;49m\u001b[39m.\u001b[39;49mfn(\u001b[39m*\u001b[39;49m\u001b[39mself\u001b[39;49m\u001b[39m.\u001b[39;49margs, \u001b[39m*\u001b[39;49m\u001b[39m*\u001b[39;49m\u001b[39mself\u001b[39;49m\u001b[39m.\u001b[39;49mkwargs)\n\u001b[0;32m     58\u001b[0m \u001b[39mexcept\u001b[39;00m \u001b[39mBaseException\u001b[39;00m \u001b[39mas\u001b[39;00m exc:\n\u001b[0;32m     59\u001b[0m     \u001b[39mself\u001b[39m\u001b[39m.\u001b[39mfuture\u001b[39m.\u001b[39mset_exception(exc)\n",
      "File \u001b[1;32mc:\\Users\\kaine\\Anaconda3\\envs\\diss_test\\lib\\site-packages\\optuna\\study\\_optimize.py:163\u001b[0m, in \u001b[0;36m_optimize_sequential\u001b[1;34m(study, func, n_trials, timeout, catch, callbacks, gc_after_trial, reseed_sampler_rng, time_start, progress_bar)\u001b[0m\n\u001b[0;32m    160\u001b[0m         \u001b[39mbreak\u001b[39;00m\n\u001b[0;32m    162\u001b[0m \u001b[39mtry\u001b[39;00m:\n\u001b[1;32m--> 163\u001b[0m     frozen_trial \u001b[39m=\u001b[39m _run_trial(study, func, catch)\n\u001b[0;32m    164\u001b[0m \u001b[39mfinally\u001b[39;00m:\n\u001b[0;32m    165\u001b[0m     \u001b[39m# The following line mitigates memory problems that can be occurred in some\u001b[39;00m\n\u001b[0;32m    166\u001b[0m     \u001b[39m# environments (e.g., services that use computing containers such as GitHub Actions).\u001b[39;00m\n\u001b[0;32m    167\u001b[0m     \u001b[39m# Please refer to the following PR for further details:\u001b[39;00m\n\u001b[0;32m    168\u001b[0m     \u001b[39m# https://github.com/optuna/optuna/pull/325.\u001b[39;00m\n\u001b[0;32m    169\u001b[0m     \u001b[39mif\u001b[39;00m gc_after_trial:\n",
      "File \u001b[1;32mc:\\Users\\kaine\\Anaconda3\\envs\\diss_test\\lib\\site-packages\\optuna\\study\\_optimize.py:251\u001b[0m, in \u001b[0;36m_run_trial\u001b[1;34m(study, func, catch)\u001b[0m\n\u001b[0;32m    244\u001b[0m         \u001b[39massert\u001b[39;00m \u001b[39mFalse\u001b[39;00m, \u001b[39m\"\u001b[39m\u001b[39mShould not reach.\u001b[39m\u001b[39m\"\u001b[39m\n\u001b[0;32m    246\u001b[0m \u001b[39mif\u001b[39;00m (\n\u001b[0;32m    247\u001b[0m     frozen_trial\u001b[39m.\u001b[39mstate \u001b[39m==\u001b[39m TrialState\u001b[39m.\u001b[39mFAIL\n\u001b[0;32m    248\u001b[0m     \u001b[39mand\u001b[39;00m func_err \u001b[39mis\u001b[39;00m \u001b[39mnot\u001b[39;00m \u001b[39mNone\u001b[39;00m\n\u001b[0;32m    249\u001b[0m     \u001b[39mand\u001b[39;00m \u001b[39mnot\u001b[39;00m \u001b[39misinstance\u001b[39m(func_err, catch)\n\u001b[0;32m    250\u001b[0m ):\n\u001b[1;32m--> 251\u001b[0m     \u001b[39mraise\u001b[39;00m func_err\n\u001b[0;32m    252\u001b[0m \u001b[39mreturn\u001b[39;00m frozen_trial\n",
      "File \u001b[1;32mc:\\Users\\kaine\\Anaconda3\\envs\\diss_test\\lib\\site-packages\\optuna\\study\\_optimize.py:200\u001b[0m, in \u001b[0;36m_run_trial\u001b[1;34m(study, func, catch)\u001b[0m\n\u001b[0;32m    198\u001b[0m \u001b[39mwith\u001b[39;00m get_heartbeat_thread(trial\u001b[39m.\u001b[39m_trial_id, study\u001b[39m.\u001b[39m_storage):\n\u001b[0;32m    199\u001b[0m     \u001b[39mtry\u001b[39;00m:\n\u001b[1;32m--> 200\u001b[0m         value_or_values \u001b[39m=\u001b[39m func(trial)\n\u001b[0;32m    201\u001b[0m     \u001b[39mexcept\u001b[39;00m exceptions\u001b[39m.\u001b[39mTrialPruned \u001b[39mas\u001b[39;00m e:\n\u001b[0;32m    202\u001b[0m         \u001b[39m# TODO(mamu): Handle multi-objective cases.\u001b[39;00m\n\u001b[0;32m    203\u001b[0m         state \u001b[39m=\u001b[39m TrialState\u001b[39m.\u001b[39mPRUNED\n",
      "Cell \u001b[1;32mIn[5], line 31\u001b[0m, in \u001b[0;36mObjective\u001b[1;34m(trial)\u001b[0m\n\u001b[0;32m     29\u001b[0m nan_encountered \u001b[39m=\u001b[39m \u001b[39mFalse\u001b[39;00m\n\u001b[0;32m     30\u001b[0m \u001b[39mtry\u001b[39;00m:\n\u001b[1;32m---> 31\u001b[0m     model\u001b[39m.\u001b[39;49mlearn(N_TIMESTEPS, callback\u001b[39m=\u001b[39;49meval_callback)\n\u001b[0;32m     32\u001b[0m \u001b[39mexcept\u001b[39;00m \u001b[39mAssertionError\u001b[39;00m \u001b[39mas\u001b[39;00m e:\n\u001b[0;32m     33\u001b[0m     \u001b[39m# Sometimes, random hyperparams can generate NaN.\u001b[39;00m\n\u001b[0;32m     34\u001b[0m     \u001b[39mprint\u001b[39m(e)\n",
      "File \u001b[1;32mc:\\Users\\kaine\\Anaconda3\\envs\\diss_test\\lib\\site-packages\\stable_baselines3\\a2c\\a2c.py:194\u001b[0m, in \u001b[0;36mA2C.learn\u001b[1;34m(self, total_timesteps, callback, log_interval, tb_log_name, reset_num_timesteps, progress_bar)\u001b[0m\n\u001b[0;32m    185\u001b[0m \u001b[39mdef\u001b[39;00m \u001b[39mlearn\u001b[39m(\n\u001b[0;32m    186\u001b[0m     \u001b[39mself\u001b[39m: SelfA2C,\n\u001b[0;32m    187\u001b[0m     total_timesteps: \u001b[39mint\u001b[39m,\n\u001b[1;32m   (...)\u001b[0m\n\u001b[0;32m    192\u001b[0m     progress_bar: \u001b[39mbool\u001b[39m \u001b[39m=\u001b[39m \u001b[39mFalse\u001b[39;00m,\n\u001b[0;32m    193\u001b[0m ) \u001b[39m-\u001b[39m\u001b[39m>\u001b[39m SelfA2C:\n\u001b[1;32m--> 194\u001b[0m     \u001b[39mreturn\u001b[39;00m \u001b[39msuper\u001b[39;49m()\u001b[39m.\u001b[39;49mlearn(\n\u001b[0;32m    195\u001b[0m         total_timesteps\u001b[39m=\u001b[39;49mtotal_timesteps,\n\u001b[0;32m    196\u001b[0m         callback\u001b[39m=\u001b[39;49mcallback,\n\u001b[0;32m    197\u001b[0m         log_interval\u001b[39m=\u001b[39;49mlog_interval,\n\u001b[0;32m    198\u001b[0m         tb_log_name\u001b[39m=\u001b[39;49mtb_log_name,\n\u001b[0;32m    199\u001b[0m         reset_num_timesteps\u001b[39m=\u001b[39;49mreset_num_timesteps,\n\u001b[0;32m    200\u001b[0m         progress_bar\u001b[39m=\u001b[39;49mprogress_bar,\n\u001b[0;32m    201\u001b[0m     )\n",
      "File \u001b[1;32mc:\\Users\\kaine\\Anaconda3\\envs\\diss_test\\lib\\site-packages\\stable_baselines3\\common\\on_policy_algorithm.py:271\u001b[0m, in \u001b[0;36mOnPolicyAlgorithm.learn\u001b[1;34m(self, total_timesteps, callback, log_interval, tb_log_name, reset_num_timesteps, progress_bar)\u001b[0m\n\u001b[0;32m    268\u001b[0m         \u001b[39mself\u001b[39m\u001b[39m.\u001b[39mlogger\u001b[39m.\u001b[39mrecord(\u001b[39m\"\u001b[39m\u001b[39mtime/total_timesteps\u001b[39m\u001b[39m\"\u001b[39m, \u001b[39mself\u001b[39m\u001b[39m.\u001b[39mnum_timesteps, exclude\u001b[39m=\u001b[39m\u001b[39m\"\u001b[39m\u001b[39mtensorboard\u001b[39m\u001b[39m\"\u001b[39m)\n\u001b[0;32m    269\u001b[0m         \u001b[39mself\u001b[39m\u001b[39m.\u001b[39mlogger\u001b[39m.\u001b[39mdump(step\u001b[39m=\u001b[39m\u001b[39mself\u001b[39m\u001b[39m.\u001b[39mnum_timesteps)\n\u001b[1;32m--> 271\u001b[0m     \u001b[39mself\u001b[39;49m\u001b[39m.\u001b[39;49mtrain()\n\u001b[0;32m    273\u001b[0m callback\u001b[39m.\u001b[39mon_training_end()\n\u001b[0;32m    275\u001b[0m \u001b[39mreturn\u001b[39;00m \u001b[39mself\u001b[39m\n",
      "File \u001b[1;32mc:\\Users\\kaine\\Anaconda3\\envs\\diss_test\\lib\\site-packages\\stable_baselines3\\a2c\\a2c.py:168\u001b[0m, in \u001b[0;36mA2C.train\u001b[1;34m(self)\u001b[0m\n\u001b[0;32m    166\u001b[0m \u001b[39m# Optimization step\u001b[39;00m\n\u001b[0;32m    167\u001b[0m \u001b[39mself\u001b[39m\u001b[39m.\u001b[39mpolicy\u001b[39m.\u001b[39moptimizer\u001b[39m.\u001b[39mzero_grad()\n\u001b[1;32m--> 168\u001b[0m loss\u001b[39m.\u001b[39;49mbackward()\n\u001b[0;32m    170\u001b[0m \u001b[39m# Clip grad norm\u001b[39;00m\n\u001b[0;32m    171\u001b[0m th\u001b[39m.\u001b[39mnn\u001b[39m.\u001b[39mutils\u001b[39m.\u001b[39mclip_grad_norm_(\u001b[39mself\u001b[39m\u001b[39m.\u001b[39mpolicy\u001b[39m.\u001b[39mparameters(), \u001b[39mself\u001b[39m\u001b[39m.\u001b[39mmax_grad_norm)\n",
      "File \u001b[1;32mc:\\Users\\kaine\\Anaconda3\\envs\\diss_test\\lib\\site-packages\\torch\\_tensor.py:487\u001b[0m, in \u001b[0;36mTensor.backward\u001b[1;34m(self, gradient, retain_graph, create_graph, inputs)\u001b[0m\n\u001b[0;32m    477\u001b[0m \u001b[39mif\u001b[39;00m has_torch_function_unary(\u001b[39mself\u001b[39m):\n\u001b[0;32m    478\u001b[0m     \u001b[39mreturn\u001b[39;00m handle_torch_function(\n\u001b[0;32m    479\u001b[0m         Tensor\u001b[39m.\u001b[39mbackward,\n\u001b[0;32m    480\u001b[0m         (\u001b[39mself\u001b[39m,),\n\u001b[1;32m   (...)\u001b[0m\n\u001b[0;32m    485\u001b[0m         inputs\u001b[39m=\u001b[39minputs,\n\u001b[0;32m    486\u001b[0m     )\n\u001b[1;32m--> 487\u001b[0m torch\u001b[39m.\u001b[39;49mautograd\u001b[39m.\u001b[39;49mbackward(\n\u001b[0;32m    488\u001b[0m     \u001b[39mself\u001b[39;49m, gradient, retain_graph, create_graph, inputs\u001b[39m=\u001b[39;49minputs\n\u001b[0;32m    489\u001b[0m )\n",
      "File \u001b[1;32mc:\\Users\\kaine\\Anaconda3\\envs\\diss_test\\lib\\site-packages\\torch\\autograd\\__init__.py:200\u001b[0m, in \u001b[0;36mbackward\u001b[1;34m(tensors, grad_tensors, retain_graph, create_graph, grad_variables, inputs)\u001b[0m\n\u001b[0;32m    195\u001b[0m     retain_graph \u001b[39m=\u001b[39m create_graph\n\u001b[0;32m    197\u001b[0m \u001b[39m# The reason we repeat same the comment below is that\u001b[39;00m\n\u001b[0;32m    198\u001b[0m \u001b[39m# some Python versions print out the first line of a multi-line function\u001b[39;00m\n\u001b[0;32m    199\u001b[0m \u001b[39m# calls in the traceback and some print out the last line\u001b[39;00m\n\u001b[1;32m--> 200\u001b[0m Variable\u001b[39m.\u001b[39;49m_execution_engine\u001b[39m.\u001b[39;49mrun_backward(  \u001b[39m# Calls into the C++ engine to run the backward pass\u001b[39;49;00m\n\u001b[0;32m    201\u001b[0m     tensors, grad_tensors_, retain_graph, create_graph, inputs,\n\u001b[0;32m    202\u001b[0m     allow_unreachable\u001b[39m=\u001b[39;49m\u001b[39mTrue\u001b[39;49;00m, accumulate_grad\u001b[39m=\u001b[39;49m\u001b[39mTrue\u001b[39;49;00m)\n",
      "\u001b[1;31mRuntimeError\u001b[0m: [enforce fail at C:\\actions-runner\\_work\\pytorch\\pytorch\\builder\\windows\\pytorch\\c10\\core\\impl\\alloc_cpu.cpp:72] data. DefaultCPUAllocator: not enough memory: you tried to allocate 1849688064 bytes."
     ]
    }
   ],
   "source": [
    "#Sampler\n",
    "sampler = TPESampler(n_startup_trials=N_STARTUP_TRIALS)\n",
    "\n",
    "#Do not prune trials\n",
    "#pruner = NopPruner()\n",
    "\n",
    "pruner = optuna.pruners.SuccessiveHalvingPruner()\n",
    "\n",
    "study = optuna.create_study(sampler=sampler, pruner=pruner, direction=\"maximize\")\n",
    "try:\n",
    "    print(\"Starting Optimize\")\n",
    "    study.optimize(Objective, n_trials=N_TRIALS, n_jobs=N_JOBS)\n",
    "except KeyboardInterrupt:\n",
    "    pass"
   ]
  },
  {
   "attachments": {},
   "cell_type": "markdown",
   "metadata": {},
   "source": [
    "### Display Info"
   ]
  },
  {
   "cell_type": "code",
   "execution_count": null,
   "metadata": {},
   "outputs": [
    {
     "name": "stdout",
     "output_type": "stream",
     "text": [
      "Number of finished trials:  100\n",
      "Best trial:\n",
      "  Value:  172.2\n",
      "  Params: \n",
      "    gamma: 0.98\n",
      "    normalize_advantage: False\n",
      "    max_grad_norm: 0.7\n",
      "    use_rms_prop: True\n",
      "    gae_lambda: 0.8\n",
      "    n_steps: 128\n",
      "    lr_schedule: constant\n",
      "    learning_rate: 0.001815853309651432\n",
      "    ent_coef: 1.4242865045217283e-05\n",
      "    vf_coef: 0.32837777846078803\n",
      "    ortho_init: True\n",
      "    net_arch: small\n",
      "    activation_fn: relu\n"
     ]
    }
   ],
   "source": [
    "print(\"Number of finished trials: \", len(study.trials))\n",
    "\n",
    "print(\"Best trial:\")\n",
    "trial = study.best_trial\n",
    "\n",
    "print(\"  Value: \", trial.value)\n",
    "\n",
    "print(\"  Params: \")\n",
    "for key, value in trial.params.items():\n",
    "    print(\"    {}: {}\".format(key, value))\n",
    "\n",
    "#print(\"  User attrs:\")\n",
    "#for key, value in trial.user_attrs.items():\n",
    "    #print(\"    {}: {}\".format(key, value))"
   ]
  },
  {
   "cell_type": "code",
   "execution_count": null,
   "metadata": {},
   "outputs": [
    {
     "data": {
      "application/vnd.plotly.v1+json": {
       "config": {
        "plotlyServerURL": "https://plot.ly"
       },
       "data": [
        {
         "mode": "markers",
         "name": "Objective Value",
         "type": "scatter",
         "x": [
          0,
          1,
          2,
          3,
          4,
          5,
          6,
          7,
          8,
          9,
          10,
          11,
          12,
          13,
          14,
          15,
          16,
          17,
          18,
          19,
          20,
          21,
          22,
          23,
          24,
          25,
          26,
          27,
          28,
          29,
          30,
          31,
          32,
          33,
          34,
          35,
          36,
          37,
          38,
          39,
          40,
          41,
          42,
          43,
          44,
          45,
          46,
          47,
          48,
          49,
          50,
          51,
          52,
          53,
          54,
          55,
          56,
          57,
          58,
          59,
          60,
          61,
          62,
          63,
          64,
          65,
          66,
          67,
          68,
          69,
          70,
          71,
          72,
          73,
          74,
          75,
          76,
          77,
          78,
          79,
          80,
          81,
          82,
          83,
          84,
          85,
          86,
          87,
          88,
          89,
          90,
          91,
          92,
          93,
          94,
          95,
          96,
          97,
          98,
          99
         ],
         "y": [
          31,
          12,
          12,
          31,
          88,
          12,
          0,
          12,
          55.4,
          31,
          31,
          2,
          31,
          31,
          31,
          31,
          31,
          90,
          67.1,
          31,
          31,
          31,
          63.6,
          96,
          12,
          67.2,
          58,
          96.5,
          2,
          31,
          31,
          31,
          97,
          111.7,
          165.8,
          140.1,
          58.7,
          62.5,
          31,
          31,
          12,
          31,
          62.3,
          111.2,
          76.7,
          2,
          61.9,
          31,
          31,
          111.7,
          31,
          31,
          119.7,
          71.8,
          120.1,
          96.7,
          31.9,
          65,
          12,
          12,
          149.7,
          31,
          144.7,
          92.6,
          96.1,
          94,
          94.7,
          66.1,
          64.1,
          12,
          31,
          12,
          31,
          152,
          114.3,
          31,
          111.7,
          31,
          31,
          12,
          31,
          31,
          95,
          70.9,
          139.3,
          103.7,
          31,
          31,
          31,
          31,
          31,
          31,
          172.2,
          93.2,
          133.6,
          93.2,
          106.4,
          122.1,
          2,
          31
         ]
        },
        {
         "name": "Best Value",
         "type": "scatter",
         "x": [
          0,
          1,
          2,
          3,
          4,
          5,
          6,
          7,
          8,
          9,
          10,
          11,
          12,
          13,
          14,
          15,
          16,
          17,
          18,
          19,
          20,
          21,
          22,
          23,
          24,
          25,
          26,
          27,
          28,
          29,
          30,
          31,
          32,
          33,
          34,
          35,
          36,
          37,
          38,
          39,
          40,
          41,
          42,
          43,
          44,
          45,
          46,
          47,
          48,
          49,
          50,
          51,
          52,
          53,
          54,
          55,
          56,
          57,
          58,
          59,
          60,
          61,
          62,
          63,
          64,
          65,
          66,
          67,
          68,
          69,
          70,
          71,
          72,
          73,
          74,
          75,
          76,
          77,
          78,
          79,
          80,
          81,
          82,
          83,
          84,
          85,
          86,
          87,
          88,
          89,
          90,
          91,
          92,
          93,
          94,
          95,
          96,
          97,
          98,
          99
         ],
         "y": [
          31,
          31,
          31,
          31,
          88,
          88,
          88,
          88,
          88,
          88,
          88,
          88,
          88,
          88,
          88,
          88,
          88,
          90,
          90,
          90,
          90,
          90,
          90,
          96,
          96,
          96,
          96,
          96.5,
          96.5,
          96.5,
          96.5,
          96.5,
          97,
          111.7,
          165.8,
          165.8,
          165.8,
          165.8,
          165.8,
          165.8,
          165.8,
          165.8,
          165.8,
          165.8,
          165.8,
          165.8,
          165.8,
          165.8,
          165.8,
          165.8,
          165.8,
          165.8,
          165.8,
          165.8,
          165.8,
          165.8,
          165.8,
          165.8,
          165.8,
          165.8,
          165.8,
          165.8,
          165.8,
          165.8,
          165.8,
          165.8,
          165.8,
          165.8,
          165.8,
          165.8,
          165.8,
          165.8,
          165.8,
          165.8,
          165.8,
          165.8,
          165.8,
          165.8,
          165.8,
          165.8,
          165.8,
          165.8,
          165.8,
          165.8,
          165.8,
          165.8,
          165.8,
          165.8,
          165.8,
          165.8,
          165.8,
          165.8,
          172.2,
          172.2,
          172.2,
          172.2,
          172.2,
          172.2,
          172.2,
          172.2
         ]
        }
       ],
       "layout": {
        "template": {
         "data": {
          "bar": [
           {
            "error_x": {
             "color": "#2a3f5f"
            },
            "error_y": {
             "color": "#2a3f5f"
            },
            "marker": {
             "line": {
              "color": "#E5ECF6",
              "width": 0.5
             },
             "pattern": {
              "fillmode": "overlay",
              "size": 10,
              "solidity": 0.2
             }
            },
            "type": "bar"
           }
          ],
          "barpolar": [
           {
            "marker": {
             "line": {
              "color": "#E5ECF6",
              "width": 0.5
             },
             "pattern": {
              "fillmode": "overlay",
              "size": 10,
              "solidity": 0.2
             }
            },
            "type": "barpolar"
           }
          ],
          "carpet": [
           {
            "aaxis": {
             "endlinecolor": "#2a3f5f",
             "gridcolor": "white",
             "linecolor": "white",
             "minorgridcolor": "white",
             "startlinecolor": "#2a3f5f"
            },
            "baxis": {
             "endlinecolor": "#2a3f5f",
             "gridcolor": "white",
             "linecolor": "white",
             "minorgridcolor": "white",
             "startlinecolor": "#2a3f5f"
            },
            "type": "carpet"
           }
          ],
          "choropleth": [
           {
            "colorbar": {
             "outlinewidth": 0,
             "ticks": ""
            },
            "type": "choropleth"
           }
          ],
          "contour": [
           {
            "colorbar": {
             "outlinewidth": 0,
             "ticks": ""
            },
            "colorscale": [
             [
              0,
              "#0d0887"
             ],
             [
              0.1111111111111111,
              "#46039f"
             ],
             [
              0.2222222222222222,
              "#7201a8"
             ],
             [
              0.3333333333333333,
              "#9c179e"
             ],
             [
              0.4444444444444444,
              "#bd3786"
             ],
             [
              0.5555555555555556,
              "#d8576b"
             ],
             [
              0.6666666666666666,
              "#ed7953"
             ],
             [
              0.7777777777777778,
              "#fb9f3a"
             ],
             [
              0.8888888888888888,
              "#fdca26"
             ],
             [
              1,
              "#f0f921"
             ]
            ],
            "type": "contour"
           }
          ],
          "contourcarpet": [
           {
            "colorbar": {
             "outlinewidth": 0,
             "ticks": ""
            },
            "type": "contourcarpet"
           }
          ],
          "heatmap": [
           {
            "colorbar": {
             "outlinewidth": 0,
             "ticks": ""
            },
            "colorscale": [
             [
              0,
              "#0d0887"
             ],
             [
              0.1111111111111111,
              "#46039f"
             ],
             [
              0.2222222222222222,
              "#7201a8"
             ],
             [
              0.3333333333333333,
              "#9c179e"
             ],
             [
              0.4444444444444444,
              "#bd3786"
             ],
             [
              0.5555555555555556,
              "#d8576b"
             ],
             [
              0.6666666666666666,
              "#ed7953"
             ],
             [
              0.7777777777777778,
              "#fb9f3a"
             ],
             [
              0.8888888888888888,
              "#fdca26"
             ],
             [
              1,
              "#f0f921"
             ]
            ],
            "type": "heatmap"
           }
          ],
          "heatmapgl": [
           {
            "colorbar": {
             "outlinewidth": 0,
             "ticks": ""
            },
            "colorscale": [
             [
              0,
              "#0d0887"
             ],
             [
              0.1111111111111111,
              "#46039f"
             ],
             [
              0.2222222222222222,
              "#7201a8"
             ],
             [
              0.3333333333333333,
              "#9c179e"
             ],
             [
              0.4444444444444444,
              "#bd3786"
             ],
             [
              0.5555555555555556,
              "#d8576b"
             ],
             [
              0.6666666666666666,
              "#ed7953"
             ],
             [
              0.7777777777777778,
              "#fb9f3a"
             ],
             [
              0.8888888888888888,
              "#fdca26"
             ],
             [
              1,
              "#f0f921"
             ]
            ],
            "type": "heatmapgl"
           }
          ],
          "histogram": [
           {
            "marker": {
             "pattern": {
              "fillmode": "overlay",
              "size": 10,
              "solidity": 0.2
             }
            },
            "type": "histogram"
           }
          ],
          "histogram2d": [
           {
            "colorbar": {
             "outlinewidth": 0,
             "ticks": ""
            },
            "colorscale": [
             [
              0,
              "#0d0887"
             ],
             [
              0.1111111111111111,
              "#46039f"
             ],
             [
              0.2222222222222222,
              "#7201a8"
             ],
             [
              0.3333333333333333,
              "#9c179e"
             ],
             [
              0.4444444444444444,
              "#bd3786"
             ],
             [
              0.5555555555555556,
              "#d8576b"
             ],
             [
              0.6666666666666666,
              "#ed7953"
             ],
             [
              0.7777777777777778,
              "#fb9f3a"
             ],
             [
              0.8888888888888888,
              "#fdca26"
             ],
             [
              1,
              "#f0f921"
             ]
            ],
            "type": "histogram2d"
           }
          ],
          "histogram2dcontour": [
           {
            "colorbar": {
             "outlinewidth": 0,
             "ticks": ""
            },
            "colorscale": [
             [
              0,
              "#0d0887"
             ],
             [
              0.1111111111111111,
              "#46039f"
             ],
             [
              0.2222222222222222,
              "#7201a8"
             ],
             [
              0.3333333333333333,
              "#9c179e"
             ],
             [
              0.4444444444444444,
              "#bd3786"
             ],
             [
              0.5555555555555556,
              "#d8576b"
             ],
             [
              0.6666666666666666,
              "#ed7953"
             ],
             [
              0.7777777777777778,
              "#fb9f3a"
             ],
             [
              0.8888888888888888,
              "#fdca26"
             ],
             [
              1,
              "#f0f921"
             ]
            ],
            "type": "histogram2dcontour"
           }
          ],
          "mesh3d": [
           {
            "colorbar": {
             "outlinewidth": 0,
             "ticks": ""
            },
            "type": "mesh3d"
           }
          ],
          "parcoords": [
           {
            "line": {
             "colorbar": {
              "outlinewidth": 0,
              "ticks": ""
             }
            },
            "type": "parcoords"
           }
          ],
          "pie": [
           {
            "automargin": true,
            "type": "pie"
           }
          ],
          "scatter": [
           {
            "fillpattern": {
             "fillmode": "overlay",
             "size": 10,
             "solidity": 0.2
            },
            "type": "scatter"
           }
          ],
          "scatter3d": [
           {
            "line": {
             "colorbar": {
              "outlinewidth": 0,
              "ticks": ""
             }
            },
            "marker": {
             "colorbar": {
              "outlinewidth": 0,
              "ticks": ""
             }
            },
            "type": "scatter3d"
           }
          ],
          "scattercarpet": [
           {
            "marker": {
             "colorbar": {
              "outlinewidth": 0,
              "ticks": ""
             }
            },
            "type": "scattercarpet"
           }
          ],
          "scattergeo": [
           {
            "marker": {
             "colorbar": {
              "outlinewidth": 0,
              "ticks": ""
             }
            },
            "type": "scattergeo"
           }
          ],
          "scattergl": [
           {
            "marker": {
             "colorbar": {
              "outlinewidth": 0,
              "ticks": ""
             }
            },
            "type": "scattergl"
           }
          ],
          "scattermapbox": [
           {
            "marker": {
             "colorbar": {
              "outlinewidth": 0,
              "ticks": ""
             }
            },
            "type": "scattermapbox"
           }
          ],
          "scatterpolar": [
           {
            "marker": {
             "colorbar": {
              "outlinewidth": 0,
              "ticks": ""
             }
            },
            "type": "scatterpolar"
           }
          ],
          "scatterpolargl": [
           {
            "marker": {
             "colorbar": {
              "outlinewidth": 0,
              "ticks": ""
             }
            },
            "type": "scatterpolargl"
           }
          ],
          "scatterternary": [
           {
            "marker": {
             "colorbar": {
              "outlinewidth": 0,
              "ticks": ""
             }
            },
            "type": "scatterternary"
           }
          ],
          "surface": [
           {
            "colorbar": {
             "outlinewidth": 0,
             "ticks": ""
            },
            "colorscale": [
             [
              0,
              "#0d0887"
             ],
             [
              0.1111111111111111,
              "#46039f"
             ],
             [
              0.2222222222222222,
              "#7201a8"
             ],
             [
              0.3333333333333333,
              "#9c179e"
             ],
             [
              0.4444444444444444,
              "#bd3786"
             ],
             [
              0.5555555555555556,
              "#d8576b"
             ],
             [
              0.6666666666666666,
              "#ed7953"
             ],
             [
              0.7777777777777778,
              "#fb9f3a"
             ],
             [
              0.8888888888888888,
              "#fdca26"
             ],
             [
              1,
              "#f0f921"
             ]
            ],
            "type": "surface"
           }
          ],
          "table": [
           {
            "cells": {
             "fill": {
              "color": "#EBF0F8"
             },
             "line": {
              "color": "white"
             }
            },
            "header": {
             "fill": {
              "color": "#C8D4E3"
             },
             "line": {
              "color": "white"
             }
            },
            "type": "table"
           }
          ]
         },
         "layout": {
          "annotationdefaults": {
           "arrowcolor": "#2a3f5f",
           "arrowhead": 0,
           "arrowwidth": 1
          },
          "autotypenumbers": "strict",
          "coloraxis": {
           "colorbar": {
            "outlinewidth": 0,
            "ticks": ""
           }
          },
          "colorscale": {
           "diverging": [
            [
             0,
             "#8e0152"
            ],
            [
             0.1,
             "#c51b7d"
            ],
            [
             0.2,
             "#de77ae"
            ],
            [
             0.3,
             "#f1b6da"
            ],
            [
             0.4,
             "#fde0ef"
            ],
            [
             0.5,
             "#f7f7f7"
            ],
            [
             0.6,
             "#e6f5d0"
            ],
            [
             0.7,
             "#b8e186"
            ],
            [
             0.8,
             "#7fbc41"
            ],
            [
             0.9,
             "#4d9221"
            ],
            [
             1,
             "#276419"
            ]
           ],
           "sequential": [
            [
             0,
             "#0d0887"
            ],
            [
             0.1111111111111111,
             "#46039f"
            ],
            [
             0.2222222222222222,
             "#7201a8"
            ],
            [
             0.3333333333333333,
             "#9c179e"
            ],
            [
             0.4444444444444444,
             "#bd3786"
            ],
            [
             0.5555555555555556,
             "#d8576b"
            ],
            [
             0.6666666666666666,
             "#ed7953"
            ],
            [
             0.7777777777777778,
             "#fb9f3a"
            ],
            [
             0.8888888888888888,
             "#fdca26"
            ],
            [
             1,
             "#f0f921"
            ]
           ],
           "sequentialminus": [
            [
             0,
             "#0d0887"
            ],
            [
             0.1111111111111111,
             "#46039f"
            ],
            [
             0.2222222222222222,
             "#7201a8"
            ],
            [
             0.3333333333333333,
             "#9c179e"
            ],
            [
             0.4444444444444444,
             "#bd3786"
            ],
            [
             0.5555555555555556,
             "#d8576b"
            ],
            [
             0.6666666666666666,
             "#ed7953"
            ],
            [
             0.7777777777777778,
             "#fb9f3a"
            ],
            [
             0.8888888888888888,
             "#fdca26"
            ],
            [
             1,
             "#f0f921"
            ]
           ]
          },
          "colorway": [
           "#636efa",
           "#EF553B",
           "#00cc96",
           "#ab63fa",
           "#FFA15A",
           "#19d3f3",
           "#FF6692",
           "#B6E880",
           "#FF97FF",
           "#FECB52"
          ],
          "font": {
           "color": "#2a3f5f"
          },
          "geo": {
           "bgcolor": "white",
           "lakecolor": "white",
           "landcolor": "#E5ECF6",
           "showlakes": true,
           "showland": true,
           "subunitcolor": "white"
          },
          "hoverlabel": {
           "align": "left"
          },
          "hovermode": "closest",
          "mapbox": {
           "style": "light"
          },
          "paper_bgcolor": "white",
          "plot_bgcolor": "#E5ECF6",
          "polar": {
           "angularaxis": {
            "gridcolor": "white",
            "linecolor": "white",
            "ticks": ""
           },
           "bgcolor": "#E5ECF6",
           "radialaxis": {
            "gridcolor": "white",
            "linecolor": "white",
            "ticks": ""
           }
          },
          "scene": {
           "xaxis": {
            "backgroundcolor": "#E5ECF6",
            "gridcolor": "white",
            "gridwidth": 2,
            "linecolor": "white",
            "showbackground": true,
            "ticks": "",
            "zerolinecolor": "white"
           },
           "yaxis": {
            "backgroundcolor": "#E5ECF6",
            "gridcolor": "white",
            "gridwidth": 2,
            "linecolor": "white",
            "showbackground": true,
            "ticks": "",
            "zerolinecolor": "white"
           },
           "zaxis": {
            "backgroundcolor": "#E5ECF6",
            "gridcolor": "white",
            "gridwidth": 2,
            "linecolor": "white",
            "showbackground": true,
            "ticks": "",
            "zerolinecolor": "white"
           }
          },
          "shapedefaults": {
           "line": {
            "color": "#2a3f5f"
           }
          },
          "ternary": {
           "aaxis": {
            "gridcolor": "white",
            "linecolor": "white",
            "ticks": ""
           },
           "baxis": {
            "gridcolor": "white",
            "linecolor": "white",
            "ticks": ""
           },
           "bgcolor": "#E5ECF6",
           "caxis": {
            "gridcolor": "white",
            "linecolor": "white",
            "ticks": ""
           }
          },
          "title": {
           "x": 0.05
          },
          "xaxis": {
           "automargin": true,
           "gridcolor": "white",
           "linecolor": "white",
           "ticks": "",
           "title": {
            "standoff": 15
           },
           "zerolinecolor": "white",
           "zerolinewidth": 2
          },
          "yaxis": {
           "automargin": true,
           "gridcolor": "white",
           "linecolor": "white",
           "ticks": "",
           "title": {
            "standoff": 15
           },
           "zerolinecolor": "white",
           "zerolinewidth": 2
          }
         }
        },
        "title": {
         "text": "Optimization History Plot"
        },
        "xaxis": {
         "title": {
          "text": "Trial"
         }
        },
        "yaxis": {
         "title": {
          "text": "Objective Value"
         }
        }
       }
      }
     },
     "metadata": {},
     "output_type": "display_data"
    },
    {
     "data": {
      "application/vnd.plotly.v1+json": {
       "config": {
        "plotlyServerURL": "https://plot.ly"
       },
       "data": [
        {
         "cliponaxis": false,
         "hovertemplate": [
          "normalize_advantage (CategoricalDistribution): 0.002188116208892414<extra></extra>",
          "ortho_init (CategoricalDistribution): 0.008211218256200905<extra></extra>",
          "lr_schedule (CategoricalDistribution): 0.008977410475685142<extra></extra>",
          "net_arch (CategoricalDistribution): 0.017256143792512876<extra></extra>",
          "activation_fn (CategoricalDistribution): 0.027185057628912115<extra></extra>",
          "ent_coef (FloatDistribution): 0.053055190412293875<extra></extra>",
          "use_rms_prop (CategoricalDistribution): 0.05785187809641349<extra></extra>",
          "max_grad_norm (CategoricalDistribution): 0.08705048503590351<extra></extra>",
          "gae_lambda (CategoricalDistribution): 0.09153730234331058<extra></extra>",
          "vf_coef (FloatDistribution): 0.13514794629529328<extra></extra>",
          "n_steps (CategoricalDistribution): 0.1440910651014125<extra></extra>",
          "gamma (CategoricalDistribution): 0.18282459091271705<extra></extra>",
          "learning_rate (FloatDistribution): 0.18462359544045237<extra></extra>"
         ],
         "marker": {
          "color": "rgb(66,146,198)"
         },
         "orientation": "h",
         "text": [
          "<0.01",
          "<0.01",
          "<0.01",
          "0.02",
          "0.03",
          "0.05",
          "0.06",
          "0.09",
          "0.09",
          "0.14",
          "0.14",
          "0.18",
          "0.18"
         ],
         "textposition": "outside",
         "type": "bar",
         "x": [
          0.002188116208892414,
          0.008211218256200905,
          0.008977410475685142,
          0.017256143792512876,
          0.027185057628912115,
          0.053055190412293875,
          0.05785187809641349,
          0.08705048503590351,
          0.09153730234331058,
          0.13514794629529328,
          0.1440910651014125,
          0.18282459091271705,
          0.18462359544045237
         ],
         "y": [
          "normalize_advantage",
          "ortho_init",
          "lr_schedule",
          "net_arch",
          "activation_fn",
          "ent_coef",
          "use_rms_prop",
          "max_grad_norm",
          "gae_lambda",
          "vf_coef",
          "n_steps",
          "gamma",
          "learning_rate"
         ]
        }
       ],
       "layout": {
        "showlegend": false,
        "template": {
         "data": {
          "bar": [
           {
            "error_x": {
             "color": "#2a3f5f"
            },
            "error_y": {
             "color": "#2a3f5f"
            },
            "marker": {
             "line": {
              "color": "#E5ECF6",
              "width": 0.5
             },
             "pattern": {
              "fillmode": "overlay",
              "size": 10,
              "solidity": 0.2
             }
            },
            "type": "bar"
           }
          ],
          "barpolar": [
           {
            "marker": {
             "line": {
              "color": "#E5ECF6",
              "width": 0.5
             },
             "pattern": {
              "fillmode": "overlay",
              "size": 10,
              "solidity": 0.2
             }
            },
            "type": "barpolar"
           }
          ],
          "carpet": [
           {
            "aaxis": {
             "endlinecolor": "#2a3f5f",
             "gridcolor": "white",
             "linecolor": "white",
             "minorgridcolor": "white",
             "startlinecolor": "#2a3f5f"
            },
            "baxis": {
             "endlinecolor": "#2a3f5f",
             "gridcolor": "white",
             "linecolor": "white",
             "minorgridcolor": "white",
             "startlinecolor": "#2a3f5f"
            },
            "type": "carpet"
           }
          ],
          "choropleth": [
           {
            "colorbar": {
             "outlinewidth": 0,
             "ticks": ""
            },
            "type": "choropleth"
           }
          ],
          "contour": [
           {
            "colorbar": {
             "outlinewidth": 0,
             "ticks": ""
            },
            "colorscale": [
             [
              0,
              "#0d0887"
             ],
             [
              0.1111111111111111,
              "#46039f"
             ],
             [
              0.2222222222222222,
              "#7201a8"
             ],
             [
              0.3333333333333333,
              "#9c179e"
             ],
             [
              0.4444444444444444,
              "#bd3786"
             ],
             [
              0.5555555555555556,
              "#d8576b"
             ],
             [
              0.6666666666666666,
              "#ed7953"
             ],
             [
              0.7777777777777778,
              "#fb9f3a"
             ],
             [
              0.8888888888888888,
              "#fdca26"
             ],
             [
              1,
              "#f0f921"
             ]
            ],
            "type": "contour"
           }
          ],
          "contourcarpet": [
           {
            "colorbar": {
             "outlinewidth": 0,
             "ticks": ""
            },
            "type": "contourcarpet"
           }
          ],
          "heatmap": [
           {
            "colorbar": {
             "outlinewidth": 0,
             "ticks": ""
            },
            "colorscale": [
             [
              0,
              "#0d0887"
             ],
             [
              0.1111111111111111,
              "#46039f"
             ],
             [
              0.2222222222222222,
              "#7201a8"
             ],
             [
              0.3333333333333333,
              "#9c179e"
             ],
             [
              0.4444444444444444,
              "#bd3786"
             ],
             [
              0.5555555555555556,
              "#d8576b"
             ],
             [
              0.6666666666666666,
              "#ed7953"
             ],
             [
              0.7777777777777778,
              "#fb9f3a"
             ],
             [
              0.8888888888888888,
              "#fdca26"
             ],
             [
              1,
              "#f0f921"
             ]
            ],
            "type": "heatmap"
           }
          ],
          "heatmapgl": [
           {
            "colorbar": {
             "outlinewidth": 0,
             "ticks": ""
            },
            "colorscale": [
             [
              0,
              "#0d0887"
             ],
             [
              0.1111111111111111,
              "#46039f"
             ],
             [
              0.2222222222222222,
              "#7201a8"
             ],
             [
              0.3333333333333333,
              "#9c179e"
             ],
             [
              0.4444444444444444,
              "#bd3786"
             ],
             [
              0.5555555555555556,
              "#d8576b"
             ],
             [
              0.6666666666666666,
              "#ed7953"
             ],
             [
              0.7777777777777778,
              "#fb9f3a"
             ],
             [
              0.8888888888888888,
              "#fdca26"
             ],
             [
              1,
              "#f0f921"
             ]
            ],
            "type": "heatmapgl"
           }
          ],
          "histogram": [
           {
            "marker": {
             "pattern": {
              "fillmode": "overlay",
              "size": 10,
              "solidity": 0.2
             }
            },
            "type": "histogram"
           }
          ],
          "histogram2d": [
           {
            "colorbar": {
             "outlinewidth": 0,
             "ticks": ""
            },
            "colorscale": [
             [
              0,
              "#0d0887"
             ],
             [
              0.1111111111111111,
              "#46039f"
             ],
             [
              0.2222222222222222,
              "#7201a8"
             ],
             [
              0.3333333333333333,
              "#9c179e"
             ],
             [
              0.4444444444444444,
              "#bd3786"
             ],
             [
              0.5555555555555556,
              "#d8576b"
             ],
             [
              0.6666666666666666,
              "#ed7953"
             ],
             [
              0.7777777777777778,
              "#fb9f3a"
             ],
             [
              0.8888888888888888,
              "#fdca26"
             ],
             [
              1,
              "#f0f921"
             ]
            ],
            "type": "histogram2d"
           }
          ],
          "histogram2dcontour": [
           {
            "colorbar": {
             "outlinewidth": 0,
             "ticks": ""
            },
            "colorscale": [
             [
              0,
              "#0d0887"
             ],
             [
              0.1111111111111111,
              "#46039f"
             ],
             [
              0.2222222222222222,
              "#7201a8"
             ],
             [
              0.3333333333333333,
              "#9c179e"
             ],
             [
              0.4444444444444444,
              "#bd3786"
             ],
             [
              0.5555555555555556,
              "#d8576b"
             ],
             [
              0.6666666666666666,
              "#ed7953"
             ],
             [
              0.7777777777777778,
              "#fb9f3a"
             ],
             [
              0.8888888888888888,
              "#fdca26"
             ],
             [
              1,
              "#f0f921"
             ]
            ],
            "type": "histogram2dcontour"
           }
          ],
          "mesh3d": [
           {
            "colorbar": {
             "outlinewidth": 0,
             "ticks": ""
            },
            "type": "mesh3d"
           }
          ],
          "parcoords": [
           {
            "line": {
             "colorbar": {
              "outlinewidth": 0,
              "ticks": ""
             }
            },
            "type": "parcoords"
           }
          ],
          "pie": [
           {
            "automargin": true,
            "type": "pie"
           }
          ],
          "scatter": [
           {
            "fillpattern": {
             "fillmode": "overlay",
             "size": 10,
             "solidity": 0.2
            },
            "type": "scatter"
           }
          ],
          "scatter3d": [
           {
            "line": {
             "colorbar": {
              "outlinewidth": 0,
              "ticks": ""
             }
            },
            "marker": {
             "colorbar": {
              "outlinewidth": 0,
              "ticks": ""
             }
            },
            "type": "scatter3d"
           }
          ],
          "scattercarpet": [
           {
            "marker": {
             "colorbar": {
              "outlinewidth": 0,
              "ticks": ""
             }
            },
            "type": "scattercarpet"
           }
          ],
          "scattergeo": [
           {
            "marker": {
             "colorbar": {
              "outlinewidth": 0,
              "ticks": ""
             }
            },
            "type": "scattergeo"
           }
          ],
          "scattergl": [
           {
            "marker": {
             "colorbar": {
              "outlinewidth": 0,
              "ticks": ""
             }
            },
            "type": "scattergl"
           }
          ],
          "scattermapbox": [
           {
            "marker": {
             "colorbar": {
              "outlinewidth": 0,
              "ticks": ""
             }
            },
            "type": "scattermapbox"
           }
          ],
          "scatterpolar": [
           {
            "marker": {
             "colorbar": {
              "outlinewidth": 0,
              "ticks": ""
             }
            },
            "type": "scatterpolar"
           }
          ],
          "scatterpolargl": [
           {
            "marker": {
             "colorbar": {
              "outlinewidth": 0,
              "ticks": ""
             }
            },
            "type": "scatterpolargl"
           }
          ],
          "scatterternary": [
           {
            "marker": {
             "colorbar": {
              "outlinewidth": 0,
              "ticks": ""
             }
            },
            "type": "scatterternary"
           }
          ],
          "surface": [
           {
            "colorbar": {
             "outlinewidth": 0,
             "ticks": ""
            },
            "colorscale": [
             [
              0,
              "#0d0887"
             ],
             [
              0.1111111111111111,
              "#46039f"
             ],
             [
              0.2222222222222222,
              "#7201a8"
             ],
             [
              0.3333333333333333,
              "#9c179e"
             ],
             [
              0.4444444444444444,
              "#bd3786"
             ],
             [
              0.5555555555555556,
              "#d8576b"
             ],
             [
              0.6666666666666666,
              "#ed7953"
             ],
             [
              0.7777777777777778,
              "#fb9f3a"
             ],
             [
              0.8888888888888888,
              "#fdca26"
             ],
             [
              1,
              "#f0f921"
             ]
            ],
            "type": "surface"
           }
          ],
          "table": [
           {
            "cells": {
             "fill": {
              "color": "#EBF0F8"
             },
             "line": {
              "color": "white"
             }
            },
            "header": {
             "fill": {
              "color": "#C8D4E3"
             },
             "line": {
              "color": "white"
             }
            },
            "type": "table"
           }
          ]
         },
         "layout": {
          "annotationdefaults": {
           "arrowcolor": "#2a3f5f",
           "arrowhead": 0,
           "arrowwidth": 1
          },
          "autotypenumbers": "strict",
          "coloraxis": {
           "colorbar": {
            "outlinewidth": 0,
            "ticks": ""
           }
          },
          "colorscale": {
           "diverging": [
            [
             0,
             "#8e0152"
            ],
            [
             0.1,
             "#c51b7d"
            ],
            [
             0.2,
             "#de77ae"
            ],
            [
             0.3,
             "#f1b6da"
            ],
            [
             0.4,
             "#fde0ef"
            ],
            [
             0.5,
             "#f7f7f7"
            ],
            [
             0.6,
             "#e6f5d0"
            ],
            [
             0.7,
             "#b8e186"
            ],
            [
             0.8,
             "#7fbc41"
            ],
            [
             0.9,
             "#4d9221"
            ],
            [
             1,
             "#276419"
            ]
           ],
           "sequential": [
            [
             0,
             "#0d0887"
            ],
            [
             0.1111111111111111,
             "#46039f"
            ],
            [
             0.2222222222222222,
             "#7201a8"
            ],
            [
             0.3333333333333333,
             "#9c179e"
            ],
            [
             0.4444444444444444,
             "#bd3786"
            ],
            [
             0.5555555555555556,
             "#d8576b"
            ],
            [
             0.6666666666666666,
             "#ed7953"
            ],
            [
             0.7777777777777778,
             "#fb9f3a"
            ],
            [
             0.8888888888888888,
             "#fdca26"
            ],
            [
             1,
             "#f0f921"
            ]
           ],
           "sequentialminus": [
            [
             0,
             "#0d0887"
            ],
            [
             0.1111111111111111,
             "#46039f"
            ],
            [
             0.2222222222222222,
             "#7201a8"
            ],
            [
             0.3333333333333333,
             "#9c179e"
            ],
            [
             0.4444444444444444,
             "#bd3786"
            ],
            [
             0.5555555555555556,
             "#d8576b"
            ],
            [
             0.6666666666666666,
             "#ed7953"
            ],
            [
             0.7777777777777778,
             "#fb9f3a"
            ],
            [
             0.8888888888888888,
             "#fdca26"
            ],
            [
             1,
             "#f0f921"
            ]
           ]
          },
          "colorway": [
           "#636efa",
           "#EF553B",
           "#00cc96",
           "#ab63fa",
           "#FFA15A",
           "#19d3f3",
           "#FF6692",
           "#B6E880",
           "#FF97FF",
           "#FECB52"
          ],
          "font": {
           "color": "#2a3f5f"
          },
          "geo": {
           "bgcolor": "white",
           "lakecolor": "white",
           "landcolor": "#E5ECF6",
           "showlakes": true,
           "showland": true,
           "subunitcolor": "white"
          },
          "hoverlabel": {
           "align": "left"
          },
          "hovermode": "closest",
          "mapbox": {
           "style": "light"
          },
          "paper_bgcolor": "white",
          "plot_bgcolor": "#E5ECF6",
          "polar": {
           "angularaxis": {
            "gridcolor": "white",
            "linecolor": "white",
            "ticks": ""
           },
           "bgcolor": "#E5ECF6",
           "radialaxis": {
            "gridcolor": "white",
            "linecolor": "white",
            "ticks": ""
           }
          },
          "scene": {
           "xaxis": {
            "backgroundcolor": "#E5ECF6",
            "gridcolor": "white",
            "gridwidth": 2,
            "linecolor": "white",
            "showbackground": true,
            "ticks": "",
            "zerolinecolor": "white"
           },
           "yaxis": {
            "backgroundcolor": "#E5ECF6",
            "gridcolor": "white",
            "gridwidth": 2,
            "linecolor": "white",
            "showbackground": true,
            "ticks": "",
            "zerolinecolor": "white"
           },
           "zaxis": {
            "backgroundcolor": "#E5ECF6",
            "gridcolor": "white",
            "gridwidth": 2,
            "linecolor": "white",
            "showbackground": true,
            "ticks": "",
            "zerolinecolor": "white"
           }
          },
          "shapedefaults": {
           "line": {
            "color": "#2a3f5f"
           }
          },
          "ternary": {
           "aaxis": {
            "gridcolor": "white",
            "linecolor": "white",
            "ticks": ""
           },
           "baxis": {
            "gridcolor": "white",
            "linecolor": "white",
            "ticks": ""
           },
           "bgcolor": "#E5ECF6",
           "caxis": {
            "gridcolor": "white",
            "linecolor": "white",
            "ticks": ""
           }
          },
          "title": {
           "x": 0.05
          },
          "xaxis": {
           "automargin": true,
           "gridcolor": "white",
           "linecolor": "white",
           "ticks": "",
           "title": {
            "standoff": 15
           },
           "zerolinecolor": "white",
           "zerolinewidth": 2
          },
          "yaxis": {
           "automargin": true,
           "gridcolor": "white",
           "linecolor": "white",
           "ticks": "",
           "title": {
            "standoff": 15
           },
           "zerolinecolor": "white",
           "zerolinewidth": 2
          }
         }
        },
        "title": {
         "text": "Hyperparameter Importances"
        },
        "xaxis": {
         "title": {
          "text": "Importance for Objective Value"
         }
        },
        "yaxis": {
         "title": {
          "text": "Hyperparameter"
         }
        }
       }
      }
     },
     "metadata": {},
     "output_type": "display_data"
    },
    {
     "data": {
      "application/vnd.plotly.v1+json": {
       "config": {
        "plotlyServerURL": "https://plot.ly"
       },
       "data": [
        {
         "dimensions": [
          {
           "label": "Objective Value",
           "range": [
            0,
            172.2
           ],
           "values": [
            96.5,
            31,
            12,
            31,
            97,
            111.7,
            165.8,
            140.1,
            62.3,
            111.2,
            61.9,
            103.7,
            172.2,
            93.2,
            133.6,
            106.4,
            31,
            31,
            71.8,
            114.3,
            93.2,
            31,
            12,
            111.7,
            119.7,
            120.1,
            96.7,
            31.9,
            65,
            31,
            152,
            139.3,
            31,
            95,
            70.9,
            76.7,
            2,
            122.1,
            31,
            31,
            58.7,
            62.5,
            31,
            31,
            12,
            31,
            2,
            88,
            12,
            31,
            31,
            31,
            31,
            0,
            31,
            2,
            90,
            31,
            31,
            31,
            31,
            31,
            12,
            55.4,
            31,
            31,
            111.7,
            31,
            149.7,
            144.7,
            92.6,
            96.1,
            94,
            94.7,
            66.1,
            64.1,
            12,
            31,
            31,
            31,
            63.6,
            96,
            67.1,
            12,
            31,
            31,
            12,
            12,
            12,
            2,
            31,
            31,
            58,
            67.2,
            31,
            31,
            31,
            31,
            12,
            31
           ]
          },
          {
           "label": "activation_fn",
           "range": [
            0,
            1
           ],
           "ticktext": [
            "tanh",
            "relu"
           ],
           "tickvals": [
            0,
            1
           ],
           "values": [
            1,
            1,
            1,
            1,
            1,
            1,
            1,
            1,
            1,
            1,
            1,
            1,
            1,
            1,
            1,
            1,
            1,
            1,
            1,
            1,
            1,
            1,
            1,
            1,
            1,
            1,
            1,
            1,
            1,
            1,
            1,
            1,
            1,
            1,
            1,
            1,
            1,
            1,
            1,
            1,
            1,
            1,
            1,
            1,
            1,
            1,
            0,
            1,
            0,
            1,
            0,
            0,
            1,
            1,
            1,
            1,
            1,
            0,
            0,
            1,
            1,
            1,
            1,
            1,
            1,
            1,
            1,
            1,
            1,
            1,
            1,
            1,
            1,
            1,
            1,
            1,
            1,
            1,
            1,
            1,
            1,
            1,
            1,
            1,
            1,
            1,
            1,
            1,
            1,
            0,
            0,
            0,
            1,
            1,
            1,
            0,
            0,
            0,
            0,
            0
           ]
          },
          {
           "label": "ent_coef",
           "range": [
            -7.849287789140468,
            -1.1088458777507197
           ],
           "ticktext": [
            "1.41e-08",
            "1e-07",
            "1e-06",
            "1e-05",
            "0.0001",
            "0.001",
            "0.01",
            "0.0778"
           ],
           "tickvals": [
            -7.849287789140468,
            -7,
            -6,
            -5,
            -4,
            -3,
            -2,
            -1.1088458777507197
           ],
           "values": [
            -4.1649515396567685,
            -4.185128361840262,
            -3.1168314020369157,
            -4.727112906632964,
            -4.8656468830953,
            -4.6556437790630625,
            -4.450587986789284,
            -4.576919911280793,
            -4.274836477966469,
            -4.202928293631868,
            -3.93256804837558,
            -4.379611222784231,
            -4.846402640743191,
            -4.582944621681716,
            -4.5215356044581325,
            -4.81716703407902,
            -3.350448196556477,
            -3.6773435103772436,
            -3.991137972375984,
            -3.7566843334291784,
            -4.020807904871339,
            -3.1781977376088735,
            -2.40571303667176,
            -3.5724417016614454,
            -4.136211197262619,
            -4.003910581335598,
            -2.854550670327649,
            -2.8035086243645564,
            -4.620665847391548,
            -3.850780842231641,
            -3.6133502314807187,
            -3.910015193978013,
            -4.205207667386685,
            -4.565993381070565,
            -3.902656572294511,
            -4.478442619865132,
            -4.459747877867773,
            -4.805376706109274,
            -3.7989989896314538,
            -4.191572929033892,
            -4.458411795693588,
            -4.581934530419909,
            -4.175684680784575,
            -3.6068512431934616,
            -3.375225180843192,
            -4.916048525844436,
            -7.372084803020496,
            -5.596724844103699,
            -2.930349753801153,
            -3.714047741951134,
            -4.9743093648145775,
            -5.075541787181773,
            -7.66477784177259,
            -5.782543795803621,
            -3.808576490958576,
            -4.077230201637535,
            -6.96507435788203,
            -6.835533032542567,
            -6.7969351358894485,
            -3.942475816375323,
            -3.5413307332304718,
            -6.908400323018728,
            -5.640431836878439,
            -5.875924959384145,
            -6.149608613850376,
            -4.804288538756089,
            -3.6755551019474026,
            -6.30078153162568,
            -3.8165633706985087,
            -3.866845847388975,
            -3.154549758122016,
            -4.324801222758744,
            -4.055519722969402,
            -4.346156288836698,
            -3.8596087834448114,
            -3.7784816263013266,
            -3.448828726551494,
            -1.1088458777507197,
            -4.425801188387029,
            -4.073982833215813,
            -5.268406556449194,
            -5.2614122718119924,
            -5.273878873612721,
            -5.520168836724628,
            -3.740670925232355,
            -3.543699340279922,
            -7.849287789140468,
            -3.4829225579269614,
            -4.050196574918691,
            -4.35959400926849,
            -5.144639265130842,
            -2.173015039691989,
            -6.2410694945896825,
            -6.468179274488372,
            -4.6936676348503825,
            -5.037135130814021,
            -4.532882644002081,
            -4.26672072268685,
            -4.747836421106335,
            -4.696084231554632
           ]
          },
          {
           "label": "gae_lambda",
           "range": [
            0,
            6
           ],
           "ticktext": [
            "0.8",
            "0.9",
            "0.92",
            "0.95",
            "0.98",
            "0.99",
            "1.0"
           ],
           "tickvals": [
            0,
            1,
            2,
            3,
            4,
            5,
            6
           ],
           "values": [
            0,
            0,
            0,
            0,
            0,
            0,
            0,
            0,
            0,
            0,
            0,
            0,
            0,
            0,
            0,
            0,
            0,
            0,
            0,
            0,
            0,
            0,
            0,
            0,
            0,
            0,
            0,
            0,
            0,
            0,
            0,
            0,
            0,
            0,
            0,
            0,
            0,
            0,
            0,
            0,
            0,
            0,
            0,
            0,
            0,
            0,
            0,
            0,
            0,
            1,
            1,
            1,
            1,
            1,
            2,
            2,
            2,
            2,
            2,
            2,
            2,
            2,
            2,
            3,
            3,
            3,
            3,
            3,
            3,
            3,
            3,
            3,
            3,
            3,
            3,
            3,
            3,
            3,
            3,
            4,
            4,
            4,
            4,
            4,
            4,
            4,
            4,
            5,
            5,
            5,
            5,
            5,
            5,
            5,
            6,
            6,
            6,
            6,
            6,
            6
           ]
          },
          {
           "label": "gamma",
           "range": [
            0,
            6
           ],
           "ticktext": [
            "0.95",
            "0.98",
            "0.99",
            "0.995",
            "0.999",
            "0.9999",
            "0.99999"
           ],
           "tickvals": [
            0,
            1,
            2,
            3,
            4,
            5,
            6
           ],
           "values": [
            1,
            1,
            1,
            1,
            1,
            1,
            1,
            1,
            1,
            1,
            1,
            1,
            1,
            1,
            1,
            1,
            1,
            1,
            1,
            1,
            1,
            1,
            1,
            1,
            1,
            1,
            1,
            1,
            1,
            1,
            1,
            1,
            1,
            1,
            1,
            3,
            3,
            3,
            3,
            4,
            4,
            4,
            4,
            4,
            5,
            5,
            6,
            6,
            6,
            0,
            1,
            2,
            5,
            6,
            1,
            1,
            1,
            1,
            1,
            1,
            1,
            2,
            5,
            0,
            0,
            0,
            0,
            0,
            2,
            2,
            2,
            2,
            2,
            2,
            2,
            2,
            2,
            3,
            5,
            1,
            1,
            1,
            1,
            1,
            2,
            2,
            4,
            0,
            3,
            3,
            3,
            4,
            6,
            6,
            0,
            1,
            2,
            2,
            6,
            6
           ]
          },
          {
           "label": "learning_rate",
           "range": [
            -4.7832834142311045,
            -0.1559535050545398
           ],
           "ticktext": [
            "1.65e-05",
            "0.0001",
            "0.001",
            "0.01",
            "0.1",
            "0.698"
           ],
           "tickvals": [
            -4.7832834142311045,
            -4,
            -3,
            -2,
            -1,
            -0.1559535050545398
           ],
           "values": [
            -2.586961466765118,
            -3.0221526887967136,
            -2.2732858278897816,
            -2.311230525687551,
            -2.881524543340245,
            -2.785697222543939,
            -2.6552102177525314,
            -2.69603722026733,
            -3.2678819884949997,
            -2.636833203430391,
            -2.3521469751707826,
            -2.8295726619894617,
            -2.7409192380737886,
            -2.7758122778174603,
            -2.5828550060841207,
            -2.526040030995113,
            -2.7674285508905445,
            -1.5915627003374904,
            -2.8042193733086256,
            -2.6454544500851838,
            -2.563379171309083,
            -2.2205334261095,
            -0.7334629923088056,
            -2.783280136633624,
            -2.7761217198509534,
            -2.7439393353946797,
            -2.2920914640482226,
            -3.4495907465862636,
            -3.4455913663973603,
            -3.724732846972776,
            -2.889181857993848,
            -2.7641946046042714,
            -3.3706746500902005,
            -2.937205159480136,
            -2.924782747745621,
            -2.6405848092572364,
            -2.4658128328630533,
            -2.3919817991815626,
            -3.363240084811124,
            -2.6351389951785777,
            -2.612045940035864,
            -2.3908801329532174,
            -2.65452280618352,
            -1.5045953384710735,
            -2.753749624279233,
            -3.3097461642999804,
            -0.1559535050545398,
            -2.958970405873723,
            -4.714737772993028,
            -2.529347395270163,
            -2.107922839603907,
            -2.880298449800158,
            -4.120970406968897,
            -1.5238772206305866,
            -1.89689244596807,
            -2.5532045529166187,
            -3.1024455100723043,
            -4.05122023138019,
            -3.9636339181475577,
            -3.1268622523776024,
            -2.4130266791073955,
            -3.544361801987658,
            -1.4461797159992331,
            -2.537426740047433,
            -2.1729139144176,
            -2.2946271246439047,
            -2.524907024601602,
            -2.0831429805982733,
            -2.937894334648779,
            -3.0068740722507536,
            -3.0007869963178972,
            -3.050146023812026,
            -3.0409306004596868,
            -2.4618487447880155,
            -2.462476787001127,
            -2.7163832704439037,
            -3.111877607579956,
            -2.8590762339230116,
            -2.9233199341280445,
            -2.8921337816893256,
            -3.035807917272357,
            -3.0060656211164956,
            -2.9629213374018963,
            -3.1144346932450926,
            -3.337013496249314,
            -2.6945251301671695,
            -4.7832834142311045,
            -3.1849466493001737,
            -3.204964661426527,
            -2.401839695762688,
            -2.3416649418982898,
            -3.6606871039297775,
            -2.5824523261068544,
            -3.251941925670432,
            -3.598062828563841,
            -2.8764807407040442,
            -2.7522260350173493,
            -1.8785750244397037,
            -2.7310391638041835,
            -3.2088768966364043
           ]
          },
          {
           "label": "lr_schedule",
           "range": [
            0,
            1
           ],
           "ticktext": [
            "linear",
            "constant"
           ],
           "tickvals": [
            0,
            1
           ],
           "values": [
            1,
            1,
            1,
            1,
            1,
            1,
            1,
            1,
            1,
            1,
            1,
            1,
            1,
            1,
            1,
            1,
            0,
            1,
            1,
            1,
            1,
            1,
            1,
            1,
            1,
            1,
            1,
            1,
            1,
            1,
            1,
            1,
            0,
            1,
            1,
            1,
            1,
            1,
            1,
            1,
            1,
            1,
            1,
            1,
            0,
            1,
            1,
            1,
            0,
            1,
            1,
            1,
            1,
            1,
            1,
            1,
            1,
            0,
            0,
            1,
            1,
            1,
            1,
            1,
            1,
            1,
            1,
            1,
            1,
            1,
            1,
            1,
            1,
            1,
            0,
            0,
            1,
            1,
            1,
            1,
            1,
            1,
            1,
            1,
            0,
            1,
            0,
            1,
            1,
            1,
            1,
            0,
            1,
            1,
            1,
            0,
            0,
            0,
            1,
            1
           ]
          },
          {
           "label": "max_grad_norm",
           "range": [
            0,
            8
           ],
           "ticktext": [
            "0.3",
            "0.5",
            "0.6",
            "0.7",
            "0.8",
            "0.9",
            "1",
            "2",
            "5"
           ],
           "tickvals": [
            0,
            1,
            2,
            3,
            4,
            5,
            6,
            7,
            8
           ],
           "values": [
            0,
            1,
            2,
            3,
            3,
            3,
            3,
            3,
            3,
            3,
            3,
            3,
            3,
            3,
            3,
            3,
            3,
            4,
            5,
            5,
            5,
            5,
            7,
            7,
            7,
            7,
            7,
            7,
            7,
            7,
            7,
            7,
            7,
            8,
            8,
            3,
            3,
            3,
            4,
            2,
            3,
            3,
            6,
            7,
            3,
            3,
            3,
            5,
            8,
            5,
            3,
            7,
            6,
            5,
            0,
            2,
            6,
            6,
            6,
            7,
            7,
            1,
            5,
            1,
            1,
            1,
            5,
            6,
            2,
            2,
            2,
            2,
            2,
            2,
            2,
            2,
            7,
            4,
            5,
            7,
            8,
            8,
            8,
            8,
            7,
            7,
            5,
            7,
            1,
            3,
            3,
            2,
            0,
            7,
            1,
            0,
            0,
            0,
            4,
            4
           ]
          },
          {
           "label": "n_steps",
           "range": [
            0,
            4
           ],
           "ticktext": [
            "64",
            "128",
            "256",
            "512",
            "1024"
           ],
           "tickvals": [
            0,
            1,
            2,
            3,
            4
           ],
           "values": [
            1,
            2,
            1,
            0,
            1,
            1,
            1,
            1,
            1,
            1,
            1,
            1,
            1,
            1,
            1,
            1,
            3,
            4,
            1,
            1,
            1,
            3,
            0,
            1,
            1,
            1,
            1,
            1,
            1,
            1,
            1,
            1,
            2,
            1,
            1,
            1,
            1,
            1,
            1,
            1,
            1,
            1,
            1,
            4,
            3,
            4,
            1,
            1,
            4,
            3,
            1,
            1,
            1,
            1,
            0,
            0,
            1,
            1,
            1,
            1,
            4,
            4,
            1,
            2,
            2,
            2,
            1,
            2,
            0,
            0,
            0,
            0,
            0,
            0,
            0,
            0,
            2,
            2,
            1,
            1,
            1,
            1,
            2,
            3,
            0,
            4,
            0,
            2,
            0,
            1,
            1,
            3,
            1,
            1,
            4,
            1,
            3,
            3,
            0,
            0
           ]
          },
          {
           "label": "net_arch",
           "range": [
            0,
            1
           ],
           "ticktext": [
            "medium",
            "small"
           ],
           "tickvals": [
            0,
            1
           ],
           "values": [
            1,
            1,
            0,
            1,
            1,
            1,
            1,
            1,
            1,
            1,
            1,
            1,
            1,
            1,
            1,
            1,
            1,
            1,
            1,
            1,
            1,
            1,
            1,
            1,
            1,
            1,
            1,
            1,
            0,
            1,
            1,
            1,
            1,
            1,
            1,
            1,
            1,
            1,
            1,
            0,
            1,
            1,
            1,
            1,
            1,
            0,
            0,
            1,
            0,
            1,
            1,
            1,
            1,
            1,
            1,
            1,
            1,
            0,
            0,
            1,
            1,
            1,
            1,
            1,
            1,
            1,
            1,
            1,
            1,
            1,
            1,
            1,
            1,
            1,
            1,
            1,
            1,
            1,
            1,
            1,
            1,
            1,
            1,
            1,
            1,
            1,
            0,
            0,
            1,
            1,
            1,
            1,
            1,
            1,
            1,
            0,
            0,
            0,
            1,
            1
           ]
          },
          {
           "label": "normalize_advantage",
           "range": [
            0,
            1
           ],
           "ticktext": [
            "False",
            "True"
           ],
           "tickvals": [
            0,
            1
           ],
           "values": [
            0,
            0,
            0,
            0,
            0,
            0,
            0,
            0,
            0,
            0,
            0,
            0,
            0,
            0,
            0,
            0,
            0,
            0,
            0,
            0,
            0,
            0,
            0,
            0,
            0,
            0,
            0,
            0,
            0,
            0,
            0,
            0,
            0,
            0,
            0,
            0,
            0,
            0,
            1,
            0,
            0,
            0,
            0,
            0,
            0,
            0,
            1,
            1,
            0,
            0,
            0,
            0,
            1,
            1,
            0,
            0,
            1,
            1,
            1,
            0,
            0,
            1,
            1,
            1,
            1,
            1,
            0,
            1,
            0,
            0,
            0,
            0,
            0,
            0,
            0,
            0,
            0,
            1,
            0,
            0,
            1,
            1,
            1,
            1,
            0,
            0,
            0,
            0,
            0,
            0,
            1,
            0,
            1,
            1,
            1,
            0,
            0,
            0,
            0,
            0
           ]
          },
          {
           "label": "ortho_init",
           "range": [
            0,
            1
           ],
           "ticktext": [
            "True",
            "False"
           ],
           "tickvals": [
            0,
            1
           ],
           "values": [
            0,
            1,
            1,
            1,
            0,
            0,
            0,
            1,
            1,
            0,
            0,
            1,
            0,
            0,
            0,
            0,
            1,
            1,
            1,
            1,
            1,
            1,
            1,
            1,
            1,
            1,
            1,
            1,
            1,
            1,
            1,
            1,
            1,
            1,
            1,
            0,
            0,
            0,
            0,
            1,
            1,
            1,
            1,
            1,
            1,
            1,
            1,
            0,
            0,
            1,
            0,
            0,
            0,
            0,
            0,
            0,
            0,
            1,
            1,
            1,
            1,
            0,
            0,
            0,
            0,
            0,
            1,
            0,
            1,
            1,
            1,
            1,
            1,
            1,
            1,
            1,
            1,
            0,
            1,
            1,
            0,
            0,
            0,
            0,
            1,
            1,
            1,
            1,
            1,
            0,
            0,
            1,
            0,
            0,
            0,
            0,
            0,
            0,
            1,
            1
           ]
          },
          {
           "label": "use_rms_prop",
           "range": [
            0,
            1
           ],
           "ticktext": [
            "True",
            "False"
           ],
           "tickvals": [
            0,
            1
           ],
           "values": [
            0,
            0,
            0,
            0,
            0,
            0,
            0,
            0,
            0,
            0,
            0,
            0,
            0,
            0,
            0,
            0,
            0,
            0,
            0,
            0,
            0,
            0,
            0,
            0,
            0,
            0,
            0,
            0,
            0,
            0,
            0,
            0,
            0,
            0,
            0,
            0,
            0,
            0,
            1,
            0,
            0,
            0,
            1,
            0,
            1,
            1,
            1,
            0,
            0,
            0,
            0,
            0,
            0,
            0,
            1,
            1,
            0,
            0,
            0,
            0,
            0,
            0,
            0,
            0,
            0,
            0,
            0,
            0,
            0,
            0,
            0,
            0,
            0,
            0,
            0,
            0,
            1,
            1,
            0,
            0,
            0,
            0,
            0,
            0,
            0,
            0,
            1,
            1,
            0,
            0,
            1,
            1,
            0,
            0,
            0,
            0,
            0,
            0,
            0,
            0
           ]
          },
          {
           "label": "vf_coef",
           "range": [
            0.004730419862993718,
            0.9636713821785223
           ],
           "values": [
            0.13568240992265468,
            0.713498295569558,
            0.6766372969649618,
            0.545274516277984,
            0.22870596955174277,
            0.34055058643677827,
            0.330009349570694,
            0.39306071038730056,
            0.23063489822059535,
            0.24310048627784114,
            0.23460989705743335,
            0.5005586559943809,
            0.32837777846078803,
            0.566019638613656,
            0.6521305950123036,
            0.6580098131477413,
            0.4934029489145294,
            0.6404611238218927,
            0.2569799340862896,
            0.6230858914215578,
            0.6490747351653587,
            0.6227845478725818,
            0.8236229013470064,
            0.6499982739113472,
            0.6785524573927392,
            0.7127054007739886,
            0.6639029392763881,
            0.7238661135032054,
            0.7110886174632038,
            0.5730249625544799,
            0.6628053765740005,
            0.584563987107642,
            0.5239735750591127,
            0.6639675495816925,
            0.6861156784484177,
            0.35737149492643894,
            0.23169699168004157,
            0.39972711203922495,
            0.2521533922771737,
            0.7380840725897893,
            0.3770298559952423,
            0.3876245431458069,
            0.6567137928263637,
            0.6347409037244527,
            0.5131171916836199,
            0.41323620733948324,
            0.2384737598742764,
            0.2713698302916663,
            0.5974326389286028,
            0.6218915019600041,
            0.31953850524258615,
            0.3438210610352857,
            0.45482334104558475,
            0.031262302293835864,
            0.1700849599925826,
            0.11320168119659854,
            0.32213847019351144,
            0.35229382594961356,
            0.30613029596367347,
            0.5737723907983779,
            0.5847881702304709,
            0.004730419862993718,
            0.025592237444401478,
            0.09420910194274357,
            0.18611984814772198,
            0.16619601486174596,
            0.682177275848704,
            0.16408621973666648,
            0.5773472412608255,
            0.6147423335011662,
            0.6004351394489943,
            0.5988164694831726,
            0.5328708531513915,
            0.581968398337693,
            0.46519277740484133,
            0.4511388199085524,
            0.8033966804285424,
            0.9636713821785223,
            0.6068048662011836,
            0.6968159633792499,
            0.46533081115268315,
            0.29485991953926416,
            0.3730402640939556,
            0.27746301150400915,
            0.623281884221343,
            0.6289297895935395,
            0.39248649131210556,
            0.7709562781373063,
            0.5533142465641687,
            0.39389176917968244,
            0.39497355530706024,
            0.5595026297455546,
            0.29199502102549274,
            0.286066741763261,
            0.032703990872343935,
            0.4225154400491504,
            0.3890176244959209,
            0.1926078773188803,
            0.4294875491372947,
            0.5537230212107687
           ]
          }
         ],
         "labelangle": 30,
         "labelside": "bottom",
         "line": {
          "color": [
           96.5,
           31,
           12,
           31,
           97,
           111.7,
           165.8,
           140.1,
           62.3,
           111.2,
           61.9,
           103.7,
           172.2,
           93.2,
           133.6,
           106.4,
           31,
           31,
           71.8,
           114.3,
           93.2,
           31,
           12,
           111.7,
           119.7,
           120.1,
           96.7,
           31.9,
           65,
           31,
           152,
           139.3,
           31,
           95,
           70.9,
           76.7,
           2,
           122.1,
           31,
           31,
           58.7,
           62.5,
           31,
           31,
           12,
           31,
           2,
           88,
           12,
           31,
           31,
           31,
           31,
           0,
           31,
           2,
           90,
           31,
           31,
           31,
           31,
           31,
           12,
           55.4,
           31,
           31,
           111.7,
           31,
           149.7,
           144.7,
           92.6,
           96.1,
           94,
           94.7,
           66.1,
           64.1,
           12,
           31,
           31,
           31,
           63.6,
           96,
           67.1,
           12,
           31,
           31,
           12,
           12,
           12,
           2,
           31,
           31,
           58,
           67.2,
           31,
           31,
           31,
           31,
           12,
           31
          ],
          "colorbar": {
           "title": {
            "text": "Objective Value"
           }
          },
          "colorscale": [
           [
            0,
            "rgb(247,251,255)"
           ],
           [
            0.125,
            "rgb(222,235,247)"
           ],
           [
            0.25,
            "rgb(198,219,239)"
           ],
           [
            0.375,
            "rgb(158,202,225)"
           ],
           [
            0.5,
            "rgb(107,174,214)"
           ],
           [
            0.625,
            "rgb(66,146,198)"
           ],
           [
            0.75,
            "rgb(33,113,181)"
           ],
           [
            0.875,
            "rgb(8,81,156)"
           ],
           [
            1,
            "rgb(8,48,107)"
           ]
          ],
          "reversescale": false,
          "showscale": true
         },
         "type": "parcoords"
        }
       ],
       "layout": {
        "template": {
         "data": {
          "bar": [
           {
            "error_x": {
             "color": "#2a3f5f"
            },
            "error_y": {
             "color": "#2a3f5f"
            },
            "marker": {
             "line": {
              "color": "#E5ECF6",
              "width": 0.5
             },
             "pattern": {
              "fillmode": "overlay",
              "size": 10,
              "solidity": 0.2
             }
            },
            "type": "bar"
           }
          ],
          "barpolar": [
           {
            "marker": {
             "line": {
              "color": "#E5ECF6",
              "width": 0.5
             },
             "pattern": {
              "fillmode": "overlay",
              "size": 10,
              "solidity": 0.2
             }
            },
            "type": "barpolar"
           }
          ],
          "carpet": [
           {
            "aaxis": {
             "endlinecolor": "#2a3f5f",
             "gridcolor": "white",
             "linecolor": "white",
             "minorgridcolor": "white",
             "startlinecolor": "#2a3f5f"
            },
            "baxis": {
             "endlinecolor": "#2a3f5f",
             "gridcolor": "white",
             "linecolor": "white",
             "minorgridcolor": "white",
             "startlinecolor": "#2a3f5f"
            },
            "type": "carpet"
           }
          ],
          "choropleth": [
           {
            "colorbar": {
             "outlinewidth": 0,
             "ticks": ""
            },
            "type": "choropleth"
           }
          ],
          "contour": [
           {
            "colorbar": {
             "outlinewidth": 0,
             "ticks": ""
            },
            "colorscale": [
             [
              0,
              "#0d0887"
             ],
             [
              0.1111111111111111,
              "#46039f"
             ],
             [
              0.2222222222222222,
              "#7201a8"
             ],
             [
              0.3333333333333333,
              "#9c179e"
             ],
             [
              0.4444444444444444,
              "#bd3786"
             ],
             [
              0.5555555555555556,
              "#d8576b"
             ],
             [
              0.6666666666666666,
              "#ed7953"
             ],
             [
              0.7777777777777778,
              "#fb9f3a"
             ],
             [
              0.8888888888888888,
              "#fdca26"
             ],
             [
              1,
              "#f0f921"
             ]
            ],
            "type": "contour"
           }
          ],
          "contourcarpet": [
           {
            "colorbar": {
             "outlinewidth": 0,
             "ticks": ""
            },
            "type": "contourcarpet"
           }
          ],
          "heatmap": [
           {
            "colorbar": {
             "outlinewidth": 0,
             "ticks": ""
            },
            "colorscale": [
             [
              0,
              "#0d0887"
             ],
             [
              0.1111111111111111,
              "#46039f"
             ],
             [
              0.2222222222222222,
              "#7201a8"
             ],
             [
              0.3333333333333333,
              "#9c179e"
             ],
             [
              0.4444444444444444,
              "#bd3786"
             ],
             [
              0.5555555555555556,
              "#d8576b"
             ],
             [
              0.6666666666666666,
              "#ed7953"
             ],
             [
              0.7777777777777778,
              "#fb9f3a"
             ],
             [
              0.8888888888888888,
              "#fdca26"
             ],
             [
              1,
              "#f0f921"
             ]
            ],
            "type": "heatmap"
           }
          ],
          "heatmapgl": [
           {
            "colorbar": {
             "outlinewidth": 0,
             "ticks": ""
            },
            "colorscale": [
             [
              0,
              "#0d0887"
             ],
             [
              0.1111111111111111,
              "#46039f"
             ],
             [
              0.2222222222222222,
              "#7201a8"
             ],
             [
              0.3333333333333333,
              "#9c179e"
             ],
             [
              0.4444444444444444,
              "#bd3786"
             ],
             [
              0.5555555555555556,
              "#d8576b"
             ],
             [
              0.6666666666666666,
              "#ed7953"
             ],
             [
              0.7777777777777778,
              "#fb9f3a"
             ],
             [
              0.8888888888888888,
              "#fdca26"
             ],
             [
              1,
              "#f0f921"
             ]
            ],
            "type": "heatmapgl"
           }
          ],
          "histogram": [
           {
            "marker": {
             "pattern": {
              "fillmode": "overlay",
              "size": 10,
              "solidity": 0.2
             }
            },
            "type": "histogram"
           }
          ],
          "histogram2d": [
           {
            "colorbar": {
             "outlinewidth": 0,
             "ticks": ""
            },
            "colorscale": [
             [
              0,
              "#0d0887"
             ],
             [
              0.1111111111111111,
              "#46039f"
             ],
             [
              0.2222222222222222,
              "#7201a8"
             ],
             [
              0.3333333333333333,
              "#9c179e"
             ],
             [
              0.4444444444444444,
              "#bd3786"
             ],
             [
              0.5555555555555556,
              "#d8576b"
             ],
             [
              0.6666666666666666,
              "#ed7953"
             ],
             [
              0.7777777777777778,
              "#fb9f3a"
             ],
             [
              0.8888888888888888,
              "#fdca26"
             ],
             [
              1,
              "#f0f921"
             ]
            ],
            "type": "histogram2d"
           }
          ],
          "histogram2dcontour": [
           {
            "colorbar": {
             "outlinewidth": 0,
             "ticks": ""
            },
            "colorscale": [
             [
              0,
              "#0d0887"
             ],
             [
              0.1111111111111111,
              "#46039f"
             ],
             [
              0.2222222222222222,
              "#7201a8"
             ],
             [
              0.3333333333333333,
              "#9c179e"
             ],
             [
              0.4444444444444444,
              "#bd3786"
             ],
             [
              0.5555555555555556,
              "#d8576b"
             ],
             [
              0.6666666666666666,
              "#ed7953"
             ],
             [
              0.7777777777777778,
              "#fb9f3a"
             ],
             [
              0.8888888888888888,
              "#fdca26"
             ],
             [
              1,
              "#f0f921"
             ]
            ],
            "type": "histogram2dcontour"
           }
          ],
          "mesh3d": [
           {
            "colorbar": {
             "outlinewidth": 0,
             "ticks": ""
            },
            "type": "mesh3d"
           }
          ],
          "parcoords": [
           {
            "line": {
             "colorbar": {
              "outlinewidth": 0,
              "ticks": ""
             }
            },
            "type": "parcoords"
           }
          ],
          "pie": [
           {
            "automargin": true,
            "type": "pie"
           }
          ],
          "scatter": [
           {
            "fillpattern": {
             "fillmode": "overlay",
             "size": 10,
             "solidity": 0.2
            },
            "type": "scatter"
           }
          ],
          "scatter3d": [
           {
            "line": {
             "colorbar": {
              "outlinewidth": 0,
              "ticks": ""
             }
            },
            "marker": {
             "colorbar": {
              "outlinewidth": 0,
              "ticks": ""
             }
            },
            "type": "scatter3d"
           }
          ],
          "scattercarpet": [
           {
            "marker": {
             "colorbar": {
              "outlinewidth": 0,
              "ticks": ""
             }
            },
            "type": "scattercarpet"
           }
          ],
          "scattergeo": [
           {
            "marker": {
             "colorbar": {
              "outlinewidth": 0,
              "ticks": ""
             }
            },
            "type": "scattergeo"
           }
          ],
          "scattergl": [
           {
            "marker": {
             "colorbar": {
              "outlinewidth": 0,
              "ticks": ""
             }
            },
            "type": "scattergl"
           }
          ],
          "scattermapbox": [
           {
            "marker": {
             "colorbar": {
              "outlinewidth": 0,
              "ticks": ""
             }
            },
            "type": "scattermapbox"
           }
          ],
          "scatterpolar": [
           {
            "marker": {
             "colorbar": {
              "outlinewidth": 0,
              "ticks": ""
             }
            },
            "type": "scatterpolar"
           }
          ],
          "scatterpolargl": [
           {
            "marker": {
             "colorbar": {
              "outlinewidth": 0,
              "ticks": ""
             }
            },
            "type": "scatterpolargl"
           }
          ],
          "scatterternary": [
           {
            "marker": {
             "colorbar": {
              "outlinewidth": 0,
              "ticks": ""
             }
            },
            "type": "scatterternary"
           }
          ],
          "surface": [
           {
            "colorbar": {
             "outlinewidth": 0,
             "ticks": ""
            },
            "colorscale": [
             [
              0,
              "#0d0887"
             ],
             [
              0.1111111111111111,
              "#46039f"
             ],
             [
              0.2222222222222222,
              "#7201a8"
             ],
             [
              0.3333333333333333,
              "#9c179e"
             ],
             [
              0.4444444444444444,
              "#bd3786"
             ],
             [
              0.5555555555555556,
              "#d8576b"
             ],
             [
              0.6666666666666666,
              "#ed7953"
             ],
             [
              0.7777777777777778,
              "#fb9f3a"
             ],
             [
              0.8888888888888888,
              "#fdca26"
             ],
             [
              1,
              "#f0f921"
             ]
            ],
            "type": "surface"
           }
          ],
          "table": [
           {
            "cells": {
             "fill": {
              "color": "#EBF0F8"
             },
             "line": {
              "color": "white"
             }
            },
            "header": {
             "fill": {
              "color": "#C8D4E3"
             },
             "line": {
              "color": "white"
             }
            },
            "type": "table"
           }
          ]
         },
         "layout": {
          "annotationdefaults": {
           "arrowcolor": "#2a3f5f",
           "arrowhead": 0,
           "arrowwidth": 1
          },
          "autotypenumbers": "strict",
          "coloraxis": {
           "colorbar": {
            "outlinewidth": 0,
            "ticks": ""
           }
          },
          "colorscale": {
           "diverging": [
            [
             0,
             "#8e0152"
            ],
            [
             0.1,
             "#c51b7d"
            ],
            [
             0.2,
             "#de77ae"
            ],
            [
             0.3,
             "#f1b6da"
            ],
            [
             0.4,
             "#fde0ef"
            ],
            [
             0.5,
             "#f7f7f7"
            ],
            [
             0.6,
             "#e6f5d0"
            ],
            [
             0.7,
             "#b8e186"
            ],
            [
             0.8,
             "#7fbc41"
            ],
            [
             0.9,
             "#4d9221"
            ],
            [
             1,
             "#276419"
            ]
           ],
           "sequential": [
            [
             0,
             "#0d0887"
            ],
            [
             0.1111111111111111,
             "#46039f"
            ],
            [
             0.2222222222222222,
             "#7201a8"
            ],
            [
             0.3333333333333333,
             "#9c179e"
            ],
            [
             0.4444444444444444,
             "#bd3786"
            ],
            [
             0.5555555555555556,
             "#d8576b"
            ],
            [
             0.6666666666666666,
             "#ed7953"
            ],
            [
             0.7777777777777778,
             "#fb9f3a"
            ],
            [
             0.8888888888888888,
             "#fdca26"
            ],
            [
             1,
             "#f0f921"
            ]
           ],
           "sequentialminus": [
            [
             0,
             "#0d0887"
            ],
            [
             0.1111111111111111,
             "#46039f"
            ],
            [
             0.2222222222222222,
             "#7201a8"
            ],
            [
             0.3333333333333333,
             "#9c179e"
            ],
            [
             0.4444444444444444,
             "#bd3786"
            ],
            [
             0.5555555555555556,
             "#d8576b"
            ],
            [
             0.6666666666666666,
             "#ed7953"
            ],
            [
             0.7777777777777778,
             "#fb9f3a"
            ],
            [
             0.8888888888888888,
             "#fdca26"
            ],
            [
             1,
             "#f0f921"
            ]
           ]
          },
          "colorway": [
           "#636efa",
           "#EF553B",
           "#00cc96",
           "#ab63fa",
           "#FFA15A",
           "#19d3f3",
           "#FF6692",
           "#B6E880",
           "#FF97FF",
           "#FECB52"
          ],
          "font": {
           "color": "#2a3f5f"
          },
          "geo": {
           "bgcolor": "white",
           "lakecolor": "white",
           "landcolor": "#E5ECF6",
           "showlakes": true,
           "showland": true,
           "subunitcolor": "white"
          },
          "hoverlabel": {
           "align": "left"
          },
          "hovermode": "closest",
          "mapbox": {
           "style": "light"
          },
          "paper_bgcolor": "white",
          "plot_bgcolor": "#E5ECF6",
          "polar": {
           "angularaxis": {
            "gridcolor": "white",
            "linecolor": "white",
            "ticks": ""
           },
           "bgcolor": "#E5ECF6",
           "radialaxis": {
            "gridcolor": "white",
            "linecolor": "white",
            "ticks": ""
           }
          },
          "scene": {
           "xaxis": {
            "backgroundcolor": "#E5ECF6",
            "gridcolor": "white",
            "gridwidth": 2,
            "linecolor": "white",
            "showbackground": true,
            "ticks": "",
            "zerolinecolor": "white"
           },
           "yaxis": {
            "backgroundcolor": "#E5ECF6",
            "gridcolor": "white",
            "gridwidth": 2,
            "linecolor": "white",
            "showbackground": true,
            "ticks": "",
            "zerolinecolor": "white"
           },
           "zaxis": {
            "backgroundcolor": "#E5ECF6",
            "gridcolor": "white",
            "gridwidth": 2,
            "linecolor": "white",
            "showbackground": true,
            "ticks": "",
            "zerolinecolor": "white"
           }
          },
          "shapedefaults": {
           "line": {
            "color": "#2a3f5f"
           }
          },
          "ternary": {
           "aaxis": {
            "gridcolor": "white",
            "linecolor": "white",
            "ticks": ""
           },
           "baxis": {
            "gridcolor": "white",
            "linecolor": "white",
            "ticks": ""
           },
           "bgcolor": "#E5ECF6",
           "caxis": {
            "gridcolor": "white",
            "linecolor": "white",
            "ticks": ""
           }
          },
          "title": {
           "x": 0.05
          },
          "xaxis": {
           "automargin": true,
           "gridcolor": "white",
           "linecolor": "white",
           "ticks": "",
           "title": {
            "standoff": 15
           },
           "zerolinecolor": "white",
           "zerolinewidth": 2
          },
          "yaxis": {
           "automargin": true,
           "gridcolor": "white",
           "linecolor": "white",
           "ticks": "",
           "title": {
            "standoff": 15
           },
           "zerolinecolor": "white",
           "zerolinewidth": 2
          }
         }
        },
        "title": {
         "text": "Parallel Coordinate Plot"
        }
       }
      }
     },
     "metadata": {},
     "output_type": "display_data"
    }
   ],
   "source": [
    "try:\n",
    "    fig1 = plot_optimization_history(study)\n",
    "    fig2 = plot_param_importances(study)\n",
    "    fig3 = plot_parallel_coordinate(study)\n",
    "\n",
    "    fig1.show()\n",
    "    fig2.show()\n",
    "    fig3.show()\n",
    "\n",
    "except (ValueError, ImportError, RuntimeError) as e:\n",
    "    print(\"Error during plotting\")\n",
    "    print(e)"
   ]
  },
  {
   "attachments": {},
   "cell_type": "markdown",
   "metadata": {},
   "source": [
    "### Test"
   ]
  },
  {
   "cell_type": "code",
   "execution_count": null,
   "metadata": {},
   "outputs": [],
   "source": [
    "kwargs = DEFAULT_HYPERPARAMS.copy()\n",
    "#kwargs.update(Sample_A2C_Params(trial))"
   ]
  },
  {
   "cell_type": "code",
   "execution_count": null,
   "metadata": {},
   "outputs": [],
   "source": [
    "# Create train Env.\n",
    "envAmt = 8\n",
    "train_env = make_atari_env(ENV_ID,n_envs=envAmt, seed=0)\n",
    "train_env = VecFrameStack(train_env, n_stack=envAmt)"
   ]
  },
  {
   "cell_type": "code",
   "execution_count": null,
   "metadata": {},
   "outputs": [],
   "source": [
    "#optunaModel = A2C(policy=\"CnnPolicy\",env=train_env,verbose=0)\n",
    "\n",
    "optunaModel = A2C(env= train_env,**kwargs)"
   ]
  },
  {
   "cell_type": "code",
   "execution_count": null,
   "metadata": {},
   "outputs": [
    {
     "data": {
      "text/plain": [
       "<stable_baselines3.a2c.a2c.A2C at 0x1aa5bab5910>"
      ]
     },
     "execution_count": 7,
     "metadata": {},
     "output_type": "execute_result"
    }
   ],
   "source": [
    "optunaModel.learn(N_TIMESTEPS)"
   ]
  },
  {
   "cell_type": "code",
   "execution_count": null,
   "metadata": {},
   "outputs": [
    {
     "ename": "KeyboardInterrupt",
     "evalue": "",
     "output_type": "error",
     "traceback": [
      "\u001b[1;31m---------------------------------------------------------------------------\u001b[0m",
      "\u001b[1;31mKeyboardInterrupt\u001b[0m                         Traceback (most recent call last)",
      "Cell \u001b[1;32mIn[11], line 5\u001b[0m\n\u001b[0;32m      3\u001b[0m action, _states \u001b[39m=\u001b[39m optunaModel\u001b[39m.\u001b[39mpredict(obs)\n\u001b[0;32m      4\u001b[0m obs, rewards, dones, info \u001b[39m=\u001b[39m train_env\u001b[39m.\u001b[39mstep(action)\n\u001b[1;32m----> 5\u001b[0m train_env\u001b[39m.\u001b[39;49mrender()\n",
      "File \u001b[1;32mc:\\Users\\kaine\\Anaconda3\\envs\\diss_test\\lib\\site-packages\\stable_baselines3\\common\\vec_env\\base_vec_env.py:282\u001b[0m, in \u001b[0;36mVecEnvWrapper.render\u001b[1;34m(self, mode)\u001b[0m\n\u001b[0;32m    281\u001b[0m \u001b[39mdef\u001b[39;00m \u001b[39mrender\u001b[39m(\u001b[39mself\u001b[39m, mode: \u001b[39mstr\u001b[39m \u001b[39m=\u001b[39m \u001b[39m\"\u001b[39m\u001b[39mhuman\u001b[39m\u001b[39m\"\u001b[39m) \u001b[39m-\u001b[39m\u001b[39m>\u001b[39m Optional[np\u001b[39m.\u001b[39mndarray]:\n\u001b[1;32m--> 282\u001b[0m     \u001b[39mreturn\u001b[39;00m \u001b[39mself\u001b[39;49m\u001b[39m.\u001b[39;49mvenv\u001b[39m.\u001b[39;49mrender(mode\u001b[39m=\u001b[39;49mmode)\n",
      "File \u001b[1;32mc:\\Users\\kaine\\Anaconda3\\envs\\diss_test\\lib\\site-packages\\stable_baselines3\\common\\vec_env\\dummy_vec_env.py:100\u001b[0m, in \u001b[0;36mDummyVecEnv.render\u001b[1;34m(self, mode)\u001b[0m\n\u001b[0;32m     98\u001b[0m     \u001b[39mreturn\u001b[39;00m \u001b[39mself\u001b[39m\u001b[39m.\u001b[39menvs[\u001b[39m0\u001b[39m]\u001b[39m.\u001b[39mrender(mode\u001b[39m=\u001b[39mmode)\n\u001b[0;32m     99\u001b[0m \u001b[39melse\u001b[39;00m:\n\u001b[1;32m--> 100\u001b[0m     \u001b[39mreturn\u001b[39;00m \u001b[39msuper\u001b[39;49m()\u001b[39m.\u001b[39;49mrender(mode\u001b[39m=\u001b[39;49mmode)\n",
      "File \u001b[1;32mc:\\Users\\kaine\\Anaconda3\\envs\\diss_test\\lib\\site-packages\\stable_baselines3\\common\\vec_env\\base_vec_env.py:188\u001b[0m, in \u001b[0;36mVecEnv.render\u001b[1;34m(self, mode)\u001b[0m\n\u001b[0;32m    185\u001b[0m \u001b[39mif\u001b[39;00m mode \u001b[39m==\u001b[39m \u001b[39m\"\u001b[39m\u001b[39mhuman\u001b[39m\u001b[39m\"\u001b[39m:\n\u001b[0;32m    186\u001b[0m     \u001b[39mimport\u001b[39;00m \u001b[39mcv2\u001b[39;00m  \u001b[39m# pytype:disable=import-error\u001b[39;00m\n\u001b[1;32m--> 188\u001b[0m     cv2\u001b[39m.\u001b[39;49mimshow(\u001b[39m\"\u001b[39;49m\u001b[39mvecenv\u001b[39;49m\u001b[39m\"\u001b[39;49m, bigimg[:, :, ::\u001b[39m-\u001b[39;49m\u001b[39m1\u001b[39;49m])\n\u001b[0;32m    189\u001b[0m     cv2\u001b[39m.\u001b[39mwaitKey(\u001b[39m1\u001b[39m)\n\u001b[0;32m    190\u001b[0m \u001b[39melif\u001b[39;00m mode \u001b[39m==\u001b[39m \u001b[39m\"\u001b[39m\u001b[39mrgb_array\u001b[39m\u001b[39m\"\u001b[39m:\n",
      "\u001b[1;31mKeyboardInterrupt\u001b[0m: "
     ]
    }
   ],
   "source": [
    "obs = train_env.reset()\n",
    "while True:\n",
    "    action, _states = optunaModel.predict(obs)\n",
    "    obs, rewards, dones, info = train_env.step(action)\n",
    "    train_env.render()"
   ]
  },
  {
   "cell_type": "code",
   "execution_count": null,
   "metadata": {},
   "outputs": [
    {
     "name": "stdout",
     "output_type": "stream",
     "text": [
      "2.0\n",
      "0.0\n"
     ]
    }
   ],
   "source": [
    "mean_reward, std_reward  = evaluate_policy(optunaModel, train_env, n_eval_episodes=10, render=False)\n",
    "print(mean_reward)\n",
    "print(std_reward)"
   ]
  },
  {
   "cell_type": "code",
   "execution_count": null,
   "metadata": {},
   "outputs": [],
   "source": [
    "# Create env used for evaluation.\n",
    "eval_env = make_atari_env(ENV_ID,n_envs=envAmt, seed=0)\n",
    "eval_env = VecFrameStack(eval_env, n_stack=envAmt)\n",
    "#eval_env = Monitor(eval_env)"
   ]
  },
  {
   "cell_type": "code",
   "execution_count": null,
   "metadata": {},
   "outputs": [],
   "source": [
    "mean_reward, std_reward  = evaluate_policy(optunaModel, eval_env, n_eval_episodes=10, render=False)\n",
    "print(mean_reward)\n",
    "print(std_reward)"
   ]
  },
  {
   "cell_type": "code",
   "execution_count": null,
   "metadata": {},
   "outputs": [],
   "source": [
    "# Create the callback that will periodically evaluate and report the performance.\n",
    "eval_callback = TrialEvalCallback(\n",
    "    eval_env, trial, n_eval_episodes=N_EVAL_EPISODES, eval_freq=EVAL_FREQ, deterministic=True\n",
    ")"
   ]
  },
  {
   "cell_type": "code",
   "execution_count": null,
   "metadata": {},
   "outputs": [],
   "source": [
    "try:\n",
    "    optunaModel.learn(N_TIMESTEPS, callback=eval_callback)\n",
    "except AssertionError as e:\n",
    "    # Sometimes, random hyperparams can generate NaN.\n",
    "    print(e)"
   ]
  },
  {
   "cell_type": "code",
   "execution_count": null,
   "metadata": {},
   "outputs": [],
   "source": [
    "if eval_callback.is_pruned:\n",
    "        # Free memory.\n",
    "    model.env.close()\n",
    "    eval_env.close()\n",
    "    raise optuna.exceptions.TrialPruned()"
   ]
  },
  {
   "cell_type": "code",
   "execution_count": null,
   "metadata": {},
   "outputs": [],
   "source": [
    "# Free memory.\n",
    "model.env.close()\n",
    "eval_env.close()"
   ]
  },
  {
   "cell_type": "code",
   "execution_count": null,
   "metadata": {},
   "outputs": [],
   "source": [
    "print(eval_callback.last_mean_reward)"
   ]
  }
 ],
 "metadata": {
  "kernelspec": {
   "display_name": "diss_test",
   "language": "python",
   "name": "python3"
  },
  "language_info": {
   "codemirror_mode": {
    "name": "ipython",
    "version": 3
   },
   "file_extension": ".py",
   "mimetype": "text/x-python",
   "name": "python",
   "nbconvert_exporter": "python",
   "pygments_lexer": "ipython3",
   "version": "3.8.16"
  },
  "orig_nbformat": 4,
  "vscode": {
   "interpreter": {
    "hash": "446b1c203245c064c2908e8abdfb1e57df7db4ab26ac91db6f10a772441873ec"
   }
  }
 },
 "nbformat": 4,
 "nbformat_minor": 2
}
