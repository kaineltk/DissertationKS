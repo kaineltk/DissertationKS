{
 "cells": [
  {
   "attachments": {},
   "cell_type": "markdown",
   "metadata": {},
   "source": [
    "### Setup"
   ]
  },
  {
   "attachments": {},
   "cell_type": "markdown",
   "metadata": {},
   "source": [
    "conda create --prefix=D:/L6_SWD/Dissertation/Project/CondaEnvs/diss_test python=3.8\n",
    "\n",
    "conda activate diss_test\n",
    "\n",
    "conda install ipykernel"
   ]
  },
  {
   "attachments": {},
   "cell_type": "markdown",
   "metadata": {},
   "source": [
    "#### Pip installs"
   ]
  },
  {
   "attachments": {},
   "cell_type": "markdown",
   "metadata": {},
   "source": [
    "pip install gymnasium[atari]\n",
    "pip install gymnasium[accept-rom-license]\n",
    "\n",
    "\n",
    "pip install stable-baselines3\n",
    "pip install ale-py==0.7.4\n",
    "pip install opencv-python\n",
    "\n",
    "pip install tensorflow"
   ]
  },
  {
   "attachments": {},
   "cell_type": "markdown",
   "metadata": {},
   "source": [
    "### Import"
   ]
  },
  {
   "cell_type": "code",
   "execution_count": 1,
   "metadata": {},
   "outputs": [],
   "source": [
    "import gymnasium as gym\n",
    "from stable_baselines3 import PPO\n",
    "from stable_baselines3.common.vec_env import VecFrameStack\n",
    "from stable_baselines3.common.evaluation import evaluate_policy\n",
    "from stable_baselines3.common.env_util import make_atari_env\n",
    "import torch as th"
   ]
  },
  {
   "attachments": {},
   "cell_type": "markdown",
   "metadata": {},
   "source": [
    "### Data"
   ]
  },
  {
   "cell_type": "code",
   "execution_count": 2,
   "metadata": {},
   "outputs": [],
   "source": [
    "environment_name = \"ALE/BankHeist-v5\"\n",
    "envAmt = 8\n",
    "trainTimeSteps = 400000"
   ]
  },
  {
   "attachments": {},
   "cell_type": "markdown",
   "metadata": {},
   "source": [
    "### Create RL Models"
   ]
  },
  {
   "attachments": {},
   "cell_type": "markdown",
   "metadata": {},
   "source": [
    "#### Logging"
   ]
  },
  {
   "cell_type": "code",
   "execution_count": 3,
   "metadata": {},
   "outputs": [],
   "source": [
    "logPath = \"./TrainingLogs/PPO_TestCase_4/PPO-\"+str(trainTimeSteps)"
   ]
  },
  {
   "attachments": {},
   "cell_type": "markdown",
   "metadata": {},
   "source": [
    "#### Create Model"
   ]
  },
  {
   "cell_type": "code",
   "execution_count": 4,
   "metadata": {},
   "outputs": [],
   "source": [
    "kwargs = {   \n",
    "    \"vf_coef\": 0.8,\n",
    "}"
   ]
  },
  {
   "cell_type": "code",
   "execution_count": 5,
   "metadata": {},
   "outputs": [],
   "source": [
    "env = make_atari_env(environment_name, n_envs=envAmt, seed=0) "
   ]
  },
  {
   "cell_type": "code",
   "execution_count": 6,
   "metadata": {},
   "outputs": [],
   "source": [
    "#Wrap environment \n",
    "env = VecFrameStack(env,n_stack=envAmt)"
   ]
  },
  {
   "cell_type": "code",
   "execution_count": 7,
   "metadata": {},
   "outputs": [],
   "source": [
    "model = PPO(policy=\"CnnPolicy\",env=env,**kwargs,verbose=0,tensorboard_log=logPath) "
   ]
  },
  {
   "attachments": {},
   "cell_type": "markdown",
   "metadata": {},
   "source": [
    "#### Train Model"
   ]
  },
  {
   "cell_type": "code",
   "execution_count": 8,
   "metadata": {},
   "outputs": [
    {
     "ename": "KeyboardInterrupt",
     "evalue": "",
     "output_type": "error",
     "traceback": [
      "\u001b[1;31m---------------------------------------------------------------------------\u001b[0m",
      "\u001b[1;31mKeyboardInterrupt\u001b[0m                         Traceback (most recent call last)",
      "Cell \u001b[1;32mIn[8], line 1\u001b[0m\n\u001b[1;32m----> 1\u001b[0m model\u001b[39m.\u001b[39;49mlearn(total_timesteps\u001b[39m=\u001b[39;49mtrainTimeSteps)\n",
      "File \u001b[1;32mc:\\Users\\kaine\\Anaconda3\\envs\\diss_test\\lib\\site-packages\\stable_baselines3\\a2c\\a2c.py:194\u001b[0m, in \u001b[0;36mA2C.learn\u001b[1;34m(self, total_timesteps, callback, log_interval, tb_log_name, reset_num_timesteps, progress_bar)\u001b[0m\n\u001b[0;32m    185\u001b[0m \u001b[39mdef\u001b[39;00m \u001b[39mlearn\u001b[39m(\n\u001b[0;32m    186\u001b[0m     \u001b[39mself\u001b[39m: SelfA2C,\n\u001b[0;32m    187\u001b[0m     total_timesteps: \u001b[39mint\u001b[39m,\n\u001b[1;32m   (...)\u001b[0m\n\u001b[0;32m    192\u001b[0m     progress_bar: \u001b[39mbool\u001b[39m \u001b[39m=\u001b[39m \u001b[39mFalse\u001b[39;00m,\n\u001b[0;32m    193\u001b[0m ) \u001b[39m-\u001b[39m\u001b[39m>\u001b[39m SelfA2C:\n\u001b[1;32m--> 194\u001b[0m     \u001b[39mreturn\u001b[39;00m \u001b[39msuper\u001b[39;49m()\u001b[39m.\u001b[39;49mlearn(\n\u001b[0;32m    195\u001b[0m         total_timesteps\u001b[39m=\u001b[39;49mtotal_timesteps,\n\u001b[0;32m    196\u001b[0m         callback\u001b[39m=\u001b[39;49mcallback,\n\u001b[0;32m    197\u001b[0m         log_interval\u001b[39m=\u001b[39;49mlog_interval,\n\u001b[0;32m    198\u001b[0m         tb_log_name\u001b[39m=\u001b[39;49mtb_log_name,\n\u001b[0;32m    199\u001b[0m         reset_num_timesteps\u001b[39m=\u001b[39;49mreset_num_timesteps,\n\u001b[0;32m    200\u001b[0m         progress_bar\u001b[39m=\u001b[39;49mprogress_bar,\n\u001b[0;32m    201\u001b[0m     )\n",
      "File \u001b[1;32mc:\\Users\\kaine\\Anaconda3\\envs\\diss_test\\lib\\site-packages\\stable_baselines3\\common\\on_policy_algorithm.py:271\u001b[0m, in \u001b[0;36mOnPolicyAlgorithm.learn\u001b[1;34m(self, total_timesteps, callback, log_interval, tb_log_name, reset_num_timesteps, progress_bar)\u001b[0m\n\u001b[0;32m    268\u001b[0m         \u001b[39mself\u001b[39m\u001b[39m.\u001b[39mlogger\u001b[39m.\u001b[39mrecord(\u001b[39m\"\u001b[39m\u001b[39mtime/total_timesteps\u001b[39m\u001b[39m\"\u001b[39m, \u001b[39mself\u001b[39m\u001b[39m.\u001b[39mnum_timesteps, exclude\u001b[39m=\u001b[39m\u001b[39m\"\u001b[39m\u001b[39mtensorboard\u001b[39m\u001b[39m\"\u001b[39m)\n\u001b[0;32m    269\u001b[0m         \u001b[39mself\u001b[39m\u001b[39m.\u001b[39mlogger\u001b[39m.\u001b[39mdump(step\u001b[39m=\u001b[39m\u001b[39mself\u001b[39m\u001b[39m.\u001b[39mnum_timesteps)\n\u001b[1;32m--> 271\u001b[0m     \u001b[39mself\u001b[39;49m\u001b[39m.\u001b[39;49mtrain()\n\u001b[0;32m    273\u001b[0m callback\u001b[39m.\u001b[39mon_training_end()\n\u001b[0;32m    275\u001b[0m \u001b[39mreturn\u001b[39;00m \u001b[39mself\u001b[39m\n",
      "File \u001b[1;32mc:\\Users\\kaine\\Anaconda3\\envs\\diss_test\\lib\\site-packages\\stable_baselines3\\a2c\\a2c.py:137\u001b[0m, in \u001b[0;36mA2C.train\u001b[1;34m(self)\u001b[0m\n\u001b[0;32m    134\u001b[0m \u001b[39mself\u001b[39m\u001b[39m.\u001b[39m_update_learning_rate(\u001b[39mself\u001b[39m\u001b[39m.\u001b[39mpolicy\u001b[39m.\u001b[39moptimizer)\n\u001b[0;32m    136\u001b[0m \u001b[39m# This will only loop once (get all data in one go)\u001b[39;00m\n\u001b[1;32m--> 137\u001b[0m \u001b[39mfor\u001b[39;00m rollout_data \u001b[39min\u001b[39;00m \u001b[39mself\u001b[39m\u001b[39m.\u001b[39mrollout_buffer\u001b[39m.\u001b[39mget(batch_size\u001b[39m=\u001b[39m\u001b[39mNone\u001b[39;00m):\n\u001b[0;32m    138\u001b[0m     actions \u001b[39m=\u001b[39m rollout_data\u001b[39m.\u001b[39mactions\n\u001b[0;32m    139\u001b[0m     \u001b[39mif\u001b[39;00m \u001b[39misinstance\u001b[39m(\u001b[39mself\u001b[39m\u001b[39m.\u001b[39maction_space, spaces\u001b[39m.\u001b[39mDiscrete):\n\u001b[0;32m    140\u001b[0m         \u001b[39m# Convert discrete action from float to long\u001b[39;00m\n",
      "File \u001b[1;32mc:\\Users\\kaine\\Anaconda3\\envs\\diss_test\\lib\\site-packages\\stable_baselines3\\common\\buffers.py:461\u001b[0m, in \u001b[0;36mRolloutBuffer.get\u001b[1;34m(self, batch_size)\u001b[0m\n\u001b[0;32m    451\u001b[0m     _tensor_names \u001b[39m=\u001b[39m [\n\u001b[0;32m    452\u001b[0m         \u001b[39m\"\u001b[39m\u001b[39mobservations\u001b[39m\u001b[39m\"\u001b[39m,\n\u001b[0;32m    453\u001b[0m         \u001b[39m\"\u001b[39m\u001b[39mactions\u001b[39m\u001b[39m\"\u001b[39m,\n\u001b[1;32m   (...)\u001b[0m\n\u001b[0;32m    457\u001b[0m         \u001b[39m\"\u001b[39m\u001b[39mreturns\u001b[39m\u001b[39m\"\u001b[39m,\n\u001b[0;32m    458\u001b[0m     ]\n\u001b[0;32m    460\u001b[0m     \u001b[39mfor\u001b[39;00m tensor \u001b[39min\u001b[39;00m _tensor_names:\n\u001b[1;32m--> 461\u001b[0m         \u001b[39mself\u001b[39m\u001b[39m.\u001b[39m\u001b[39m__dict__\u001b[39m[tensor] \u001b[39m=\u001b[39m \u001b[39mself\u001b[39;49m\u001b[39m.\u001b[39;49mswap_and_flatten(\u001b[39mself\u001b[39;49m\u001b[39m.\u001b[39;49m\u001b[39m__dict__\u001b[39;49m[tensor])\n\u001b[0;32m    462\u001b[0m     \u001b[39mself\u001b[39m\u001b[39m.\u001b[39mgenerator_ready \u001b[39m=\u001b[39m \u001b[39mTrue\u001b[39;00m\n\u001b[0;32m    464\u001b[0m \u001b[39m# Return everything, don't create minibatches\u001b[39;00m\n",
      "File \u001b[1;32mc:\\Users\\kaine\\Anaconda3\\envs\\diss_test\\lib\\site-packages\\stable_baselines3\\common\\buffers.py:71\u001b[0m, in \u001b[0;36mBaseBuffer.swap_and_flatten\u001b[1;34m(arr)\u001b[0m\n\u001b[0;32m     69\u001b[0m \u001b[39mif\u001b[39;00m \u001b[39mlen\u001b[39m(shape) \u001b[39m<\u001b[39m \u001b[39m3\u001b[39m:\n\u001b[0;32m     70\u001b[0m     shape \u001b[39m=\u001b[39m (\u001b[39m*\u001b[39mshape, \u001b[39m1\u001b[39m)\n\u001b[1;32m---> 71\u001b[0m \u001b[39mreturn\u001b[39;00m arr\u001b[39m.\u001b[39;49mswapaxes(\u001b[39m0\u001b[39;49m, \u001b[39m1\u001b[39;49m)\u001b[39m.\u001b[39;49mreshape(shape[\u001b[39m0\u001b[39;49m] \u001b[39m*\u001b[39;49m shape[\u001b[39m1\u001b[39;49m], \u001b[39m*\u001b[39;49mshape[\u001b[39m2\u001b[39;49m:])\n",
      "\u001b[1;31mKeyboardInterrupt\u001b[0m: "
     ]
    }
   ],
   "source": [
    "model.learn(total_timesteps=trainTimeSteps)"
   ]
  },
  {
   "attachments": {},
   "cell_type": "markdown",
   "metadata": {},
   "source": [
    "#### Save Model"
   ]
  },
  {
   "cell_type": "code",
   "execution_count": null,
   "metadata": {},
   "outputs": [],
   "source": [
    "savePath = \"./SavedModels/PPO_TestCase_4/PPO-\"+str(trainTimeSteps)"
   ]
  },
  {
   "cell_type": "code",
   "execution_count": null,
   "metadata": {},
   "outputs": [
    {
     "name": "stderr",
     "output_type": "stream",
     "text": [
      "c:\\Users\\kaine\\Anaconda3\\envs\\diss_test\\lib\\site-packages\\stable_baselines3\\common\\save_util.py:278: UserWarning: Path 'SavedModels\\PPO_TestCase_1' does not exist. Will create it.\n",
      "  warnings.warn(f\"Path '{path.parent}' does not exist. Will create it.\")\n"
     ]
    }
   ],
   "source": [
    "model.save(savePath+\"-Model\")"
   ]
  },
  {
   "cell_type": "code",
   "execution_count": null,
   "metadata": {},
   "outputs": [],
   "source": [
    "policy = model.policy\n",
    "policy.save(savePath+\"-Policy\")"
   ]
  }
 ],
 "metadata": {
  "kernelspec": {
   "display_name": "diss_test",
   "language": "python",
   "name": "python3"
  },
  "language_info": {
   "codemirror_mode": {
    "name": "ipython",
    "version": 3
   },
   "file_extension": ".py",
   "mimetype": "text/x-python",
   "name": "python",
   "nbconvert_exporter": "python",
   "pygments_lexer": "ipython3",
   "version": "3.8.16"
  },
  "orig_nbformat": 4,
  "vscode": {
   "interpreter": {
    "hash": "446b1c203245c064c2908e8abdfb1e57df7db4ab26ac91db6f10a772441873ec"
   }
  }
 },
 "nbformat": 4,
 "nbformat_minor": 2
}
