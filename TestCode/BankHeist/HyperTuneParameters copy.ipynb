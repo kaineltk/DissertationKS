{
 "cells": [
  {
   "attachments": {},
   "cell_type": "markdown",
   "metadata": {},
   "source": [
    "### Setup"
   ]
  },
  {
   "attachments": {},
   "cell_type": "markdown",
   "metadata": {},
   "source": [
    "conda create --prefix=D:/L6_SWD/Dissertation/Project/CondaEnvs/diss_test python=3.8\n",
    "\n",
    "conda activate diss_test\n",
    "\n",
    "conda install ipykernel"
   ]
  },
  {
   "attachments": {},
   "cell_type": "markdown",
   "metadata": {},
   "source": [
    "#### Pip installs"
   ]
  },
  {
   "attachments": {},
   "cell_type": "markdown",
   "metadata": {},
   "source": [
    "pip install gymnasium[atari]\n",
    "pip install gymnasium[accept-rom-license]\n",
    "\n",
    "\n",
    "pip install stable-baselines3\n",
    "pip install ale-py==0.7.4\n",
    "pip install opencv-python\n",
    "\n",
    "pip install tensorflow\n",
    "pip install optuna\n",
    "\n",
    "\n",
    "pip install rl_zoo3\n",
    "pip install plotly\n",
    "pip install --upgrade nbformat\n",
    "pip install scikit-learn"
   ]
  },
  {
   "attachments": {},
   "cell_type": "markdown",
   "metadata": {},
   "source": [
    "### Import"
   ]
  },
  {
   "cell_type": "code",
   "execution_count": 9,
   "metadata": {},
   "outputs": [],
   "source": [
    "import optuna\n",
    "from stable_baselines3 import A2C\n",
    "import torch\n",
    "import torch.nn as nn\n",
    "import gym\n",
    "from stable_baselines3.common.env_util import make_atari_env\n",
    "from stable_baselines3.common.callbacks import EvalCallback\n",
    "from stable_baselines3.common.monitor import Monitor\n",
    "from optuna.pruners import MedianPruner\n",
    "from optuna.samplers import TPESampler\n",
    "from rl_zoo3 import linear_schedule\n",
    "from optuna.visualization import plot_optimization_history, plot_param_importances, plot_parallel_coordinate\n",
    "import sklearn\n",
    "from stable_baselines3.common.vec_env import VecFrameStack"
   ]
  },
  {
   "attachments": {},
   "cell_type": "markdown",
   "metadata": {},
   "source": [
    "### Data"
   ]
  },
  {
   "cell_type": "code",
   "execution_count": 10,
   "metadata": {},
   "outputs": [],
   "source": [
    "N_TRIALS = 100 \n",
    "N_STARTUP_TRIALS = 5\n",
    "N_EVALUATIONS = 2\n",
    "N_TIMESTEPS = int(8e4)\n",
    "EVAL_FREQ = int(N_TIMESTEPS / N_EVALUATIONS)\n",
    "N_EVAL_EPISODES = 10\n",
    "\n",
    "ENV_ID = \"ALE/BankHeist-v5\"\n",
    "DEFAULT_HYPERPARAMS = {\n",
    "    \"policy\": \"CnnPolicy\",\n",
    "    \"env\": ENV_ID,\n",
    "}"
   ]
  },
  {
   "attachments": {},
   "cell_type": "markdown",
   "metadata": {},
   "source": [
    "### Sample Params"
   ]
  },
  {
   "cell_type": "code",
   "execution_count": 11,
   "metadata": {},
   "outputs": [],
   "source": [
    "#SOURCE: https://github.com/DLR-RM/rl-baselines3-zoo/blob/master/rl_zoo3/hyperparams_opt.py\n",
    "def Sample_A2C_Params(trial): \n",
    "    gamma = trial.suggest_categorical(\"gamma\", [0.9, 0.95, 0.98, 0.99, 0.995, 0.999, 0.9999])\n",
    "    normalize_advantage = trial.suggest_categorical(\"normalize_advantage\", [False, True])\n",
    "    max_grad_norm = trial.suggest_categorical(\"max_grad_norm\", [0.3, 0.5, 0.6, 0.7, 0.8, 0.9, 1, 2, 5])\n",
    "    use_rms_prop = trial.suggest_categorical(\"use_rms_prop\", [False, True])\n",
    "    gae_lambda = trial.suggest_categorical(\"gae_lambda\", [0.8, 0.9, 0.92, 0.95, 0.98, 0.99, 1.0])\n",
    "    n_steps = trial.suggest_categorical(\"n_steps\", [1024, 2048])\n",
    "    lr_schedule = trial.suggest_categorical(\"lr_schedule\", [\"linear\", \"constant\"])\n",
    "    learning_rate = trial.suggest_float(\"learning_rate\", 1e-5, 1, log=True)\n",
    "    ent_coef = trial.suggest_float(\"ent_coef\", 0.00000001, 0.1, log=True)\n",
    "    vf_coef = trial.suggest_uniform(\"vf_coef\", 0, 1)\n",
    "    ortho_init = trial.suggest_categorical(\"ortho_init\", [False, True])\n",
    "    net_arch = trial.suggest_categorical(\"net_arch\", [\"small\", \"medium\"])\n",
    "    activation_fn = trial.suggest_categorical(\"activation_fn\", [\"tanh\", \"relu\"])\n",
    "\n",
    "    if lr_schedule == \"linear\":\n",
    "        learning_rate = linear_schedule(learning_rate)\n",
    "\n",
    "    net_arch = {\n",
    "        \"small\": dict(pi=[64, 64], vf=[64, 64]),\n",
    "        \"medium\": dict(pi=[256, 256], vf=[256, 256]),\n",
    "    }[net_arch]\n",
    "\n",
    "    activation_fn = {\"tanh\": nn.Tanh, \"relu\": nn.ReLU, \"elu\": nn.ELU, \"leaky_relu\": nn.LeakyReLU}[activation_fn]\n",
    "\n",
    "    return {\n",
    "        \"n_steps\": n_steps,\n",
    "        \"gamma\": gamma,\n",
    "        \"gae_lambda\": gae_lambda,\n",
    "        \"learning_rate\": learning_rate,\n",
    "        \"ent_coef\": ent_coef,\n",
    "        \"normalize_advantage\": normalize_advantage,\n",
    "        \"max_grad_norm\": max_grad_norm,\n",
    "        \"use_rms_prop\": use_rms_prop,\n",
    "        \"vf_coef\": vf_coef,\n",
    "        \"policy_kwargs\": dict(\n",
    "            net_arch=net_arch,\n",
    "            activation_fn=activation_fn,\n",
    "            ortho_init=ortho_init,\n",
    "        ),\n",
    "    }"
   ]
  },
  {
   "attachments": {},
   "cell_type": "markdown",
   "metadata": {},
   "source": [
    "### Trial"
   ]
  },
  {
   "cell_type": "code",
   "execution_count": 12,
   "metadata": {},
   "outputs": [],
   "source": [
    "class TrialEvalCallback(EvalCallback):\n",
    "    \"\"\"Callback used for evaluating and reporting a trial.\"\"\"\n",
    "\n",
    "    def __init__(\n",
    "        self,\n",
    "        eval_env: gym.Env,\n",
    "        trial: optuna.Trial,\n",
    "        n_eval_episodes: int = 5,\n",
    "        eval_freq: int = 10000,\n",
    "        deterministic: bool = True,\n",
    "        verbose: int = 0,\n",
    "    ):\n",
    "        super().__init__(\n",
    "            eval_env=eval_env,\n",
    "            n_eval_episodes=n_eval_episodes,\n",
    "            eval_freq=eval_freq,\n",
    "            deterministic=deterministic,\n",
    "            verbose=verbose,\n",
    "        )\n",
    "        self.trial = trial\n",
    "        self.eval_idx = 0\n",
    "        self.is_pruned = False\n",
    "\n",
    "    def _on_step(self) -> bool:\n",
    "        if self.eval_freq > 0 and self.n_calls % self.eval_freq == 0:\n",
    "            super()._on_step()\n",
    "            self.eval_idx += 1\n",
    "            self.trial.report(self.last_mean_reward, self.eval_idx)\n",
    "            # Prune trial if need.\n",
    "            if self.trial.should_prune():\n",
    "                self.is_pruned = True\n",
    "                return False\n",
    "        return True"
   ]
  },
  {
   "attachments": {},
   "cell_type": "markdown",
   "metadata": {},
   "source": [
    "### Objective"
   ]
  },
  {
   "cell_type": "code",
   "execution_count": 13,
   "metadata": {},
   "outputs": [],
   "source": [
    "def Objective(trial):\n",
    "    #Source: https://github.com/optuna/optuna-examples/blob/main/rl/sb3_simple.py\n",
    "    kwargs = DEFAULT_HYPERPARAMS.copy()\n",
    "    kwargs.update(Sample_A2C_Params(trial))\n",
    "\n",
    "\n",
    "    # Create the RL model.\n",
    "    model = A2C(**kwargs)\n",
    "\n",
    "    # Create env used for evaluation.\n",
    "    eval_env = Monitor(gym.make(ENV_ID))\n",
    "    \n",
    "    # Create the callback that will periodically evaluate and report the performance.\n",
    "    eval_callback = TrialEvalCallback(\n",
    "        eval_env, trial, n_eval_episodes=N_EVAL_EPISODES, eval_freq=EVAL_FREQ, deterministic=False\n",
    "    )\n",
    "\n",
    "    nan_encountered = False\n",
    "    try:\n",
    "        model.learn(N_TIMESTEPS, callback=eval_callback)\n",
    "    except AssertionError as e:\n",
    "        # Sometimes, random hyperparams can generate NaN.\n",
    "        print(e)\n",
    "        nan_encountered = True\n",
    "    finally:\n",
    "        # Free memory.\n",
    "        model.env.close()\n",
    "        eval_env.close()\n",
    "\n",
    "    # Tell the optimizer that the trial failed.\n",
    "    if nan_encountered:\n",
    "        return float(\"nan\")\n",
    "\n",
    "    if eval_callback.is_pruned:\n",
    "        raise optuna.exceptions.TrialPruned()\n",
    "\n",
    "    return eval_callback.last_mean_reward"
   ]
  },
  {
   "cell_type": "code",
   "execution_count": 14,
   "metadata": {},
   "outputs": [
    {
     "name": "stdout",
     "output_type": "stream",
     "text": [
      "100\n"
     ]
    }
   ],
   "source": [
    "print(N_TRIALS)"
   ]
  },
  {
   "cell_type": "code",
   "execution_count": 15,
   "metadata": {},
   "outputs": [
    {
     "name": "stderr",
     "output_type": "stream",
     "text": [
      "\u001b[32m[I 2023-04-27 04:04:58,320]\u001b[0m A new study created in memory with name: no-name-2df3502f-63ed-42ae-8075-561c7a91fec3\u001b[0m\n",
      "C:\\Users\\kaine\\AppData\\Local\\Temp\\ipykernel_19264\\653062245.py:12: FutureWarning: suggest_uniform has been deprecated in v3.0.0. This feature will be removed in v6.0.0. See https://github.com/optuna/optuna/releases/tag/v3.0.0. Use :func:`~optuna.trial.Trial.suggest_float` instead.\n",
      "  vf_coef = trial.suggest_uniform(\"vf_coef\", 0, 1)\n",
      "c:\\Users\\kaine\\Anaconda3\\envs\\diss_test\\lib\\site-packages\\stable_baselines3\\common\\callbacks.py:403: UserWarning: Training and eval env are not of the same type<stable_baselines3.common.vec_env.vec_transpose.VecTransposeImage object at 0x0000024E6044B2B0> != <stable_baselines3.common.vec_env.dummy_vec_env.DummyVecEnv object at 0x0000024E47D46130>\n",
      "  warnings.warn(\"Training and eval env are not of the same type\" f\"{self.training_env} != {self.eval_env}\")\n",
      "\u001b[32m[I 2023-04-27 04:12:15,723]\u001b[0m Trial 0 finished with value: 0.0 and parameters: {'gamma': 0.95, 'normalize_advantage': False, 'max_grad_norm': 0.6, 'use_rms_prop': False, 'gae_lambda': 0.92, 'n_steps': 2048, 'lr_schedule': 'linear', 'learning_rate': 0.005826055348716905, 'ent_coef': 0.0018210429873563904, 'vf_coef': 0.28496635077750554, 'ortho_init': True, 'net_arch': 'small', 'activation_fn': 'relu'}. Best is trial 0 with value: 0.0.\u001b[0m\n",
      "c:\\Users\\kaine\\Anaconda3\\envs\\diss_test\\lib\\site-packages\\stable_baselines3\\common\\callbacks.py:403: UserWarning: Training and eval env are not of the same type<stable_baselines3.common.vec_env.vec_transpose.VecTransposeImage object at 0x0000024E450F7520> != <stable_baselines3.common.vec_env.dummy_vec_env.DummyVecEnv object at 0x0000024E450F7DF0>\n",
      "  warnings.warn(\"Training and eval env are not of the same type\" f\"{self.training_env} != {self.eval_env}\")\n",
      "\u001b[32m[I 2023-04-27 04:17:24,131]\u001b[0m Trial 1 finished with value: 0.0 and parameters: {'gamma': 0.9, 'normalize_advantage': False, 'max_grad_norm': 0.6, 'use_rms_prop': True, 'gae_lambda': 0.92, 'n_steps': 1024, 'lr_schedule': 'constant', 'learning_rate': 0.0392569822675203, 'ent_coef': 0.0323344512085416, 'vf_coef': 0.3944709423307118, 'ortho_init': True, 'net_arch': 'small', 'activation_fn': 'relu'}. Best is trial 0 with value: 0.0.\u001b[0m\n",
      "c:\\Users\\kaine\\Anaconda3\\envs\\diss_test\\lib\\site-packages\\stable_baselines3\\common\\callbacks.py:403: UserWarning: Training and eval env are not of the same type<stable_baselines3.common.vec_env.vec_transpose.VecTransposeImage object at 0x0000024E47E570D0> != <stable_baselines3.common.vec_env.dummy_vec_env.DummyVecEnv object at 0x0000024E450F7760>\n",
      "  warnings.warn(\"Training and eval env are not of the same type\" f\"{self.training_env} != {self.eval_env}\")\n",
      "\u001b[32m[I 2023-04-27 04:21:05,507]\u001b[0m Trial 2 finished with value: 0.0 and parameters: {'gamma': 0.995, 'normalize_advantage': False, 'max_grad_norm': 0.9, 'use_rms_prop': True, 'gae_lambda': 0.99, 'n_steps': 2048, 'lr_schedule': 'linear', 'learning_rate': 0.011958286955638784, 'ent_coef': 0.0046150142616509645, 'vf_coef': 0.9389804203560989, 'ortho_init': False, 'net_arch': 'small', 'activation_fn': 'relu'}. Best is trial 0 with value: 0.0.\u001b[0m\n",
      "c:\\Users\\kaine\\Anaconda3\\envs\\diss_test\\lib\\site-packages\\stable_baselines3\\common\\callbacks.py:403: UserWarning: Training and eval env are not of the same type<stable_baselines3.common.vec_env.vec_transpose.VecTransposeImage object at 0x0000024E47E42550> != <stable_baselines3.common.vec_env.dummy_vec_env.DummyVecEnv object at 0x0000024E450F76A0>\n",
      "  warnings.warn(\"Training and eval env are not of the same type\" f\"{self.training_env} != {self.eval_env}\")\n",
      "\u001b[32m[I 2023-04-27 04:24:48,315]\u001b[0m Trial 3 finished with value: 0.0 and parameters: {'gamma': 0.95, 'normalize_advantage': False, 'max_grad_norm': 2, 'use_rms_prop': False, 'gae_lambda': 1.0, 'n_steps': 1024, 'lr_schedule': 'constant', 'learning_rate': 0.00026507059687497225, 'ent_coef': 1.2117291154581428e-05, 'vf_coef': 0.00045358724928223904, 'ortho_init': True, 'net_arch': 'medium', 'activation_fn': 'tanh'}. Best is trial 0 with value: 0.0.\u001b[0m\n",
      "c:\\Users\\kaine\\Anaconda3\\envs\\diss_test\\lib\\site-packages\\stable_baselines3\\common\\callbacks.py:403: UserWarning: Training and eval env are not of the same type<stable_baselines3.common.vec_env.vec_transpose.VecTransposeImage object at 0x0000024E450F79A0> != <stable_baselines3.common.vec_env.dummy_vec_env.DummyVecEnv object at 0x0000024E47E571F0>\n",
      "  warnings.warn(\"Training and eval env are not of the same type\" f\"{self.training_env} != {self.eval_env}\")\n",
      "\u001b[32m[I 2023-04-27 04:30:39,336]\u001b[0m Trial 4 finished with value: 0.0 and parameters: {'gamma': 0.9, 'normalize_advantage': False, 'max_grad_norm': 0.6, 'use_rms_prop': True, 'gae_lambda': 0.95, 'n_steps': 1024, 'lr_schedule': 'constant', 'learning_rate': 0.0001058119926542698, 'ent_coef': 2.2700115503446708e-05, 'vf_coef': 0.3209073643098067, 'ortho_init': False, 'net_arch': 'small', 'activation_fn': 'relu'}. Best is trial 0 with value: 0.0.\u001b[0m\n",
      "c:\\Users\\kaine\\Anaconda3\\envs\\diss_test\\lib\\site-packages\\stable_baselines3\\common\\callbacks.py:403: UserWarning: Training and eval env are not of the same type<stable_baselines3.common.vec_env.vec_transpose.VecTransposeImage object at 0x0000024E4D6B6B80> != <stable_baselines3.common.vec_env.dummy_vec_env.DummyVecEnv object at 0x0000024E4D6BE460>\n",
      "  warnings.warn(\"Training and eval env are not of the same type\" f\"{self.training_env} != {self.eval_env}\")\n",
      "\u001b[32m[I 2023-04-27 05:04:35,035]\u001b[0m Trial 5 finished with value: 0.0 and parameters: {'gamma': 0.95, 'normalize_advantage': True, 'max_grad_norm': 1, 'use_rms_prop': False, 'gae_lambda': 0.92, 'n_steps': 2048, 'lr_schedule': 'linear', 'learning_rate': 0.8699054110712312, 'ent_coef': 5.2773122105599635e-08, 'vf_coef': 0.6833009249332489, 'ortho_init': True, 'net_arch': 'medium', 'activation_fn': 'tanh'}. Best is trial 0 with value: 0.0.\u001b[0m\n",
      "c:\\Users\\kaine\\Anaconda3\\envs\\diss_test\\lib\\site-packages\\stable_baselines3\\common\\callbacks.py:403: UserWarning: Training and eval env are not of the same type<stable_baselines3.common.vec_env.vec_transpose.VecTransposeImage object at 0x0000024E4D6F1AF0> != <stable_baselines3.common.vec_env.dummy_vec_env.DummyVecEnv object at 0x0000024E4D6B68E0>\n",
      "  warnings.warn(\"Training and eval env are not of the same type\" f\"{self.training_env} != {self.eval_env}\")\n",
      "\u001b[32m[I 2023-04-27 05:10:43,153]\u001b[0m Trial 6 finished with value: 0.0 and parameters: {'gamma': 0.98, 'normalize_advantage': True, 'max_grad_norm': 0.5, 'use_rms_prop': False, 'gae_lambda': 0.9, 'n_steps': 2048, 'lr_schedule': 'linear', 'learning_rate': 1.6468919576051186e-05, 'ent_coef': 0.0008795935833672301, 'vf_coef': 0.09521407348839328, 'ortho_init': True, 'net_arch': 'small', 'activation_fn': 'relu'}. Best is trial 0 with value: 0.0.\u001b[0m\n",
      "c:\\Users\\kaine\\Anaconda3\\envs\\diss_test\\lib\\site-packages\\stable_baselines3\\common\\callbacks.py:403: UserWarning: Training and eval env are not of the same type<stable_baselines3.common.vec_env.vec_transpose.VecTransposeImage object at 0x0000024E4D6BE610> != <stable_baselines3.common.vec_env.dummy_vec_env.DummyVecEnv object at 0x0000024E4D6F1E50>\n",
      "  warnings.warn(\"Training and eval env are not of the same type\" f\"{self.training_env} != {self.eval_env}\")\n",
      "\u001b[32m[I 2023-04-27 05:31:33,288]\u001b[0m Trial 7 finished with value: 0.0 and parameters: {'gamma': 0.999, 'normalize_advantage': False, 'max_grad_norm': 0.8, 'use_rms_prop': False, 'gae_lambda': 0.8, 'n_steps': 2048, 'lr_schedule': 'linear', 'learning_rate': 0.001692510259678098, 'ent_coef': 0.06602994353210379, 'vf_coef': 0.5667623161820495, 'ortho_init': True, 'net_arch': 'small', 'activation_fn': 'relu'}. Best is trial 0 with value: 0.0.\u001b[0m\n",
      "c:\\Users\\kaine\\Anaconda3\\envs\\diss_test\\lib\\site-packages\\stable_baselines3\\common\\callbacks.py:403: UserWarning: Training and eval env are not of the same type<stable_baselines3.common.vec_env.vec_transpose.VecTransposeImage object at 0x0000024E47D6C5B0> != <stable_baselines3.common.vec_env.dummy_vec_env.DummyVecEnv object at 0x0000024E4D7CE400>\n",
      "  warnings.warn(\"Training and eval env are not of the same type\" f\"{self.training_env} != {self.eval_env}\")\n",
      "\u001b[32m[I 2023-04-27 05:39:40,472]\u001b[0m Trial 8 finished with value: 0.0 and parameters: {'gamma': 0.99, 'normalize_advantage': True, 'max_grad_norm': 0.3, 'use_rms_prop': False, 'gae_lambda': 0.98, 'n_steps': 2048, 'lr_schedule': 'linear', 'learning_rate': 0.0023285809106821996, 'ent_coef': 0.000586912343394288, 'vf_coef': 0.23038738857022945, 'ortho_init': False, 'net_arch': 'medium', 'activation_fn': 'tanh'}. Best is trial 0 with value: 0.0.\u001b[0m\n",
      "c:\\Users\\kaine\\Anaconda3\\envs\\diss_test\\lib\\site-packages\\stable_baselines3\\common\\callbacks.py:403: UserWarning: Training and eval env are not of the same type<stable_baselines3.common.vec_env.vec_transpose.VecTransposeImage object at 0x0000024E450F4700> != <stable_baselines3.common.vec_env.dummy_vec_env.DummyVecEnv object at 0x0000024E47D6C280>\n",
      "  warnings.warn(\"Training and eval env are not of the same type\" f\"{self.training_env} != {self.eval_env}\")\n",
      "\u001b[32m[I 2023-04-27 05:43:15,697]\u001b[0m Trial 9 finished with value: 0.0 and parameters: {'gamma': 0.9999, 'normalize_advantage': False, 'max_grad_norm': 5, 'use_rms_prop': False, 'gae_lambda': 0.92, 'n_steps': 2048, 'lr_schedule': 'linear', 'learning_rate': 0.12723298116690107, 'ent_coef': 0.00027564521951545354, 'vf_coef': 0.20300482465706468, 'ortho_init': True, 'net_arch': 'small', 'activation_fn': 'relu'}. Best is trial 0 with value: 0.0.\u001b[0m\n",
      "c:\\Users\\kaine\\Anaconda3\\envs\\diss_test\\lib\\site-packages\\stable_baselines3\\common\\callbacks.py:403: UserWarning: Training and eval env are not of the same type<stable_baselines3.common.vec_env.vec_transpose.VecTransposeImage object at 0x0000024E47E3CA60> != <stable_baselines3.common.vec_env.dummy_vec_env.DummyVecEnv object at 0x0000024E450F4490>\n",
      "  warnings.warn(\"Training and eval env are not of the same type\" f\"{self.training_env} != {self.eval_env}\")\n",
      "\u001b[32m[I 2023-04-27 06:13:40,537]\u001b[0m Trial 10 finished with value: 0.0 and parameters: {'gamma': 0.95, 'normalize_advantage': True, 'max_grad_norm': 0.7, 'use_rms_prop': True, 'gae_lambda': 0.9, 'n_steps': 1024, 'lr_schedule': 'constant', 'learning_rate': 0.006109583204175814, 'ent_coef': 1.3206765337724407e-06, 'vf_coef': 0.4664068783146226, 'ortho_init': False, 'net_arch': 'small', 'activation_fn': 'relu'}. Best is trial 0 with value: 0.0.\u001b[0m\n",
      "c:\\Users\\kaine\\Anaconda3\\envs\\diss_test\\lib\\site-packages\\stable_baselines3\\common\\callbacks.py:403: UserWarning: Training and eval env are not of the same type<stable_baselines3.common.vec_env.vec_transpose.VecTransposeImage object at 0x0000024E450FBC10> != <stable_baselines3.common.vec_env.dummy_vec_env.DummyVecEnv object at 0x0000024E47E3C850>\n",
      "  warnings.warn(\"Training and eval env are not of the same type\" f\"{self.training_env} != {self.eval_env}\")\n",
      "\u001b[32m[I 2023-04-27 06:31:59,353]\u001b[0m Trial 11 finished with value: 0.0 and parameters: {'gamma': 0.9, 'normalize_advantage': False, 'max_grad_norm': 0.6, 'use_rms_prop': True, 'gae_lambda': 0.92, 'n_steps': 1024, 'lr_schedule': 'constant', 'learning_rate': 0.021944721046446933, 'ent_coef': 0.035975208041768326, 'vf_coef': 0.3890190287730019, 'ortho_init': True, 'net_arch': 'small', 'activation_fn': 'relu'}. Best is trial 0 with value: 0.0.\u001b[0m\n",
      "c:\\Users\\kaine\\Anaconda3\\envs\\diss_test\\lib\\site-packages\\stable_baselines3\\common\\callbacks.py:403: UserWarning: Training and eval env are not of the same type<stable_baselines3.common.vec_env.vec_transpose.VecTransposeImage object at 0x0000024E47DF2A90> != <stable_baselines3.common.vec_env.dummy_vec_env.DummyVecEnv object at 0x0000024E450FB970>\n",
      "  warnings.warn(\"Training and eval env are not of the same type\" f\"{self.training_env} != {self.eval_env}\")\n",
      "\u001b[32m[I 2023-04-27 06:39:06,090]\u001b[0m Trial 12 finished with value: 0.0 and parameters: {'gamma': 0.9, 'normalize_advantage': False, 'max_grad_norm': 0.6, 'use_rms_prop': True, 'gae_lambda': 0.92, 'n_steps': 1024, 'lr_schedule': 'constant', 'learning_rate': 0.06288899491894052, 'ent_coef': 0.007805299283430494, 'vf_coef': 0.31493384435588506, 'ortho_init': True, 'net_arch': 'small', 'activation_fn': 'relu'}. Best is trial 0 with value: 0.0.\u001b[0m\n",
      "c:\\Users\\kaine\\Anaconda3\\envs\\diss_test\\lib\\site-packages\\stable_baselines3\\common\\callbacks.py:403: UserWarning: Training and eval env are not of the same type<stable_baselines3.common.vec_env.vec_transpose.VecTransposeImage object at 0x0000024E47E5B670> != <stable_baselines3.common.vec_env.dummy_vec_env.DummyVecEnv object at 0x0000024E47E3CAC0>\n",
      "  warnings.warn(\"Training and eval env are not of the same type\" f\"{self.training_env} != {self.eval_env}\")\n",
      "\u001b[32m[I 2023-04-27 06:46:14,602]\u001b[0m Trial 13 finished with value: 0.0 and parameters: {'gamma': 0.995, 'normalize_advantage': False, 'max_grad_norm': 0.6, 'use_rms_prop': True, 'gae_lambda': 0.92, 'n_steps': 1024, 'lr_schedule': 'constant', 'learning_rate': 0.07903819054656729, 'ent_coef': 0.08590163470388208, 'vf_coef': 0.539766403015018, 'ortho_init': True, 'net_arch': 'small', 'activation_fn': 'relu'}. Best is trial 0 with value: 0.0.\u001b[0m\n",
      "c:\\Users\\kaine\\Anaconda3\\envs\\diss_test\\lib\\site-packages\\stable_baselines3\\common\\callbacks.py:403: UserWarning: Training and eval env are not of the same type<stable_baselines3.common.vec_env.vec_transpose.VecTransposeImage object at 0x0000024E47D6F550> != <stable_baselines3.common.vec_env.dummy_vec_env.DummyVecEnv object at 0x0000024E47E5B220>\n",
      "  warnings.warn(\"Training and eval env are not of the same type\" f\"{self.training_env} != {self.eval_env}\")\n",
      "\u001b[32m[I 2023-04-27 07:02:42,072]\u001b[0m Trial 14 finished with value: 0.0 and parameters: {'gamma': 0.999, 'normalize_advantage': False, 'max_grad_norm': 0.6, 'use_rms_prop': True, 'gae_lambda': 1.0, 'n_steps': 1024, 'lr_schedule': 'constant', 'learning_rate': 0.001165241382527071, 'ent_coef': 0.003507617438254179, 'vf_coef': 0.19836071784293652, 'ortho_init': True, 'net_arch': 'small', 'activation_fn': 'relu'}. Best is trial 0 with value: 0.0.\u001b[0m\n",
      "c:\\Users\\kaine\\Anaconda3\\envs\\diss_test\\lib\\site-packages\\stable_baselines3\\common\\callbacks.py:403: UserWarning: Training and eval env are not of the same type<stable_baselines3.common.vec_env.vec_transpose.VecTransposeImage object at 0x0000024E450FC760> != <stable_baselines3.common.vec_env.dummy_vec_env.DummyVecEnv object at 0x0000024E47D6F820>\n",
      "  warnings.warn(\"Training and eval env are not of the same type\" f\"{self.training_env} != {self.eval_env}\")\n",
      "\u001b[32m[I 2023-04-27 07:09:55,706]\u001b[0m Trial 15 finished with value: 0.0 and parameters: {'gamma': 0.99, 'normalize_advantage': False, 'max_grad_norm': 0.5, 'use_rms_prop': False, 'gae_lambda': 0.8, 'n_steps': 2048, 'lr_schedule': 'linear', 'learning_rate': 0.013859408461919725, 'ent_coef': 0.00019858765666922544, 'vf_coef': 0.42330454231379805, 'ortho_init': True, 'net_arch': 'medium', 'activation_fn': 'tanh'}. Best is trial 0 with value: 0.0.\u001b[0m\n",
      "c:\\Users\\kaine\\Anaconda3\\envs\\diss_test\\lib\\site-packages\\stable_baselines3\\common\\callbacks.py:403: UserWarning: Training and eval env are not of the same type<stable_baselines3.common.vec_env.vec_transpose.VecTransposeImage object at 0x0000024E4D6D8A00> != <stable_baselines3.common.vec_env.dummy_vec_env.DummyVecEnv object at 0x0000024E450FC400>\n",
      "  warnings.warn(\"Training and eval env are not of the same type\" f\"{self.training_env} != {self.eval_env}\")\n",
      "\u001b[32m[I 2023-04-27 07:17:02,753]\u001b[0m Trial 16 finished with value: 0.0 and parameters: {'gamma': 0.98, 'normalize_advantage': False, 'max_grad_norm': 0.9, 'use_rms_prop': False, 'gae_lambda': 0.95, 'n_steps': 2048, 'lr_schedule': 'linear', 'learning_rate': 0.3452683830313308, 'ent_coef': 0.009065203507489912, 'vf_coef': 0.6226129121913718, 'ortho_init': True, 'net_arch': 'small', 'activation_fn': 'relu'}. Best is trial 0 with value: 0.0.\u001b[0m\n",
      "c:\\Users\\kaine\\Anaconda3\\envs\\diss_test\\lib\\site-packages\\stable_baselines3\\common\\callbacks.py:403: UserWarning: Training and eval env are not of the same type<stable_baselines3.common.vec_env.vec_transpose.VecTransposeImage object at 0x0000024E47D67C70> != <stable_baselines3.common.vec_env.dummy_vec_env.DummyVecEnv object at 0x0000024E4D6D88E0>\n",
      "  warnings.warn(\"Training and eval env are not of the same type\" f\"{self.training_env} != {self.eval_env}\")\n",
      "\u001b[32m[I 2023-04-27 07:33:26,662]\u001b[0m Trial 17 finished with value: 0.0 and parameters: {'gamma': 0.9999, 'normalize_advantage': False, 'max_grad_norm': 2, 'use_rms_prop': True, 'gae_lambda': 0.99, 'n_steps': 1024, 'lr_schedule': 'constant', 'learning_rate': 0.031879883791631425, 'ent_coef': 0.022859530323888957, 'vf_coef': 0.33580743779417277, 'ortho_init': True, 'net_arch': 'small', 'activation_fn': 'relu'}. Best is trial 0 with value: 0.0.\u001b[0m\n",
      "c:\\Users\\kaine\\Anaconda3\\envs\\diss_test\\lib\\site-packages\\stable_baselines3\\common\\callbacks.py:403: UserWarning: Training and eval env are not of the same type<stable_baselines3.common.vec_env.vec_transpose.VecTransposeImage object at 0x0000024E47E5B640> != <stable_baselines3.common.vec_env.dummy_vec_env.DummyVecEnv object at 0x0000024E47D679A0>\n",
      "  warnings.warn(\"Training and eval env are not of the same type\" f\"{self.training_env} != {self.eval_env}\")\n",
      "\u001b[32m[I 2023-04-27 08:03:29,964]\u001b[0m Trial 18 finished with value: 0.0 and parameters: {'gamma': 0.9, 'normalize_advantage': True, 'max_grad_norm': 0.8, 'use_rms_prop': True, 'gae_lambda': 0.98, 'n_steps': 1024, 'lr_schedule': 'constant', 'learning_rate': 0.0044800090890379455, 'ent_coef': 0.0021537180847423904, 'vf_coef': 0.473841388197914, 'ortho_init': False, 'net_arch': 'medium', 'activation_fn': 'tanh'}. Best is trial 0 with value: 0.0.\u001b[0m\n",
      "c:\\Users\\kaine\\Anaconda3\\envs\\diss_test\\lib\\site-packages\\stable_baselines3\\common\\callbacks.py:403: UserWarning: Training and eval env are not of the same type<stable_baselines3.common.vec_env.vec_transpose.VecTransposeImage object at 0x0000024E45108550> != <stable_baselines3.common.vec_env.dummy_vec_env.DummyVecEnv object at 0x0000024E47E67B50>\n",
      "  warnings.warn(\"Training and eval env are not of the same type\" f\"{self.training_env} != {self.eval_env}\")\n",
      "\u001b[32m[I 2023-04-27 08:06:45,210]\u001b[0m Trial 19 finished with value: 0.0 and parameters: {'gamma': 0.95, 'normalize_advantage': False, 'max_grad_norm': 0.3, 'use_rms_prop': False, 'gae_lambda': 0.92, 'n_steps': 2048, 'lr_schedule': 'linear', 'learning_rate': 0.2479518159962282, 'ent_coef': 0.09714778235217808, 'vf_coef': 0.12232929121633102, 'ortho_init': True, 'net_arch': 'small', 'activation_fn': 'relu'}. Best is trial 0 with value: 0.0.\u001b[0m\n",
      "c:\\Users\\kaine\\Anaconda3\\envs\\diss_test\\lib\\site-packages\\stable_baselines3\\common\\callbacks.py:403: UserWarning: Training and eval env are not of the same type<stable_baselines3.common.vec_env.vec_transpose.VecTransposeImage object at 0x0000024E450FD4C0> != <stable_baselines3.common.vec_env.dummy_vec_env.DummyVecEnv object at 0x0000024E47E5B640>\n",
      "  warnings.warn(\"Training and eval env are not of the same type\" f\"{self.training_env} != {self.eval_env}\")\n",
      "\u001b[32m[I 2023-04-27 08:13:53,895]\u001b[0m Trial 20 finished with value: 0.0 and parameters: {'gamma': 0.9, 'normalize_advantage': False, 'max_grad_norm': 5, 'use_rms_prop': True, 'gae_lambda': 0.92, 'n_steps': 2048, 'lr_schedule': 'linear', 'learning_rate': 0.029708231172413422, 'ent_coef': 9.38065758325909e-05, 'vf_coef': 0.7083313738971252, 'ortho_init': True, 'net_arch': 'small', 'activation_fn': 'relu'}. Best is trial 0 with value: 0.0.\u001b[0m\n",
      "c:\\Users\\kaine\\Anaconda3\\envs\\diss_test\\lib\\site-packages\\stable_baselines3\\common\\callbacks.py:403: UserWarning: Training and eval env are not of the same type<stable_baselines3.common.vec_env.vec_transpose.VecTransposeImage object at 0x0000024E47D4F790> != <stable_baselines3.common.vec_env.dummy_vec_env.DummyVecEnv object at 0x0000024E47DF43D0>\n",
      "  warnings.warn(\"Training and eval env are not of the same type\" f\"{self.training_env} != {self.eval_env}\")\n",
      "\u001b[32m[I 2023-04-27 08:32:12,853]\u001b[0m Trial 21 finished with value: 0.0 and parameters: {'gamma': 0.995, 'normalize_advantage': False, 'max_grad_norm': 0.9, 'use_rms_prop': True, 'gae_lambda': 0.99, 'n_steps': 2048, 'lr_schedule': 'linear', 'learning_rate': 0.007920619284422392, 'ent_coef': 0.0034014230793182445, 'vf_coef': 0.9439310617115856, 'ortho_init': False, 'net_arch': 'small', 'activation_fn': 'relu'}. Best is trial 0 with value: 0.0.\u001b[0m\n",
      "c:\\Users\\kaine\\Anaconda3\\envs\\diss_test\\lib\\site-packages\\stable_baselines3\\common\\callbacks.py:403: UserWarning: Training and eval env are not of the same type<stable_baselines3.common.vec_env.vec_transpose.VecTransposeImage object at 0x0000024E47D5CA30> != <stable_baselines3.common.vec_env.dummy_vec_env.DummyVecEnv object at 0x0000024E47D4F940>\n",
      "  warnings.warn(\"Training and eval env are not of the same type\" f\"{self.training_env} != {self.eval_env}\")\n",
      "\u001b[32m[I 2023-04-27 08:35:26,794]\u001b[0m Trial 22 finished with value: 0.0 and parameters: {'gamma': 0.995, 'normalize_advantage': False, 'max_grad_norm': 0.9, 'use_rms_prop': True, 'gae_lambda': 0.99, 'n_steps': 2048, 'lr_schedule': 'linear', 'learning_rate': 0.020928181885023368, 'ent_coef': 0.011230169847141412, 'vf_coef': 0.8840208762510507, 'ortho_init': False, 'net_arch': 'small', 'activation_fn': 'relu'}. Best is trial 0 with value: 0.0.\u001b[0m\n",
      "c:\\Users\\kaine\\Anaconda3\\envs\\diss_test\\lib\\site-packages\\stable_baselines3\\common\\callbacks.py:403: UserWarning: Training and eval env are not of the same type<stable_baselines3.common.vec_env.vec_transpose.VecTransposeImage object at 0x0000024E4D6CEA90> != <stable_baselines3.common.vec_env.dummy_vec_env.DummyVecEnv object at 0x0000024E47D5CE50>\n",
      "  warnings.warn(\"Training and eval env are not of the same type\" f\"{self.training_env} != {self.eval_env}\")\n",
      "\u001b[32m[I 2023-04-27 09:05:03,260]\u001b[0m Trial 23 finished with value: 0.0 and parameters: {'gamma': 0.995, 'normalize_advantage': False, 'max_grad_norm': 1, 'use_rms_prop': True, 'gae_lambda': 0.99, 'n_steps': 2048, 'lr_schedule': 'linear', 'learning_rate': 0.008694266924332401, 'ent_coef': 0.00195307467762707, 'vf_coef': 0.8208002836774845, 'ortho_init': False, 'net_arch': 'small', 'activation_fn': 'relu'}. Best is trial 0 with value: 0.0.\u001b[0m\n",
      "c:\\Users\\kaine\\Anaconda3\\envs\\diss_test\\lib\\site-packages\\stable_baselines3\\common\\callbacks.py:403: UserWarning: Training and eval env are not of the same type<stable_baselines3.common.vec_env.vec_transpose.VecTransposeImage object at 0x0000024E47D68B20> != <stable_baselines3.common.vec_env.dummy_vec_env.DummyVecEnv object at 0x0000024E4D6CEFA0>\n",
      "  warnings.warn(\"Training and eval env are not of the same type\" f\"{self.training_env} != {self.eval_env}\")\n",
      "\u001b[32m[I 2023-04-27 09:23:25,602]\u001b[0m Trial 24 finished with value: 0.0 and parameters: {'gamma': 0.995, 'normalize_advantage': False, 'max_grad_norm': 0.7, 'use_rms_prop': True, 'gae_lambda': 0.99, 'n_steps': 2048, 'lr_schedule': 'linear', 'learning_rate': 0.05453512652403082, 'ent_coef': 0.015542916919819592, 'vf_coef': 0.9750491827247161, 'ortho_init': False, 'net_arch': 'small', 'activation_fn': 'relu'}. Best is trial 0 with value: 0.0.\u001b[0m\n",
      "c:\\Users\\kaine\\Anaconda3\\envs\\diss_test\\lib\\site-packages\\stable_baselines3\\common\\callbacks.py:403: UserWarning: Training and eval env are not of the same type<stable_baselines3.common.vec_env.vec_transpose.VecTransposeImage object at 0x0000024E4D6CD5E0> != <stable_baselines3.common.vec_env.dummy_vec_env.DummyVecEnv object at 0x0000024E47D68EE0>\n",
      "  warnings.warn(\"Training and eval env are not of the same type\" f\"{self.training_env} != {self.eval_env}\")\n",
      "\u001b[33m[W 2023-04-27 09:47:26,390]\u001b[0m Trial 25 failed with parameters: {'gamma': 0.95, 'normalize_advantage': False, 'max_grad_norm': 0.9, 'use_rms_prop': True, 'gae_lambda': 0.92, 'n_steps': 2048, 'lr_schedule': 'linear', 'learning_rate': 0.0029635357662114578, 'ent_coef': 0.001213426480579165, 'vf_coef': 0.8095917079050352, 'ortho_init': False, 'net_arch': 'small', 'activation_fn': 'relu'} because of the following error: KeyboardInterrupt().\u001b[0m\n",
      "Traceback (most recent call last):\n",
      "  File \"c:\\Users\\kaine\\Anaconda3\\envs\\diss_test\\lib\\site-packages\\optuna\\study\\_optimize.py\", line 200, in _run_trial\n",
      "    value_or_values = func(trial)\n",
      "  File \"C:\\Users\\kaine\\AppData\\Local\\Temp\\ipykernel_19264\\2746153015.py\", line 20, in Objective\n",
      "    model.learn(N_TIMESTEPS, callback=eval_callback)\n",
      "  File \"c:\\Users\\kaine\\Anaconda3\\envs\\diss_test\\lib\\site-packages\\stable_baselines3\\a2c\\a2c.py\", line 194, in learn\n",
      "    return super().learn(\n",
      "  File \"c:\\Users\\kaine\\Anaconda3\\envs\\diss_test\\lib\\site-packages\\stable_baselines3\\common\\on_policy_algorithm.py\", line 250, in learn\n",
      "    continue_training = self.collect_rollouts(self.env, callback, self.rollout_buffer, n_rollout_steps=self.n_steps)\n",
      "  File \"c:\\Users\\kaine\\Anaconda3\\envs\\diss_test\\lib\\site-packages\\stable_baselines3\\common\\on_policy_algorithm.py\", line 184, in collect_rollouts\n",
      "    if callback.on_step() is False:\n",
      "  File \"c:\\Users\\kaine\\Anaconda3\\envs\\diss_test\\lib\\site-packages\\stable_baselines3\\common\\callbacks.py\", line 104, in on_step\n",
      "    return self._on_step()\n",
      "  File \"C:\\Users\\kaine\\AppData\\Local\\Temp\\ipykernel_19264\\2940768040.py\", line 26, in _on_step\n",
      "    super()._on_step()\n",
      "  File \"c:\\Users\\kaine\\Anaconda3\\envs\\diss_test\\lib\\site-packages\\stable_baselines3\\common\\callbacks.py\", line 449, in _on_step\n",
      "    episode_rewards, episode_lengths = evaluate_policy(\n",
      "  File \"c:\\Users\\kaine\\Anaconda3\\envs\\diss_test\\lib\\site-packages\\stable_baselines3\\common\\evaluation.py\", line 88, in evaluate_policy\n",
      "    actions, states = model.predict(observations, state=states, episode_start=episode_starts, deterministic=deterministic)\n",
      "  File \"c:\\Users\\kaine\\Anaconda3\\envs\\diss_test\\lib\\site-packages\\stable_baselines3\\common\\base_class.py\", line 539, in predict\n",
      "    return self.policy.predict(observation, state, episode_start, deterministic)\n",
      "  File \"c:\\Users\\kaine\\Anaconda3\\envs\\diss_test\\lib\\site-packages\\stable_baselines3\\common\\policies.py\", line 346, in predict\n",
      "    actions = self._predict(observation, deterministic=deterministic)\n",
      "  File \"c:\\Users\\kaine\\Anaconda3\\envs\\diss_test\\lib\\site-packages\\stable_baselines3\\common\\policies.py\", line 676, in _predict\n",
      "    return self.get_distribution(observation).get_actions(deterministic=deterministic)\n",
      "  File \"c:\\Users\\kaine\\Anaconda3\\envs\\diss_test\\lib\\site-packages\\stable_baselines3\\common\\policies.py\", line 709, in get_distribution\n",
      "    features = super().extract_features(obs, self.pi_features_extractor)\n",
      "  File \"c:\\Users\\kaine\\Anaconda3\\envs\\diss_test\\lib\\site-packages\\stable_baselines3\\common\\policies.py\", line 130, in extract_features\n",
      "    return features_extractor(preprocessed_obs)\n",
      "  File \"c:\\Users\\kaine\\Anaconda3\\envs\\diss_test\\lib\\site-packages\\torch\\nn\\modules\\module.py\", line 1501, in _call_impl\n",
      "    return forward_call(*args, **kwargs)\n",
      "  File \"c:\\Users\\kaine\\Anaconda3\\envs\\diss_test\\lib\\site-packages\\stable_baselines3\\common\\torch_layers.py\", line 102, in forward\n",
      "    return self.linear(self.cnn(observations))\n",
      "  File \"c:\\Users\\kaine\\Anaconda3\\envs\\diss_test\\lib\\site-packages\\torch\\nn\\modules\\module.py\", line 1501, in _call_impl\n",
      "    return forward_call(*args, **kwargs)\n",
      "  File \"c:\\Users\\kaine\\Anaconda3\\envs\\diss_test\\lib\\site-packages\\torch\\nn\\modules\\container.py\", line 217, in forward\n",
      "    input = module(input)\n",
      "  File \"c:\\Users\\kaine\\Anaconda3\\envs\\diss_test\\lib\\site-packages\\torch\\nn\\modules\\module.py\", line 1501, in _call_impl\n",
      "    return forward_call(*args, **kwargs)\n",
      "  File \"c:\\Users\\kaine\\Anaconda3\\envs\\diss_test\\lib\\site-packages\\torch\\nn\\modules\\linear.py\", line 114, in forward\n",
      "    return F.linear(input, self.weight, self.bias)\n",
      "KeyboardInterrupt\n",
      "\u001b[33m[W 2023-04-27 09:47:26,393]\u001b[0m Trial 25 failed with value None.\u001b[0m\n"
     ]
    }
   ],
   "source": [
    "torch.set_num_threads(1)\n",
    "sampler = TPESampler(n_startup_trials=N_STARTUP_TRIALS)\n",
    "\n",
    "# Do not prune before 1/3 of the max budget is used.\n",
    "pruner = MedianPruner(n_startup_trials=N_STARTUP_TRIALS, n_warmup_steps=N_EVALUATIONS // 3)\n",
    "\n",
    "study = optuna.create_study(sampler=sampler, pruner=pruner, direction=\"maximize\")\n",
    "try:\n",
    "    study.optimize(Objective, n_trials=N_TRIALS)\n",
    "except KeyboardInterrupt:\n",
    "    pass"
   ]
  },
  {
   "cell_type": "code",
   "execution_count": 16,
   "metadata": {},
   "outputs": [
    {
     "name": "stdout",
     "output_type": "stream",
     "text": [
      "Number of finished trials:  26\n",
      "Best trial:\n",
      "  Value:  0.0\n",
      "  Params: \n",
      "    gamma: 0.95\n",
      "    normalize_advantage: False\n",
      "    max_grad_norm: 0.6\n",
      "    use_rms_prop: False\n",
      "    gae_lambda: 0.92\n",
      "    n_steps: 2048\n",
      "    lr_schedule: linear\n",
      "    learning_rate: 0.005826055348716905\n",
      "    ent_coef: 0.0018210429873563904\n",
      "    vf_coef: 0.28496635077750554\n",
      "    ortho_init: True\n",
      "    net_arch: small\n",
      "    activation_fn: relu\n"
     ]
    }
   ],
   "source": [
    "print(\"Number of finished trials: \", len(study.trials))\n",
    "\n",
    "print(\"Best trial:\")\n",
    "trial = study.best_trial\n",
    "\n",
    "print(\"  Value: \", trial.value)\n",
    "\n",
    "print(\"  Params: \")\n",
    "for key, value in trial.params.items():\n",
    "    print(\"    {}: {}\".format(key, value))\n",
    "\n",
    "#print(\"  User attrs:\")\n",
    "#for key, value in trial.user_attrs.items():\n",
    "    #print(\"    {}: {}\".format(key, value))"
   ]
  },
  {
   "cell_type": "code",
   "execution_count": 18,
   "metadata": {},
   "outputs": [
    {
     "name": "stdout",
     "output_type": "stream",
     "text": [
      "Error during plotting\n",
      "Encountered zero total variance in all trees.\n"
     ]
    }
   ],
   "source": [
    "try:\n",
    "    fig1 = plot_optimization_history(study)\n",
    "    fig2 = plot_param_importances(study)\n",
    "    fig3 = plot_parallel_coordinate(study)\n",
    "\n",
    "    fig1.show()\n",
    "    fig2.show()\n",
    "    fig3.show()\n",
    "\n",
    "except (ValueError, ImportError, RuntimeError) as e:\n",
    "    print(\"Error during plotting\")\n",
    "    print(e)"
   ]
  }
 ],
 "metadata": {
  "kernelspec": {
   "display_name": "diss_test",
   "language": "python",
   "name": "python3"
  },
  "language_info": {
   "codemirror_mode": {
    "name": "ipython",
    "version": 3
   },
   "file_extension": ".py",
   "mimetype": "text/x-python",
   "name": "python",
   "nbconvert_exporter": "python",
   "pygments_lexer": "ipython3",
   "version": "3.8.16"
  },
  "orig_nbformat": 4,
  "vscode": {
   "interpreter": {
    "hash": "446b1c203245c064c2908e8abdfb1e57df7db4ab26ac91db6f10a772441873ec"
   }
  }
 },
 "nbformat": 4,
 "nbformat_minor": 2
}
